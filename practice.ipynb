{
 "cells": [
  {
   "cell_type": "code",
   "execution_count": 2,
   "id": "8ac9ff5c",
   "metadata": {},
   "outputs": [
    {
     "name": "stdout",
     "output_type": "stream",
     "text": [
      "hellow\n"
     ]
    }
   ],
   "source": [
    "print('hellow')"
   ]
  },
  {
   "cell_type": "code",
   "execution_count": 3,
   "id": "a17eff8b",
   "metadata": {},
   "outputs": [
    {
     "ename": "NameError",
     "evalue": "name 'hello' is not defined",
     "output_type": "error",
     "traceback": [
      "\u001b[0;31m---------------------------------------------------------------------------\u001b[0m",
      "\u001b[0;31mNameError\u001b[0m                                 Traceback (most recent call last)",
      "Cell \u001b[0;32mIn[3], line 1\u001b[0m\n\u001b[0;32m----> 1\u001b[0m \u001b[43mhello\u001b[49m\n",
      "\u001b[0;31mNameError\u001b[0m: name 'hello' is not defined"
     ]
    }
   ],
   "source": [
    "hello"
   ]
  },
  {
   "cell_type": "code",
   "execution_count": 4,
   "id": "3ebdb2c4",
   "metadata": {},
   "outputs": [
    {
     "data": {
      "text/plain": [
       "'hello'"
      ]
     },
     "execution_count": 4,
     "metadata": {},
     "output_type": "execute_result"
    }
   ],
   "source": [
    "\"hello\""
   ]
  },
  {
   "cell_type": "code",
   "execution_count": 5,
   "id": "d180b278",
   "metadata": {},
   "outputs": [
    {
     "data": {
      "text/plain": [
       "'hello'"
      ]
     },
     "execution_count": 5,
     "metadata": {},
     "output_type": "execute_result"
    }
   ],
   "source": [
    "'hello'"
   ]
  },
  {
   "cell_type": "code",
   "execution_count": 6,
   "id": "d4ff37ff",
   "metadata": {},
   "outputs": [
    {
     "name": "stdout",
     "output_type": "stream",
     "text": [
      "hello jupy\n"
     ]
    }
   ],
   "source": [
    "print(\"hello jupy\")"
   ]
  },
  {
   "cell_type": "code",
   "execution_count": 10,
   "id": "8fb38a7b",
   "metadata": {},
   "outputs": [
    {
     "ename": "TypeError",
     "evalue": "decoding str is not supported",
     "output_type": "error",
     "traceback": [
      "\u001b[0;31m---------------------------------------------------------------------------\u001b[0m",
      "\u001b[0;31mTypeError\u001b[0m                                 Traceback (most recent call last)",
      "Cell \u001b[0;32mIn[10], line 1\u001b[0m\n\u001b[0;32m----> 1\u001b[0m \u001b[38;5;28;43mstr\u001b[39;49m\u001b[43m(\u001b[49m\u001b[38;5;124;43m'\u001b[39;49m\u001b[38;5;124;43m5\u001b[39;49m\u001b[38;5;124;43m'\u001b[39;49m\u001b[43m,\u001b[49m\u001b[43m \u001b[49m\u001b[38;5;124;43m'\u001b[39;49m\u001b[38;5;124;43m3.5\u001b[39;49m\u001b[38;5;124;43m'\u001b[39;49m\u001b[43m,\u001b[49m\u001b[43m \u001b[49m\u001b[38;5;124;43m'\u001b[39;49m\u001b[38;5;124;43m6\u001b[39;49m\u001b[38;5;124;43m'\u001b[39;49m\u001b[43m)\u001b[49m\n",
      "\u001b[0;31mTypeError\u001b[0m: decoding str is not supported"
     ]
    }
   ],
   "source": [
    "str('5', '3.5', 'true')\n",
    "int()\n",
    "float()\n",
    "boolean()\n",
    "str\n"
   ]
  },
  {
   "cell_type": "code",
   "execution_count": 11,
   "id": "f80ed56d",
   "metadata": {},
   "outputs": [
    {
     "data": {
      "text/plain": [
       "'string is love'"
      ]
     },
     "execution_count": 11,
     "metadata": {},
     "output_type": "execute_result"
    }
   ],
   "source": [
    "a= 'string is love'\n",
    "a"
   ]
  },
  {
   "cell_type": "code",
   "execution_count": 12,
   "id": "9374d2f4",
   "metadata": {},
   "outputs": [
    {
     "data": {
      "text/plain": [
       "True"
      ]
     },
     "execution_count": 12,
     "metadata": {},
     "output_type": "execute_result"
    }
   ],
   "source": [
    "'s' in a"
   ]
  },
  {
   "cell_type": "code",
   "execution_count": null,
   "id": "f1fe5536",
   "metadata": {},
   "outputs": [],
   "source": [
    "str('5', '3.5', 'true')\n",
    "int()\n",
    "float()\n",
    "boolean()\n",
    "str"
   ]
  },
  {
   "cell_type": "code",
   "execution_count": null,
   "id": "86fbd094",
   "metadata": {},
   "outputs": [],
   "source": [
    "\n",
    "print(\"hello jupyter\")\n",
    "\n",
    "\n",
    "\n",
    "\n",
    "\n",
    "\n",
    "\n",
    "\n",
    "\n"
   ]
  },
  {
   "cell_type": "code",
   "execution_count": null,
   "id": "1609b06a",
   "metadata": {},
   "outputs": [],
   "source": []
  },
  {
   "cell_type": "code",
   "execution_count": 1,
   "id": "f6a8fa9b",
   "metadata": {},
   "outputs": [],
   "source": [
    "#Python Webcube youtube channel"
   ]
  },
  {
   "cell_type": "code",
   "execution_count": null,
   "id": "62173bd3",
   "metadata": {},
   "outputs": [],
   "source": [
    "num1=5\n",
    "num2=8\n",
    "print(\" the sum of given 2 numbers is\", num1+num2)"
   ]
  },
  {
   "cell_type": "code",
   "execution_count": 2,
   "id": "fa5ab60e",
   "metadata": {},
   "outputs": [
    {
     "name": "stdout",
     "output_type": "stream",
     "text": [
      " the sum of given 2 numbers is 13\n"
     ]
    }
   ],
   "source": [
    "num1=5\n",
    "num2=8\n",
    "sum=num1+num2\n",
    "print(\" the sum of given 2 numbers is:\", sum)"
   ]
  },
  {
   "cell_type": "code",
   "execution_count": 3,
   "id": "068b85a0",
   "metadata": {},
   "outputs": [
    {
     "name": "stdout",
     "output_type": "stream",
     "text": [
      "34\n",
      "45\n",
      " the sum of given 2 numbers is: 79\n"
     ]
    }
   ],
   "source": [
    "print(\" the sum of given 2 numbers is:\", int(input())+int(input()))"
   ]
  },
  {
   "cell_type": "code",
   "execution_count": 5,
   "id": "86ff309a",
   "metadata": {},
   "outputs": [
    {
     "name": "stdout",
     "output_type": "stream",
     "text": [
      "67\n",
      "69\n",
      "ui\n",
      "ui\n",
      "first number is 67 second number is 69  the sum of given 2 numbers is: uiui\n"
     ]
    }
   ],
   "source": [
    "print(\"first number is\",input(), \"second number is\", input() ,\" the sum of given 2 numbers is:\", input()+input())"
   ]
  },
  {
   "cell_type": "code",
   "execution_count": 6,
   "id": "f545e8f6",
   "metadata": {},
   "outputs": [
    {
     "name": "stdout",
     "output_type": "stream",
     "text": [
      "enter num1:34\n",
      "Enter num2:34\n",
      " the sum of given 2 numbers is: 13\n"
     ]
    }
   ],
   "source": [
    "float(input(\"enter num1:\"))\n",
    "float(input(\"Enter num2:\"))\n",
    "sum=num1+num2\n",
    "print(\" the sum of given 2 numbers is:\", sum)"
   ]
  },
  {
   "cell_type": "code",
   "execution_count": 14,
   "id": "02e61cc6",
   "metadata": {},
   "outputs": [
    {
     "ename": "SyntaxError",
     "evalue": "invalid syntax (2299778790.py, line 3)",
     "output_type": "error",
     "traceback": [
      "\u001b[0;36m  Cell \u001b[0;32mIn[14], line 3\u001b[0;36m\u001b[0m\n\u001b[0;31m    print(\" the sum of given 2 numbers is:\", sum, end \" \")\u001b[0m\n\u001b[0m                                                      ^\u001b[0m\n\u001b[0;31mSyntaxError\u001b[0m\u001b[0;31m:\u001b[0m invalid syntax\n"
     ]
    }
   ],
   "source": [
    "num1, num2= 23, 78\n",
    "sum=num1+num2\n",
    "print(\" the sum of given 2 numbers is:\", sum, end \" \")\n",
    "print(\" the sum of given 2 numbers is:\", sum)"
   ]
  },
  {
   "cell_type": "code",
   "execution_count": 16,
   "id": "98103847",
   "metadata": {},
   "outputs": [
    {
     "name": "stdout",
     "output_type": "stream",
     "text": [
      "enter the number:23\n",
      "square root f the given number is: 4.795831523312719\n"
     ]
    }
   ],
   "source": [
    "# find the square root of the number\n",
    "num=int(input(\"enter the number:\"))\n",
    "sr=num**(1/2)\n",
    "print(\"square root of the given number is:\", sr)"
   ]
  },
  {
   "cell_type": "code",
   "execution_count": 23,
   "id": "86aeac7a",
   "metadata": {},
   "outputs": [
    {
     "name": "stdout",
     "output_type": "stream",
     "text": [
      "enter number54\n",
      "the square root of the given number is: 7.3484692283495345\n"
     ]
    }
   ],
   "source": [
    " print(\"the square root of the given number is:\", float(input(\"enter number\"))**(1/2))"
   ]
  },
  {
   "cell_type": "code",
   "execution_count": 24,
   "id": "d3f79003",
   "metadata": {},
   "outputs": [
    {
     "name": "stdout",
     "output_type": "stream",
     "text": [
      "8.0\n"
     ]
    }
   ],
   "source": [
    "# Area of the trangle\n",
    "height=4\n",
    "base=4\n",
    "area=1/2*height*base\n",
    "print(area)"
   ]
  },
  {
   "cell_type": "code",
   "execution_count": 26,
   "id": "de1ecfba",
   "metadata": {},
   "outputs": [
    {
     "name": "stdout",
     "output_type": "stream",
     "text": [
      "height:3\n",
      "base:7\n",
      "Area of trangle is 10.5\n"
     ]
    }
   ],
   "source": [
    "print(\"Area of trangle is\", int(input(\"height:\"))*int(input(\"base:\"))*0.5)"
   ]
  },
  {
   "cell_type": "code",
   "execution_count": 1,
   "id": "7c9b9b33",
   "metadata": {},
   "outputs": [
    {
     "name": "stdout",
     "output_type": "stream",
     "text": [
      "values of x and y before swapping are: 5 8\n",
      "values of x and y after swapping are: 8 5\n"
     ]
    }
   ],
   "source": [
    "# swap the two veriables\n",
    "x=5\n",
    "y=8\n",
    "temp=x\n",
    "print(\"values of x and y before swapping are:\", x, y)\n",
    "x=y\n",
    "y=temp\n",
    "print(\"values of x and y after swapping are:\", x,y)\n"
   ]
  },
  {
   "cell_type": "code",
   "execution_count": 12,
   "id": "b7487985",
   "metadata": {},
   "outputs": [
    {
     "name": "stdout",
     "output_type": "stream",
     "text": [
      "value of X: 5 value of y: 8\n",
      "value of X: 8 value of y: 5\n"
     ]
    }
   ],
   "source": [
    "x, y=5,8\n",
    "print(\"value of X:\",x \n",
    "      , \"value of y:\", y)\n",
    "x,y=y,x\n",
    "print(\"value of X:\",x, \"value of y:\", y)"
   ]
  },
  {
   "cell_type": "code",
   "execution_count": 1,
   "id": "fb37b51e",
   "metadata": {},
   "outputs": [
    {
     "name": "stdout",
     "output_type": "stream",
     "text": [
      "Enter your value in kms:4\n",
      "4.0 kms will be 2.485484 miles\n"
     ]
    }
   ],
   "source": [
    "km = float(input(\"Enter your value in kms:\"))\n",
    "\n",
    "miles = (0.621371)*km\n",
    "\n",
    "print (km, \"kms will be\", miles, \"miles\")"
   ]
  },
  {
   "cell_type": "code",
   "execution_count": 2,
   "id": "ecf4ac7a",
   "metadata": {},
   "outputs": [
    {
     "name": "stdout",
     "output_type": "stream",
     "text": [
      "enter a number here:6\n",
      "it is a positive number\n"
     ]
    }
   ],
   "source": [
    "num = int(input(\"enter a number here:\"))\n",
    "\n",
    "if num > 0:\n",
    "    print(\"it is a positive number\")\n",
    "elif num ==0:\n",
    "    print(\"Given number is a zero\")\n",
    "else:\n",
    "    print(\"it is a negative number\")"
   ]
  },
  {
   "cell_type": "code",
   "execution_count": 3,
   "id": "e76e823b",
   "metadata": {},
   "outputs": [
    {
     "ename": "SyntaxError",
     "evalue": "invalid syntax (188569239.py, line 6)",
     "output_type": "error",
     "traceback": [
      "\u001b[0;36m  Cell \u001b[0;32mIn[3], line 6\u001b[0;36m\u001b[0m\n\u001b[0;31m    elif num ==0:\u001b[0m\n\u001b[0m    ^\u001b[0m\n\u001b[0;31mSyntaxError\u001b[0m\u001b[0;31m:\u001b[0m invalid syntax\n"
     ]
    }
   ],
   "source": [
    "num = int(input(\"enter a number here:\"))\n",
    "\n",
    "if num > 0:\n",
    "    print(\"it is a positive number\")\n",
    "    \n",
    "    elif num ==0:\n",
    "    print(\"Given number is a zero\")\n",
    "    else:\n",
    "    print(\"it is a negative number\")"
   ]
  },
  {
   "cell_type": "code",
   "execution_count": 4,
   "id": "2cf7d225",
   "metadata": {},
   "outputs": [
    {
     "name": "stdout",
     "output_type": "stream",
     "text": [
      " Enter a number:8\n",
      "it is an even number:\n"
     ]
    }
   ],
   "source": [
    "# Even or odd number\n",
    "\n",
    "num = int(input(\" Enter a number:\"))\n",
    "\n",
    "if num % 2 == 0:\n",
    "    print(\"it is an even number:\")\n",
    "else:\n",
    "    print(\" It is an odd number\")"
   ]
  },
  {
   "cell_type": "code",
   "execution_count": 7,
   "id": "6666b1df",
   "metadata": {},
   "outputs": [
    {
     "name": "stdout",
     "output_type": "stream",
     "text": [
      "enter a year:1992\n",
      "1992  is not a leap year\n"
     ]
    }
   ],
   "source": [
    "# year is elap yearor not\n",
    "\n",
    "year = int(input(\"enter a year:\"))\n",
    "\n",
    "if (year % 400 == 0) and (year % 100 ==0):\n",
    "    print(year ,\" is a leap year\")\n",
    "    \n",
    "elif(year %4==0)and (year % 100 == 0):\n",
    "    print(year, \" is a leap year\")\n",
    "    \n",
    "else:\n",
    "    print(year,\" is not a leap year\")"
   ]
  },
  {
   "cell_type": "code",
   "execution_count": 10,
   "id": "f6d152ef",
   "metadata": {},
   "outputs": [
    {
     "name": "stdout",
     "output_type": "stream",
     "text": [
      "enter a number:8\n",
      "it is not a prime number\n"
     ]
    }
   ],
   "source": [
    "#prime number\n",
    "\n",
    "num = int(input(\"enter a number:\"))\n",
    "if num == 1:\n",
    "    print(\" Givn number is not a prime number\")\n",
    "if num>1:\n",
    "    for i in range (2, num):\n",
    "        if num % i == 0:\n",
    "            print(\"it is not a prime number\")\n",
    "            break\n",
    "    else:\n",
    "        print(\"it is a prime number\")"
   ]
  },
  {
   "cell_type": "code",
   "execution_count": 11,
   "id": "ba5545ba",
   "metadata": {},
   "outputs": [
    {
     "name": "stdout",
     "output_type": "stream",
     "text": [
      "3\n"
     ]
    }
   ],
   "source": [
    "# python program to generate a random number\n",
    "\n",
    "import random\n",
    "num= random.randint(1,8)\n",
    "print(num)"
   ]
  },
  {
   "cell_type": "code",
   "execution_count": 15,
   "id": "de28a229",
   "metadata": {},
   "outputs": [
    {
     "name": "stdout",
     "output_type": "stream",
     "text": [
      "enter upper limit:8\n",
      "enter lower limit:45\n",
      "11\n",
      "13\n",
      "17\n",
      "19\n",
      "23\n",
      "29\n",
      "31\n",
      "37\n",
      "41\n",
      "43\n"
     ]
    }
   ],
   "source": [
    "# Print all prime numbers in given interval\n",
    "lower = int(input(\"enter upper limit:\"))\n",
    "upper = int(input(\"enter lower limit:\"))\n",
    "\n",
    "for num in range(lower,upper+1):\n",
    "    for i in range(2,num):\n",
    "        if num%i == 0:\n",
    "            break\n",
    "    else:\n",
    "        print(num)\n"
   ]
  },
  {
   "cell_type": "code",
   "execution_count": 23,
   "id": "150ab424",
   "metadata": {},
   "outputs": [
    {
     "name": "stdout",
     "output_type": "stream",
     "text": [
      "entert temperature in celsious:7\n",
      "7 celsius is  44.6 faranheit\n"
     ]
    }
   ],
   "source": [
    "# Program to convert celcious to Fahrenhet\n",
    "Celsius = int(input(\"entert temperature in celsious:\"))\n",
    "faranheit= (Celsius*(1.8))+32\n",
    "print(Celsius, \"celsius is \",faranheit ,\"faranheit\")"
   ]
  },
  {
   "cell_type": "code",
   "execution_count": 25,
   "id": "d5d30093",
   "metadata": {},
   "outputs": [
    {
     "name": "stdout",
     "output_type": "stream",
     "text": [
      "6\n",
      "6 x 1 = 6\n",
      "6 x 2 = 12\n",
      "6 x 3 = 18\n",
      "6 x 4 = 24\n",
      "6 x 5 = 30\n",
      "6 x 6 = 36\n",
      "6 x 7 = 42\n",
      "6 x 8 = 48\n",
      "6 x 9 = 54\n",
      "6 x 10 = 60\n"
     ]
    }
   ],
   "source": [
    "# Program to display the multiplication table\n",
    "n=int(input())\n",
    "for i in range(1,11):\n",
    "    print(n , \"x\", i, \"=\", n*i)\n"
   ]
  },
  {
   "cell_type": "code",
   "execution_count": 1,
   "id": "fc8f6df0",
   "metadata": {},
   "outputs": [
    {
     "name": "stdout",
     "output_type": "stream",
     "text": [
      "19 x 1 = 19\n",
      "19 x 2 = 38\n",
      "19 x 3 = 57\n",
      "19 x 4 = 76\n",
      "19 x 5 = 95\n",
      "19 x 6 = 114\n",
      "19 x 7 = 133\n",
      "19 x 8 = 152\n",
      "19 x 9 = 171\n",
      "19 x 10 = 190\n"
     ]
    }
   ],
   "source": [
    "n=19\n",
    "i=1\n",
    "while i<=10:\n",
    "    print(n ,\"x\",i, \"=\", n*i )\n",
    "    i+=1"
   ]
  },
  {
   "cell_type": "code",
   "execution_count": 3,
   "id": "61078aa4",
   "metadata": {},
   "outputs": [
    {
     "name": "stdout",
     "output_type": "stream",
     "text": [
      "enter a number5\n",
      "factorial of given number is 120\n"
     ]
    }
   ],
   "source": [
    "\n",
    "# Find the Factorial of given number\n",
    "num= int(input(\"enter a number\"))\n",
    "fact = 1\n",
    "\n",
    "if num<0:\n",
    "    print (\"factorial of o does not exist\")\n",
    "if num == 0:\n",
    "    print(\"factorial of o is \", 1)\n",
    "if num > 0:\n",
    "    for i in range (1, num+1):\n",
    "        fact = fact * i\n",
    "print(\"factorial of given number is\", fact)\n",
    "      "
   ]
  },
  {
   "cell_type": "code",
   "execution_count": 8,
   "id": "4aa8b062",
   "metadata": {},
   "outputs": [
    {
     "name": "stdout",
     "output_type": "stream",
     "text": [
      "enter  number here:5\n",
      "The factorial of the given number is 120\n"
     ]
    }
   ],
   "source": [
    "def fact(a):\n",
    "    \n",
    "    if a == 0:\n",
    "        return 1\n",
    "    else:\n",
    "        return ((a)*fact(a-1))\n",
    "num = int(input(\"enter  number here:\"))\n",
    "result=fact(num)\n",
    "print(\"The factorial of the given number is\", result)"
   ]
  },
  {
   "cell_type": "code",
   "execution_count": 2,
   "id": "b9e1c855",
   "metadata": {},
   "outputs": [
    {
     "name": "stdout",
     "output_type": "stream",
     "text": [
      "enter the number :9\n",
      "sum of the natural numbers up to given number: 45\n"
     ]
    }
   ],
   "source": [
    "num = int(input(\"enter the number :\"))\n",
    "if num<0:\n",
    "    print ('please enter positive number')\n",
    "else: \n",
    "    sum=0\n",
    "    while num>0:\n",
    "        sum +=num\n",
    "        num -=1\n",
    "    print(\"sum of the natural numbers up to given number:\", sum)\n",
    "    "
   ]
  },
  {
   "cell_type": "code",
   "execution_count": 5,
   "id": "a9b9cf7f",
   "metadata": {},
   "outputs": [
    {
     "name": "stdout",
     "output_type": "stream",
     "text": [
      "enter a number:3\n",
      "sum of the all natural numbers upto given number is 6\n"
     ]
    }
   ],
   "source": [
    "num=int(input(\"enter a number:\"))\n",
    "sum=0\n",
    "if num<0:\n",
    "    print(\"enter a positive number\")\n",
    "for i in range(1, num+1):\n",
    "    sum=sum+i\n",
    "    i-=1\n",
    "print(\"sum of the all natural numbers upto given number is\",sum)"
   ]
  },
  {
   "cell_type": "code",
   "execution_count": 10,
   "id": "7804e290",
   "metadata": {},
   "outputs": [
    {
     "name": "stdout",
     "output_type": "stream",
     "text": [
      "enter a number:153\n",
      "armstrong number\n"
     ]
    }
   ],
   "source": [
    "# Armstrong number in an interval  \n",
    "num=int(input(\"enter a number:\"))\n",
    "sum=0\n",
    "temp=num\n",
    "while temp>0:\n",
    "    \n",
    "    digit=temp%10\n",
    "    sum +=digit ** 3\n",
    "    temp//=10\n",
    "if num==sum:\n",
    "    print(\"armstrong number\")\n",
    "else:\n",
    "    print(\"not armstrong number\")"
   ]
  },
  {
   "cell_type": "code",
   "execution_count": 11,
   "id": "ca88573f",
   "metadata": {},
   "outputs": [
    {
     "name": "stdout",
     "output_type": "stream",
     "text": [
      "enter number of terms here:7\n",
      "[1, 2, 4, 8, 16, 32, 64, 128]\n"
     ]
    }
   ],
   "source": [
    "# python program to display \n",
    "#powers of 2 using Anonymous Function\n",
    "nterms= int(input(\"enter number of terms here:\"))\n",
    "result=list(map(lambda x:2**x, range(nterms+1)))\n",
    "print(result)"
   ]
  },
  {
   "cell_type": "code",
   "execution_count": 13,
   "id": "9c0feb7a",
   "metadata": {},
   "outputs": [
    {
     "name": "stdout",
     "output_type": "stream",
     "text": [
      "enter number of terms here:7\n",
      "the value of 2 raised to power 0 is 1\n",
      "the value of 2 raised to power 1 is 2\n",
      "the value of 2 raised to power 2 is 4\n",
      "the value of 2 raised to power 3 is 8\n",
      "the value of 2 raised to power 4 is 16\n",
      "the value of 2 raised to power 5 is 32\n",
      "the value of 2 raised to power 6 is 64\n",
      "the value of 2 raised to power 7 is 128\n"
     ]
    }
   ],
   "source": [
    "nterms= int(input(\"enter number of terms here:\"))\n",
    "result=list(map(lambda x:2**x, range(nterms+1)))\n",
    "for i in range (nterms +1):\n",
    "    \n",
    "    print(\"the value of 2 raised to power\", i, \"is\", result[i])"
   ]
  },
  {
   "cell_type": "code",
   "execution_count": 2,
   "id": "b6568278",
   "metadata": {},
   "outputs": [
    {
     "name": "stdout",
     "output_type": "stream",
     "text": [
      "the numbers divisible by 13 are:\n",
      "13\n",
      "26\n",
      "39\n",
      "52\n",
      "65\n",
      "78\n",
      "91\n"
     ]
    }
   ],
   "source": [
    "#python program to find numbers divisible by another number\n",
    "print(\"the numbers divisible by 13 are:\")\n",
    "for i in range(1,100):\n",
    "    if i%13==0:\n",
    "        print(i)"
   ]
  },
  {
   "cell_type": "code",
   "execution_count": 4,
   "id": "b083985b",
   "metadata": {},
   "outputs": [
    {
     "name": "stdout",
     "output_type": "stream",
     "text": [
      "numbers divisible by 13 are : [13, 45, 26, 39, 67, 52]\n"
     ]
    }
   ],
   "source": [
    "l=[13,45, 26, 39, 67, 52]\n",
    "result=list( filter(lambda x: x%13==0, l))\n",
    "print(\"numbers divisible by 13 are :\", l)"
   ]
  },
  {
   "cell_type": "code",
   "execution_count": 7,
   "id": "c3839849",
   "metadata": {},
   "outputs": [
    {
     "name": "stdout",
     "output_type": "stream",
     "text": [
      "enter a number here:6\n",
      "the conversion of decimal number 6 is:\n",
      "0b110 in binary\n",
      "0o6 in octal\n",
      "0x6 in hexadecimal\n"
     ]
    }
   ],
   "source": [
    "#Python program tocovert decimal to binal octal to hexadecimal\n",
    "decimal= int(input(\"enter a number here:\"))\n",
    "print(\"the conversion of decimal number\", decimal, \"is:\")\n",
    "print(bin(decimal), \"in binary\")\n",
    "print(oct(decimal), \"in octal\")\n",
    "print(hex(decimal), \"in hexadecimal\")"
   ]
  },
  {
   "cell_type": "code",
   "execution_count": 8,
   "id": "025a050b",
   "metadata": {},
   "outputs": [
    {
     "name": "stdout",
     "output_type": "stream",
     "text": [
      "37\n"
     ]
    }
   ],
   "source": [
    "# python program to find ASCII value of character\n",
    "char= \"%\"\n",
    "print(ord(char))"
   ]
  },
  {
   "cell_type": "code",
   "execution_count": 9,
   "id": "a29ecfc3",
   "metadata": {},
   "outputs": [
    {
     "data": {
      "text/plain": [
       "33"
      ]
     },
     "execution_count": 9,
     "metadata": {},
     "output_type": "execute_result"
    }
   ],
   "source": [
    "char = \"!\"\n",
    "ord(char)"
   ]
  },
  {
   "cell_type": "code",
   "execution_count": 10,
   "id": "d01b932a",
   "metadata": {},
   "outputs": [
    {
     "name": "stdout",
     "output_type": "stream",
     "text": [
      "the hcf of the given number is 4\n"
     ]
    }
   ],
   "source": [
    "#python program to find HCF or GCD\n",
    "def hcf(x,y):\n",
    "    if x>y:\n",
    "        smaller=y\n",
    "    else:\n",
    "        smaller=x\n",
    "    for i in range(1, smaller+1):\n",
    "        if ((x%i==0) and (y%i==0)):\n",
    "            hcf=i\n",
    "    \n",
    "    return hcf\n",
    "print(\"the hcf of the given number is\", hcf(12,16))\n",
    "        \n",
    "        "
   ]
  },
  {
   "cell_type": "code",
   "execution_count": 19,
   "id": "1c071e80",
   "metadata": {},
   "outputs": [
    {
     "name": "stdout",
     "output_type": "stream",
     "text": [
      "enter a number:43\n",
      "factors of the given numbers are:\n",
      "1,43,"
     ]
    }
   ],
   "source": [
    "# Python program to find the factors of a number\n",
    "num= int (input(\"enter a number:\"))\n",
    "print(\"factors of the given numbers are:\")          \n",
    "for i in range(1, num+1):\n",
    "    if num%i==0:\n",
    "        print (i, end=\",\")"
   ]
  },
  {
   "cell_type": "code",
   "execution_count": 14,
   "id": "a65b1599",
   "metadata": {},
   "outputs": [
    {
     "name": "stdout",
     "output_type": "stream",
     "text": [
      ".......mini calculator........\n",
      "enter first number here:6\n",
      "enter second number here:8\n",
      "press 1 for addition \n",
      " press 2 for subtraction \n",
      "press 3 for multiplication\n",
      "enter yur chice in 1-4:4\n",
      "Division of two given number is 0.75\n"
     ]
    }
   ],
   "source": [
    "#python program to make a simple calculator\n",
    "print(\".......mini calculator........\")\n",
    "num1=int(input(\"enter first number here:\"))\n",
    "num2=int(input(\"enter second number here:\"))\n",
    "print(\"press 1 for addition \\n press 2 for subtraction \\npress 3 for multiplication\")\n",
    "choice= int(input(\"enter yur choice in 1-4:\"))\n",
    "if choice == 1:\n",
    "    print(\"Addition of given two numbers is :\", num1+num2)\n",
    "if choice==2:\n",
    "    print(\"subtraction of given two number is:\", num1-num2)\n",
    "if choice==3:\n",
    "    print(\"multiplication:\", num1*num2)\n",
    "if choice==4:\n",
    "    print(\"Division of two given number is\", num1/num2)\n",
    "else:\n",
    "    (\"Invalid Choice\")"
   ]
  },
  {
   "cell_type": "code",
   "execution_count": 16,
   "id": "74445b92",
   "metadata": {},
   "outputs": [
    {
     "ename": "SyntaxError",
     "evalue": "'(' was never closed (3537084750.py, line 3)",
     "output_type": "error",
     "traceback": [
      "\u001b[0;36m  Cell \u001b[0;32mIn[16], line 3\u001b[0;36m\u001b[0m\n\u001b[0;31m    deck = list(itertools.product(range(1,14),[\"Spade\", \"Club\", \"Hearts\",])\u001b[0m\n\u001b[0m               ^\u001b[0m\n\u001b[0;31mSyntaxError\u001b[0m\u001b[0;31m:\u001b[0m '(' was never closed\n"
     ]
    }
   ],
   "source": [
    "# Python program to shuffle deck of cards:\n",
    "import random, itertools\n",
    "deck = list(itertools.product(range(1,14),[\"Spade\", \"Club\", \"Hearts\",\"\"])\n",
    "random.shuffle(deck)\n",
    "print(deck)\n",
    "for i in rang(5):\n",
    "    print(deck[i][0], \"of\", deck[i][1])"
   ]
  },
  {
   "cell_type": "code",
   "execution_count": 18,
   "id": "f3ebe01e",
   "metadata": {},
   "outputs": [
    {
     "name": "stdout",
     "output_type": "stream",
     "text": [
      "enter a number here:9\n",
      "fibonacci Sequence\n",
      "0\n",
      "1\n",
      "1\n",
      "2\n",
      "3\n",
      "5\n",
      "8\n",
      "13\n",
      "21\n"
     ]
    }
   ],
   "source": [
    "#Python program to display Fibonacci Sequence Using Recursion\n",
    "def fibo(n):\n",
    "    if n<=1:\n",
    "        return n\n",
    "    else:\n",
    "        return fibo(n-1)+fibo(n-2)\n",
    "    \n",
    "n = int(input(\"enter a number here:\"))\n",
    "if n<=0:\n",
    "    print(\"enter a positive number\")\n",
    "else:\n",
    "    print(\"fibonacci Sequence\")\n",
    "    for i in range(n):\n",
    "        print(fibo(i))\n"
   ]
  },
  {
   "cell_type": "code",
   "execution_count": 20,
   "id": "94080dcb",
   "metadata": {},
   "outputs": [
    {
     "name": "stdout",
     "output_type": "stream",
     "text": [
      "enter a year1992\n",
      "enter a month5\n",
      "      May 1992\n",
      "Mo Tu We Th Fr Sa Su\n",
      "             1  2  3\n",
      " 4  5  6  7  8  9 10\n",
      "11 12 13 14 15 16 17\n",
      "18 19 20 21 22 23 24\n",
      "25 26 27 28 29 30 31\n",
      "\n"
     ]
    }
   ],
   "source": [
    "# Python program to Display Calender\n",
    "import calendar\n",
    "year=int(input(\"enter a year\"))\n",
    "month=int(input(\"enter a month\"))\n",
    "\n",
    "calendar = calendar.month(year, month)\n",
    "print (calendar)"
   ]
  },
  {
   "cell_type": "code",
   "execution_count": 21,
   "id": "f9afd539",
   "metadata": {},
   "outputs": [
    {
     "name": "stdout",
     "output_type": "stream",
     "text": [
      "enter a year1992\n",
      "enter a month5\n",
      "      May 1992\n",
      "Mo Tu We Th Fr Sa Su\n",
      "             1  2  3\n",
      " 4  5  6  7  8  9 10\n",
      "11 12 13 14 15 16 17\n",
      "18 19 20 21 22 23 24\n",
      "25 26 27 28 29 30 31\n",
      "\n"
     ]
    }
   ],
   "source": [
    "import calendar\n",
    "y=int(input(\"enter a year\"))\n",
    "m=int(input(\"enter a month\"))\n",
    "\n",
    "c = calendar.month(y, m)\n",
    "print (c)"
   ]
  },
  {
   "cell_type": "code",
   "execution_count": 22,
   "id": "5a4bb4ac",
   "metadata": {},
   "outputs": [
    {
     "name": "stdout",
     "output_type": "stream",
     "text": [
      "      May 1992\n",
      "Mo Tu We Th Fr Sa Su\n",
      "             1  2  3\n",
      " 4  5  6  7  8  9 10\n",
      "11 12 13 14 15 16 17\n",
      "18 19 20 21 22 23 24\n",
      "25 26 27 28 29 30 31\n",
      "\n"
     ]
    }
   ],
   "source": [
    "import calendar\n",
    "#year=int(input(\"enter a year\"))\n",
    "#month=int(input(\"enter a month\"))\n",
    "\n",
    "#calendar = calendar.month(year, month)\n",
    "print (calendar.month(1992, 5))"
   ]
  },
  {
   "cell_type": "code",
   "execution_count": 24,
   "id": "d366b7b3",
   "metadata": {},
   "outputs": [
    {
     "name": "stdout",
     "output_type": "stream",
     "text": [
      "   February 1992\n",
      "Mo Tu We Th Fr Sa Su\n",
      "                1  2\n",
      " 3  4  5  6  7  8  9\n",
      "10 11 12 13 14 15 16\n",
      "17 18 19 20 21 22 23\n",
      "24 25 26 27 28 29\n",
      "\n"
     ]
    }
   ],
   "source": [
    "import calendar\n",
    "print (calendar.month(1992, 2))"
   ]
  },
  {
   "cell_type": "code",
   "execution_count": 25,
   "id": "8e8e70b4",
   "metadata": {},
   "outputs": [
    {
     "name": "stdout",
     "output_type": "stream",
     "text": [
      "enter a nmber:5\n",
      "factorial of given no is: 120\n"
     ]
    }
   ],
   "source": [
    "# python program to find factorial of number using recursion\n",
    "\n",
    "def fact(n):\n",
    "    if n==1:\n",
    "        return 1\n",
    "    else:\n",
    "        return (n*fact(n-1))\n",
    "n=int(input(\"enter a nmber:\"))\n",
    "if n<=0:\n",
    "    print(\"factorial of number less thn 1 does not exist\")\n",
    "else:\n",
    "    print(\"factorial of given no is:\", fact(n))"
   ]
  },
  {
   "cell_type": "code",
   "execution_count": 26,
   "id": "b1fbf689",
   "metadata": {},
   "outputs": [
    {
     "name": "stdout",
     "output_type": "stream",
     "text": [
      "7\n",
      "snn 28\n"
     ]
    }
   ],
   "source": [
    "# python program to find sum of naural numbers using recursion\n",
    "def snn(n):\n",
    "    if n<=1:\n",
    "        return 1\n",
    "    else:\n",
    "        return (n+snn(n-1))\n",
    "n=int(input())\n",
    "if n<=0:\n",
    "    print(\"enter a positive number\")\n",
    "else:\n",
    "    print(\"snn\", snn(n))"
   ]
  },
  {
   "cell_type": "code",
   "execution_count": 8,
   "id": "59ffd08d",
   "metadata": {},
   "outputs": [
    {
     "name": "stdout",
     "output_type": "stream",
     "text": [
      "the binary of the given number is\n",
      "0 0 0 1 1 "
     ]
    }
   ],
   "source": [
    "# Python program to convert decimal to binary using recursion\n",
    "def convertBinary(n):\n",
    "    if n>1:\n",
    "        convertBinary(n//2)\n",
    "        print(n%2, end = \" \")\n",
    "print(\"the binary of the given number is\")\n",
    "convertBinary(35)\n"
   ]
  },
  {
   "cell_type": "code",
   "execution_count": 4,
   "id": "dd783910",
   "metadata": {},
   "outputs": [
    {
     "data": {
      "text/plain": [
       "7"
      ]
     },
     "execution_count": 4,
     "metadata": {},
     "output_type": "execute_result"
    }
   ],
   "source": [
    "n=15\n",
    "n//2"
   ]
  },
  {
   "cell_type": "code",
   "execution_count": 5,
   "id": "e800837e",
   "metadata": {},
   "outputs": [
    {
     "data": {
      "text/plain": [
       "1"
      ]
     },
     "execution_count": 5,
     "metadata": {},
     "output_type": "execute_result"
    }
   ],
   "source": [
    "n%2"
   ]
  },
  {
   "cell_type": "code",
   "execution_count": 7,
   "id": "2a277747",
   "metadata": {},
   "outputs": [
    {
     "data": {
      "text/plain": [
       "17"
      ]
     },
     "execution_count": 7,
     "metadata": {},
     "output_type": "execute_result"
    }
   ],
   "source": [
    "n=35\n",
    "n//2"
   ]
  },
  {
   "cell_type": "code",
   "execution_count": 16,
   "id": "f8d8b394",
   "metadata": {},
   "outputs": [
    {
     "name": "stdout",
     "output_type": "stream",
     "text": [
      "[[5, 7, 9], [7, 9, 11], [12, 9, 7]]\n"
     ]
    }
   ],
   "source": [
    "# Python program to add two matrices\n",
    "a=[[4,5,6],\n",
    "  [3,4,5],\n",
    "  [9,7,6]]\n",
    "\n",
    "b=[[1,2,3],\n",
    "  [4,5,6],\n",
    "   [3,2,1]]\n",
    "resultant=[[0,0,0],\n",
    "          [0,0,0],\n",
    "           [0,0,0]]\n",
    "\n",
    "for i in range(len(a)):\n",
    "    for j in range(len(a[0])):\n",
    "        resultant[i][j] = a[i][j]+ b[i][j]\n",
    "        #print(resultant)\n",
    "        \n",
    "print(resultant)"
   ]
  },
  {
   "cell_type": "code",
   "execution_count": 14,
   "id": "1cdbc98f",
   "metadata": {},
   "outputs": [
    {
     "data": {
      "text/plain": [
       "3"
      ]
     },
     "execution_count": 14,
     "metadata": {},
     "output_type": "execute_result"
    }
   ],
   "source": [
    "a=[[4,5,6],\n",
    "  [3,4,5],\n",
    "  [9,7,6]]\n",
    "len(a)"
   ]
  },
  {
   "cell_type": "code",
   "execution_count": 15,
   "id": "0a7ed7c9",
   "metadata": {},
   "outputs": [
    {
     "data": {
      "text/plain": [
       "3"
      ]
     },
     "execution_count": 15,
     "metadata": {},
     "output_type": "execute_result"
    }
   ],
   "source": [
    "len(a[0])"
   ]
  },
  {
   "cell_type": "code",
   "execution_count": 17,
   "id": "b1e08662",
   "metadata": {},
   "outputs": [
    {
     "name": "stdout",
     "output_type": "stream",
     "text": [
      "[[5, 0, 0], [0, 0, 0], [0, 0, 0]]\n",
      "[[5, 7, 0], [0, 0, 0], [0, 0, 0]]\n",
      "[[5, 7, 9], [0, 0, 0], [0, 0, 0]]\n",
      "[[5, 7, 9], [7, 0, 0], [0, 0, 0]]\n",
      "[[5, 7, 9], [7, 9, 0], [0, 0, 0]]\n",
      "[[5, 7, 9], [7, 9, 11], [0, 0, 0]]\n",
      "[[5, 7, 9], [7, 9, 11], [12, 0, 0]]\n",
      "[[5, 7, 9], [7, 9, 11], [12, 9, 0]]\n",
      "[[5, 7, 9], [7, 9, 11], [12, 9, 7]]\n",
      "[[5, 7, 9], [7, 9, 11], [12, 9, 7]]\n"
     ]
    }
   ],
   "source": [
    "a=[[4,5,6],\n",
    "  [3,4,5],\n",
    "  [9,7,6]]\n",
    "\n",
    "b=[[1,2,3],\n",
    "  [4,5,6],\n",
    "   [3,2,1]]\n",
    "resultant=[[0,0,0],\n",
    "          [0,0,0],\n",
    "           [0,0,0]]\n",
    "\n",
    "for i in range(len(a)):\n",
    "    for j in range(len(a[0])):\n",
    "        resultant[i][j] = a[i][j]+ b[i][j]\n",
    "        print(resultant)\n",
    "        \n",
    "print(resultant)"
   ]
  },
  {
   "cell_type": "code",
   "execution_count": null,
   "id": "f3ca1daf",
   "metadata": {},
   "outputs": [],
   "source": [
    "# Python program to check wheather a string is palindrome or not\n"
   ]
  },
  {
   "cell_type": "code",
   "execution_count": 21,
   "id": "43fbda18",
   "metadata": {},
   "outputs": [
    {
     "name": "stdout",
     "output_type": "stream",
     "text": [
      "enter a stringhey what are you doing\n",
      "splited character array ['hey', 'what', 'are', 'you', 'doing']\n",
      "['hey', 'what', 'are', 'you', 'doing']\n",
      "after sorted alphabetically ['are', 'doing', 'hey', 'what', 'you']\n"
     ]
    }
   ],
   "source": [
    "#python program to sort words in alphabetical order\n",
    "a = input(\"enter a string\")\n",
    "w=a.split()\n",
    "print(\"splited character array\", w)\n",
    "for i in range(len(w)):\n",
    "    \n",
    "    w[i]=w[i].lower()\n",
    "print(w)\n",
    "w.sort()\n",
    "print(\"after sorted alphabetically\",w)\n"
   ]
  },
  {
   "cell_type": "code",
   "execution_count": null,
   "id": "ef45e6f7",
   "metadata": {},
   "outputs": [],
   "source": [
    "a = input(\"enter string:\")\n",
    "w=a.split()\n",
    "print(\"splited character array\", w)\n",
    "for i in range(len(w)):\n",
    "    \n",
    "    w[i]=w[i].lower()\n",
    "print(w)\n",
    "w.sort()\n",
    "print(w)\n"
   ]
  },
  {
   "cell_type": "code",
   "execution_count": 2,
   "id": "e3b824e6",
   "metadata": {},
   "outputs": [
    {
     "name": "stdout",
     "output_type": "stream",
     "text": [
      "enter a string: my name is singh\n",
      "splited character array ['my', 'name', 'is', 'singh']\n"
     ]
    }
   ],
   "source": [
    "a = input(\"enter a string: \")\n",
    "w=a.split()\n",
    "print(\"splited character array\", a.split())\n",
    "#for i in range(len(w)):\n",
    "    \n",
    " #   w[i]=w[i].lower()\n",
    "#print(w)\n",
    "w.sort()\n",
    "#print(w)\n"
   ]
  },
  {
   "cell_type": "code",
   "execution_count": 4,
   "id": "c58c932a",
   "metadata": {},
   "outputs": [
    {
     "name": "stdout",
     "output_type": "stream",
     "text": [
      "None\n"
     ]
    }
   ],
   "source": [
    "print(w.sort())"
   ]
  },
  {
   "cell_type": "code",
   "execution_count": 5,
   "id": "4fa60e6a",
   "metadata": {},
   "outputs": [
    {
     "name": "stdout",
     "output_type": "stream",
     "text": [
      "[[42, 45, 48], [34, 36, 38], [55, 65, 75]]\n"
     ]
    }
   ],
   "source": [
    "# Python program to mukltiply two matrices\n",
    "a=[[4,5,6],\n",
    "  [3,4,5],\n",
    "  [9,7,6]]\n",
    "\n",
    "b=[[1,2,3],\n",
    "  [4,5,6],\n",
    "   [3,2,1]]\n",
    "resultant=[[0,0,0],\n",
    "          [0,0,0],\n",
    "           [0,0,0]]\n",
    "\n",
    "for i in range(len(a)):\n",
    "    for j in range(len(b[0])):\n",
    "        for k in range (len(b)):\n",
    "            resultant[i][j] += a[i][k] * b[k][j]\n",
    "       # print(resultant)\n",
    "        \n",
    "print(resultant)"
   ]
  },
  {
   "cell_type": "code",
   "execution_count": 6,
   "id": "2b25c463",
   "metadata": {},
   "outputs": [
    {
     "name": "stdout",
     "output_type": "stream",
     "text": [
      "enter string here:my name\n",
      "enter a number here:10\n"
     ]
    },
    {
     "ename": "TypeError",
     "evalue": "can only concatenate str (not \"int\") to str",
     "output_type": "error",
     "traceback": [
      "\u001b[0;31m---------------------------------------------------------------------------\u001b[0m",
      "\u001b[0;31mTypeError\u001b[0m                                 Traceback (most recent call last)",
      "Cell \u001b[0;32mIn[6], line 5\u001b[0m\n\u001b[1;32m      3\u001b[0m string\u001b[38;5;241m=\u001b[39m\u001b[38;5;28minput\u001b[39m(\u001b[38;5;124m\"\u001b[39m\u001b[38;5;124menter string here:\u001b[39m\u001b[38;5;124m\"\u001b[39m)\n\u001b[1;32m      4\u001b[0m num\u001b[38;5;241m=\u001b[39m\u001b[38;5;28mint\u001b[39m(\u001b[38;5;28minput\u001b[39m(\u001b[38;5;124m\"\u001b[39m\u001b[38;5;124menter a number here:\u001b[39m\u001b[38;5;124m\"\u001b[39m))\n\u001b[0;32m----> 5\u001b[0m \u001b[38;5;28mprint\u001b[39m(\u001b[43mstring\u001b[49m\u001b[38;5;241;43m+\u001b[39;49m\u001b[43mnum\u001b[49m)\n",
      "\u001b[0;31mTypeError\u001b[0m: can only concatenate str (not \"int\") to str"
     ]
    }
   ],
   "source": [
    "#Python program to catch multiple exceptions in one line\n",
    "\n",
    "string=input(\"enter string here:\")\n",
    "num=int(input(\"enter a number here:\"))\n",
    "print(string+num)"
   ]
  },
  {
   "cell_type": "code",
   "execution_count": 9,
   "id": "1e60db65",
   "metadata": {},
   "outputs": [
    {
     "name": "stdout",
     "output_type": "stream",
     "text": [
      "enter string here:hi there\n",
      "enter a number here:10\n",
      "can only concatenate str (not \"int\") to str\n"
     ]
    }
   ],
   "source": [
    "#string=input(\"enter string here:\")\n",
    "try:\n",
    "    string=input(\"enter string here:\")\n",
    "    num=int(input(\"enter a number here:\"))\n",
    "    print(string+num)\n",
    "except(ValueError, TypeError) as a:\n",
    "    print(a)"
   ]
  },
  {
   "cell_type": "code",
   "execution_count": null,
   "id": "1ae17530",
   "metadata": {},
   "outputs": [],
   "source": [
    "string=input(\"enter string here:\")\n",
    "try:\n",
    "    #string=input(\"enter string here:\")\n",
    "    num=int(input(\"enter a number here:\"))\n",
    "    print(string+num)\n",
    "except(ValueError, TypeError) as a:\n",
    "    print(a)"
   ]
  },
  {
   "cell_type": "code",
   "execution_count": 22,
   "id": "ae585f58",
   "metadata": {},
   "outputs": [
    {
     "name": "stdout",
     "output_type": "stream",
     "text": [
      "<class 'str'>\n",
      "<class 'float'>\n",
      "<class 'int'>\n",
      "<class 'int'>\n",
      "<class 'int'>\n"
     ]
    },
    {
     "ename": "ValueError",
     "evalue": "invalid literal for int() with base 10: 'wert'",
     "output_type": "error",
     "traceback": [
      "\u001b[0;31m---------------------------------------------------------------------------\u001b[0m",
      "\u001b[0;31mValueError\u001b[0m                                Traceback (most recent call last)",
      "Cell \u001b[0;32mIn[22], line 11\u001b[0m\n\u001b[1;32m      9\u001b[0m \u001b[38;5;28mprint\u001b[39m(\u001b[38;5;28mtype\u001b[39m(b))\n\u001b[1;32m     10\u001b[0m s\u001b[38;5;241m=\u001b[39m\u001b[38;5;124m\"\u001b[39m\u001b[38;5;124mwert\u001b[39m\u001b[38;5;124m\"\u001b[39m\n\u001b[0;32m---> 11\u001b[0m \u001b[38;5;28mprint\u001b[39m(\u001b[38;5;28;43mint\u001b[39;49m\u001b[43m(\u001b[49m\u001b[43ms\u001b[49m\u001b[43m)\u001b[49m)\n",
      "\u001b[0;31mValueError\u001b[0m: invalid literal for int() with base 10: 'wert'"
     ]
    }
   ],
   "source": [
    "# Python program to parse a string to a float or Int\n",
    "string=\"1234.5\"\n",
    "print(type(string))\n",
    "a=float(string)\n",
    "b=int(float(string))\n",
    "print(type(a))\n",
    "print(type(int(a)))\n",
    "print(type(int(float(string))))\n",
    "print(type(b))\n",
    "s=\"wert\"\n",
    "print(int(s))\n"
   ]
  },
  {
   "cell_type": "code",
   "execution_count": 24,
   "id": "77ca55fe",
   "metadata": {},
   "outputs": [
    {
     "name": "stdout",
     "output_type": "stream",
     "text": [
      "herry potter\n"
     ]
    }
   ],
   "source": [
    "#python program to print output without new line\n",
    "print(\"herry\", end=\" \")\n",
    "print(\"potter\")"
   ]
  },
  {
   "cell_type": "code",
   "execution_count": 26,
   "id": "569fecc6",
   "metadata": {},
   "outputs": [
    {
     "name": "stdout",
     "output_type": "stream",
     "text": [
      "break is a keyword in python\n",
      "do is not a keyword in python\n",
      "what is not a keyword in python\n",
      "global is a keyword in python\n",
      "happy is not a keyword in python\n",
      "hello is not a keyword in python\n"
     ]
    }
   ],
   "source": [
    "#How to check if a string ia s valid keyword in python\n",
    "import keyword\n",
    "\n",
    "w= [\"break\", \"do\", \"what\", \"global\", \"happy\", \"hello\"]\n",
    "for i in range(len(w)):\n",
    "    if keyword.iskeyword(w[i]):\n",
    "        print(w[i], \"is a keyword in python\")\n",
    "    else:\n",
    "        print(w[i],\"is not a keyword in python\")"
   ]
  },
  {
   "cell_type": "code",
   "execution_count": 31,
   "id": "64cd4b8e",
   "metadata": {},
   "outputs": [
    {
     "name": "stdout",
     "output_type": "stream",
     "text": [
      "True\n"
     ]
    },
    {
     "data": {
      "text/plain": [
       "False"
      ]
     },
     "execution_count": 31,
     "metadata": {},
     "output_type": "execute_result"
    }
   ],
   "source": [
    "import keyword\n",
    "a=\"break\"\n",
    "print(keyword.iskeyword(a))\n",
    "keyword.iskeyword(\"do\")"
   ]
  },
  {
   "cell_type": "code",
   "execution_count": 33,
   "id": "e36dc677",
   "metadata": {},
   "outputs": [
    {
     "name": "stdout",
     "output_type": "stream",
     "text": [
      "['False', 'None', 'True', 'and', 'as', 'assert', 'async', 'await', 'break', 'class', 'continue', 'def', 'del', 'elif', 'else', 'except', 'finally', 'for', 'from', 'global', 'if', 'import', 'in', 'is', 'lambda', 'nonlocal', 'not', 'or', 'pass', 'raise', 'return', 'try', 'while', 'with', 'yield']\n"
     ]
    }
   ],
   "source": [
    "#import keyword\n",
    "print(keyword.kwlist)"
   ]
  },
  {
   "cell_type": "code",
   "execution_count": 34,
   "id": "92ef1ea9",
   "metadata": {},
   "outputs": [
    {
     "name": "stdout",
     "output_type": "stream",
     "text": [
      "good job\n"
     ]
    }
   ],
   "source": [
    "# To write a Bette\n",
    "# Multiple checks in if statements\n",
    "marks=80\n",
    "if marks==90 or marks==80 or marks==95:\n",
    "    print(\"good job\")\n"
   ]
  },
  {
   "cell_type": "code",
   "execution_count": 35,
   "id": "a644fbd2",
   "metadata": {},
   "outputs": [
    {
     "name": "stdout",
     "output_type": "stream",
     "text": [
      "good job\n"
     ]
    }
   ],
   "source": [
    "marks=80\n",
    "if marks>90:\n",
    "    print(\"excellent job\")\n",
    "else:\n",
    "    print(\"good job\")"
   ]
  },
  {
   "cell_type": "code",
   "execution_count": 36,
   "id": "5de49517",
   "metadata": {},
   "outputs": [
    {
     "name": "stdout",
     "output_type": "stream",
     "text": [
      "GJ\n"
     ]
    }
   ],
   "source": [
    "print(\"EJ\" ) if marks>90 else print(\"GJ\")"
   ]
  },
  {
   "cell_type": "code",
   "execution_count": 37,
   "id": "ab56dba7",
   "metadata": {},
   "outputs": [
    {
     "name": "stdout",
     "output_type": "stream",
     "text": [
      "16\n"
     ]
    }
   ],
   "source": [
    "def square(x):\n",
    "    return x*x\n",
    "print(square(4))"
   ]
  },
  {
   "cell_type": "code",
   "execution_count": 39,
   "id": "b5308ff4",
   "metadata": {},
   "outputs": [
    {
     "name": "stdout",
     "output_type": "stream",
     "text": [
      "16\n"
     ]
    }
   ],
   "source": [
    "#defname()=def\n",
    "a=lambda b: b**2\n",
    "print(a(4))"
   ]
  },
  {
   "cell_type": "code",
   "execution_count": 42,
   "id": "230fa493",
   "metadata": {},
   "outputs": [
    {
     "ename": "SyntaxError",
     "evalue": "cannot assign to function call (3781126455.py, line 4)",
     "output_type": "error",
     "traceback": [
      "\u001b[0;36m  Cell \u001b[0;32mIn[42], line 4\u001b[0;36m\u001b[0m\n\u001b[0;31m    for name, mark, subject(names,marks,subjects ):\u001b[0m\n\u001b[0m                    ^\u001b[0m\n\u001b[0;31mSyntaxError\u001b[0m\u001b[0;31m:\u001b[0m cannot assign to function call\n"
     ]
    }
   ],
   "source": [
    "names=[\"joe\",\"reena\",\"pinku\",\"john\"]\n",
    "marks=[90, 60, 70, 80]\n",
    "subjects=[\"math\", \"bio\",\"phy\",\"chem\"]\n",
    "for name, mark, subject(names,marks,subjects ):\n",
    "    print(name, \"has scored\",mark, \"in\",subject)"
   ]
  },
  {
   "cell_type": "code",
   "execution_count": null,
   "id": "7a5e1a9e",
   "metadata": {},
   "outputs": [],
   "source": [
    "names=[\"joe\",\"reena\",\"pinku\",\"john\"]\n",
    "marks=[90, 60, 70, 80]\n",
    "subjects=[\"math\", \"bio\",\"phy\",\"chem\"]\n",
    "for name, mark, subject(names,marks,subjects ):\n",
    "    print(name, \"has scored\",mark, \"in\",subject)"
   ]
  },
  {
   "cell_type": "code",
   "execution_count": 47,
   "id": "c651f0d2",
   "metadata": {},
   "outputs": [
    {
     "name": "stdout",
     "output_type": "stream",
     "text": [
      "enter a number here:num\n",
      "False\n"
     ]
    }
   ],
   "source": [
    "num = input(\"enter a number here:\")\n",
    "def float_check(num):\n",
    "    try:\n",
    "        float(num)\n",
    "        return True\n",
    "    except:\n",
    "        return False\n",
    "print(float_check(num))"
   ]
  },
  {
   "cell_type": "code",
   "execution_count": null,
   "id": "e20f9be3",
   "metadata": {},
   "outputs": [],
   "source": [
    "#num = input(\"enter a number here:\")\n",
    "def float_check(num):\n",
    "    try:\n",
    "        float(num)\n",
    "        return True\n",
    "    except:\n",
    "        return False\n",
    "print(float_check(45))"
   ]
  },
  {
   "cell_type": "code",
   "execution_count": 6,
   "id": "99da9695",
   "metadata": {},
   "outputs": [
    {
     "name": "stdout",
     "output_type": "stream",
     "text": [
      "enter tree values here:12,34,56\n",
      "the addition of the given number is:\n",
      "102\n"
     ]
    }
   ],
   "source": [
    "a,b,c=input(\"enter tree values here:\").split(\",\")\n",
    "print(\"the addition of the given number is:\")\n",
    "print(int(a)+int(b)+int(c))"
   ]
  },
  {
   "cell_type": "code",
   "execution_count": 7,
   "id": "cb392bb1",
   "metadata": {},
   "outputs": [
    {
     "name": "stdout",
     "output_type": "stream",
     "text": [
      "square root of : 8 is 2.8284271247461903\n"
     ]
    }
   ],
   "source": [
    "num=8\n",
    "sr=num**(1/2)\n",
    "print(\"square root of :\",num, \"is\",sr )"
   ]
  },
  {
   "cell_type": "code",
   "execution_count": null,
   "id": "b017f02c",
   "metadata": {},
   "outputs": [],
   "source": [
    "# Surabh sir Python"
   ]
  },
  {
   "cell_type": "code",
   "execution_count": 8,
   "id": "878b0c43",
   "metadata": {},
   "outputs": [
    {
     "name": "stdout",
     "output_type": "stream",
     "text": [
      "enter two veriables:\n",
      "5\n",
      "5\n",
      "sum is: 10\n"
     ]
    }
   ],
   "source": [
    "print(\"enter two veriables:\")\n",
    "a=int(input())\n",
    "b=int(input())\n",
    "c=a+b\n",
    "print(\"sum is:\",c)"
   ]
  },
  {
   "cell_type": "code",
   "execution_count": 9,
   "id": "741d9574",
   "metadata": {},
   "outputs": [
    {
     "ename": "ModuleNotFoundError",
     "evalue": "No module named 'A1'",
     "output_type": "error",
     "traceback": [
      "\u001b[0;31m---------------------------------------------------------------------------\u001b[0m",
      "\u001b[0;31mModuleNotFoundError\u001b[0m                       Traceback (most recent call last)",
      "Cell \u001b[0;32mIn[9], line 1\u001b[0m\n\u001b[0;32m----> 1\u001b[0m \u001b[38;5;28;01mimport\u001b[39;00m \u001b[38;5;21;01mA1\u001b[39;00m\n\u001b[1;32m      2\u001b[0m \u001b[38;5;28mprint\u001b[39m(A1\u001b[38;5;241m.\u001b[39mx)\n",
      "\u001b[0;31mModuleNotFoundError\u001b[0m: No module named 'A1'"
     ]
    }
   ],
   "source": [
    "import A1\n",
    "print(A1.x)"
   ]
  },
  {
   "cell_type": "code",
   "execution_count": 12,
   "id": "48887bac",
   "metadata": {},
   "outputs": [
    {
     "name": "stdout",
     "output_type": "stream",
     "text": [
      "there are 35 keywords in python\n",
      "['False', 'None', 'True', 'and', 'as', 'assert', 'async', 'await', 'break', 'class', 'continue', 'def', 'del', 'elif', 'else', 'except', 'finally', 'for', 'from', 'global', 'if', 'import', 'in', 'is', 'lambda', 'nonlocal', 'not', 'or', 'pass', 'raise', 'return', 'try', 'while', 'with', 'yield']\n",
      "False\n",
      "True\n"
     ]
    }
   ],
   "source": [
    "import keyword\n",
    "print(\"there are\", len(keyword.kwlist),\"keywords in python\")\n",
    "print(keyword.kwlist)\n",
    "print(keyword.iskeyword(\"do\"))\n",
    "a=\"break\"\n",
    "print(keyword.iskeyword(a))"
   ]
  },
  {
   "cell_type": "code",
   "execution_count": 14,
   "id": "de442cd2",
   "metadata": {},
   "outputs": [
    {
     "data": {
      "text/plain": [
       "-4"
      ]
     },
     "execution_count": 14,
     "metadata": {},
     "output_type": "execute_result"
    }
   ],
   "source": [
    "3+4\n",
    "3-7"
   ]
  },
  {
   "cell_type": "code",
   "execution_count": 15,
   "id": "9f776269",
   "metadata": {},
   "outputs": [
    {
     "data": {
      "text/plain": [
       "0.75"
      ]
     },
     "execution_count": 15,
     "metadata": {},
     "output_type": "execute_result"
    }
   ],
   "source": [
    "3/4"
   ]
  },
  {
   "cell_type": "code",
   "execution_count": 16,
   "id": "0048da7e",
   "metadata": {},
   "outputs": [
    {
     "data": {
      "text/plain": [
       "0"
      ]
     },
     "execution_count": 16,
     "metadata": {},
     "output_type": "execute_result"
    }
   ],
   "source": [
    "3//4"
   ]
  },
  {
   "cell_type": "code",
   "execution_count": 17,
   "id": "9b9dbd64",
   "metadata": {},
   "outputs": [
    {
     "data": {
      "text/plain": [
       "0.0"
      ]
     },
     "execution_count": 17,
     "metadata": {},
     "output_type": "execute_result"
    }
   ],
   "source": [
    "3.0//4"
   ]
  },
  {
   "cell_type": "code",
   "execution_count": 18,
   "id": "2742a756",
   "metadata": {},
   "outputs": [
    {
     "data": {
      "text/plain": [
       "2"
      ]
     },
     "execution_count": 18,
     "metadata": {},
     "output_type": "execute_result"
    }
   ],
   "source": [
    "10//5"
   ]
  },
  {
   "cell_type": "code",
   "execution_count": 20,
   "id": "abbb058a",
   "metadata": {},
   "outputs": [
    {
     "data": {
      "text/plain": [
       "False"
      ]
     },
     "execution_count": 20,
     "metadata": {},
     "output_type": "execute_result"
    }
   ],
   "source": [
    "not True"
   ]
  },
  {
   "cell_type": "code",
   "execution_count": 22,
   "id": "95d4dab3",
   "metadata": {},
   "outputs": [
    {
     "data": {
      "text/plain": [
       "True"
      ]
     },
     "execution_count": 22,
     "metadata": {},
     "output_type": "execute_result"
    }
   ],
   "source": [
    "3<4<7<8>6"
   ]
  },
  {
   "cell_type": "code",
   "execution_count": 23,
   "id": "5ba89ddc",
   "metadata": {},
   "outputs": [
    {
     "data": {
      "text/plain": [
       "'seeta'"
      ]
     },
     "execution_count": 23,
     "metadata": {},
     "output_type": "execute_result"
    }
   ],
   "source": [
    "\"seeta\" or \"geeta\""
   ]
  },
  {
   "cell_type": "code",
   "execution_count": 24,
   "id": "36b8579c",
   "metadata": {},
   "outputs": [
    {
     "data": {
      "text/plain": [
       "4"
      ]
     },
     "execution_count": 24,
     "metadata": {},
     "output_type": "execute_result"
    }
   ],
   "source": [
    "4 or 5"
   ]
  },
  {
   "cell_type": "code",
   "execution_count": 25,
   "id": "344e8808",
   "metadata": {},
   "outputs": [
    {
     "data": {
      "text/plain": [
       "5"
      ]
     },
     "execution_count": 25,
     "metadata": {},
     "output_type": "execute_result"
    }
   ],
   "source": [
    "4 and 5"
   ]
  },
  {
   "cell_type": "code",
   "execution_count": 26,
   "id": "a8fdb850",
   "metadata": {},
   "outputs": [
    {
     "data": {
      "text/plain": [
       "0.75"
      ]
     },
     "execution_count": 26,
     "metadata": {},
     "output_type": "execute_result"
    }
   ],
   "source": [
    "3/4"
   ]
  },
  {
   "cell_type": "code",
   "execution_count": 27,
   "id": "5fbbec43",
   "metadata": {},
   "outputs": [
    {
     "data": {
      "text/plain": [
       "0"
      ]
     },
     "execution_count": 27,
     "metadata": {},
     "output_type": "execute_result"
    }
   ],
   "source": [
    "3//4"
   ]
  },
  {
   "cell_type": "code",
   "execution_count": 28,
   "id": "d2d49e75",
   "metadata": {},
   "outputs": [
    {
     "data": {
      "text/plain": [
       "1"
      ]
     },
     "execution_count": 28,
     "metadata": {},
     "output_type": "execute_result"
    }
   ],
   "source": [
    "5%2\n"
   ]
  },
  {
   "cell_type": "code",
   "execution_count": 29,
   "id": "3b476468",
   "metadata": {},
   "outputs": [
    {
     "data": {
      "text/plain": [
       "1.5"
      ]
     },
     "execution_count": 29,
     "metadata": {},
     "output_type": "execute_result"
    }
   ],
   "source": [
    "3.5%2"
   ]
  },
  {
   "cell_type": "code",
   "execution_count": 30,
   "id": "18d7e4ef",
   "metadata": {},
   "outputs": [
    {
     "data": {
      "text/plain": [
       "False"
      ]
     },
     "execution_count": 30,
     "metadata": {},
     "output_type": "execute_result"
    }
   ],
   "source": [
    "4>5"
   ]
  },
  {
   "cell_type": "code",
   "execution_count": 31,
   "id": "4de4fd04",
   "metadata": {},
   "outputs": [
    {
     "data": {
      "text/plain": [
       "0"
      ]
     },
     "execution_count": 31,
     "metadata": {},
     "output_type": "execute_result"
    }
   ],
   "source": [
    "0 and 5"
   ]
  },
  {
   "cell_type": "code",
   "execution_count": 32,
   "id": "f06f70fe",
   "metadata": {},
   "outputs": [
    {
     "data": {
      "text/plain": [
       "5"
      ]
     },
     "execution_count": 32,
     "metadata": {},
     "output_type": "execute_result"
    }
   ],
   "source": [
    "0 or 5"
   ]
  },
  {
   "cell_type": "code",
   "execution_count": 33,
   "id": "2b20817a",
   "metadata": {},
   "outputs": [
    {
     "data": {
      "text/plain": [
       "0"
      ]
     },
     "execution_count": 33,
     "metadata": {},
     "output_type": "execute_result"
    }
   ],
   "source": [
    "3&4"
   ]
  },
  {
   "cell_type": "code",
   "execution_count": 34,
   "id": "4526be77",
   "metadata": {},
   "outputs": [
    {
     "data": {
      "text/plain": [
       "2"
      ]
     },
     "execution_count": 34,
     "metadata": {},
     "output_type": "execute_result"
    }
   ],
   "source": [
    "3&2"
   ]
  },
  {
   "cell_type": "code",
   "execution_count": 35,
   "id": "2d204a97",
   "metadata": {},
   "outputs": [
    {
     "data": {
      "text/plain": [
       "1.5"
      ]
     },
     "execution_count": 35,
     "metadata": {},
     "output_type": "execute_result"
    }
   ],
   "source": [
    "3/2"
   ]
  },
  {
   "cell_type": "code",
   "execution_count": 36,
   "id": "292fe0dd",
   "metadata": {},
   "outputs": [
    {
     "data": {
      "text/plain": [
       "7"
      ]
     },
     "execution_count": 36,
     "metadata": {},
     "output_type": "execute_result"
    }
   ],
   "source": [
    "3|4"
   ]
  },
  {
   "cell_type": "code",
   "execution_count": 37,
   "id": "241ba12b",
   "metadata": {},
   "outputs": [],
   "source": [
    "x=5\n",
    "y=5\n"
   ]
  },
  {
   "cell_type": "code",
   "execution_count": 38,
   "id": "8303d425",
   "metadata": {},
   "outputs": [
    {
     "data": {
      "text/plain": [
       "139966409818480"
      ]
     },
     "execution_count": 38,
     "metadata": {},
     "output_type": "execute_result"
    }
   ],
   "source": [
    "id(x)"
   ]
  },
  {
   "cell_type": "code",
   "execution_count": 39,
   "id": "531ce928",
   "metadata": {},
   "outputs": [
    {
     "data": {
      "text/plain": [
       "139966409818480"
      ]
     },
     "execution_count": 39,
     "metadata": {},
     "output_type": "execute_result"
    }
   ],
   "source": [
    "id(y)"
   ]
  },
  {
   "cell_type": "code",
   "execution_count": 40,
   "id": "e4f922a0",
   "metadata": {},
   "outputs": [
    {
     "data": {
      "text/plain": [
       "True"
      ]
     },
     "execution_count": 40,
     "metadata": {},
     "output_type": "execute_result"
    }
   ],
   "source": [
    "x is y\n"
   ]
  },
  {
   "cell_type": "code",
   "execution_count": 41,
   "id": "7b657666",
   "metadata": {},
   "outputs": [],
   "source": [
    "y=6"
   ]
  },
  {
   "cell_type": "code",
   "execution_count": 42,
   "id": "db3e3332",
   "metadata": {},
   "outputs": [
    {
     "data": {
      "text/plain": [
       "139966409818480"
      ]
     },
     "execution_count": 42,
     "metadata": {},
     "output_type": "execute_result"
    }
   ],
   "source": [
    "id(x)"
   ]
  },
  {
   "cell_type": "code",
   "execution_count": 43,
   "id": "e989a9a4",
   "metadata": {},
   "outputs": [
    {
     "data": {
      "text/plain": [
       "139966409818512"
      ]
     },
     "execution_count": 43,
     "metadata": {},
     "output_type": "execute_result"
    }
   ],
   "source": [
    "id(y)"
   ]
  },
  {
   "cell_type": "code",
   "execution_count": 44,
   "id": "7230ce03",
   "metadata": {},
   "outputs": [
    {
     "data": {
      "text/plain": [
       "False"
      ]
     },
     "execution_count": 44,
     "metadata": {},
     "output_type": "execute_result"
    }
   ],
   "source": [
    "x is y"
   ]
  },
  {
   "cell_type": "code",
   "execution_count": 45,
   "id": "6e273874",
   "metadata": {},
   "outputs": [
    {
     "data": {
      "text/plain": [
       "True"
      ]
     },
     "execution_count": 45,
     "metadata": {},
     "output_type": "execute_result"
    }
   ],
   "source": [
    "x is not y"
   ]
  },
  {
   "cell_type": "code",
   "execution_count": 46,
   "id": "758cd4d6",
   "metadata": {},
   "outputs": [
    {
     "data": {
      "text/plain": [
       "139966409818480"
      ]
     },
     "execution_count": 46,
     "metadata": {},
     "output_type": "execute_result"
    }
   ],
   "source": [
    "id(x)"
   ]
  },
  {
   "cell_type": "code",
   "execution_count": 47,
   "id": "f7623cd6",
   "metadata": {},
   "outputs": [
    {
     "data": {
      "text/plain": [
       "139966409818544"
      ]
     },
     "execution_count": 47,
     "metadata": {},
     "output_type": "execute_result"
    }
   ],
   "source": [
    "x=7\n",
    "id(x)"
   ]
  },
  {
   "cell_type": "code",
   "execution_count": 48,
   "id": "d2f9f92d",
   "metadata": {},
   "outputs": [
    {
     "data": {
      "text/plain": [
       "int"
      ]
     },
     "execution_count": 48,
     "metadata": {},
     "output_type": "execute_result"
    }
   ],
   "source": [
    "type(x)"
   ]
  },
  {
   "cell_type": "code",
   "execution_count": 50,
   "id": "85add92d",
   "metadata": {},
   "outputs": [
    {
     "name": "stdout",
     "output_type": "stream",
     "text": [
      "5 6 7\n",
      "5-6-7\n"
     ]
    }
   ],
   "source": [
    "a,b,c=5,6,7\n",
    "print(a,b,c)\n",
    "print(a,b,c, sep=\"-\")"
   ]
  },
  {
   "cell_type": "code",
   "execution_count": 51,
   "id": "26fb6e72",
   "metadata": {},
   "outputs": [
    {
     "ename": "TypeError",
     "evalue": "unsupported operand type(s) for +: 'int' and 'str'",
     "output_type": "error",
     "traceback": [
      "\u001b[0;31m---------------------------------------------------------------------------\u001b[0m",
      "\u001b[0;31mTypeError\u001b[0m                                 Traceback (most recent call last)",
      "Cell \u001b[0;32mIn[51], line 1\u001b[0m\n\u001b[0;32m----> 1\u001b[0m x\u001b[38;5;241m=\u001b[39m\u001b[38;5;241;43m5\u001b[39;49m\u001b[38;5;241;43m+\u001b[39;49m\u001b[38;5;124;43m\"\u001b[39;49m\u001b[38;5;124;43m5\u001b[39;49m\u001b[38;5;124;43m\"\u001b[39;49m\n",
      "\u001b[0;31mTypeError\u001b[0m: unsupported operand type(s) for +: 'int' and 'str'"
     ]
    }
   ],
   "source": [
    "x=5+\"5\""
   ]
  },
  {
   "cell_type": "code",
   "execution_count": 53,
   "id": "04736dab",
   "metadata": {},
   "outputs": [
    {
     "name": "stdout",
     "output_type": "stream",
     "text": [
      "x5\n"
     ]
    }
   ],
   "source": [
    "x=\"x\"+\"5\"\n",
    "print(x)"
   ]
  },
  {
   "cell_type": "code",
   "execution_count": 55,
   "id": "b0c414b4",
   "metadata": {},
   "outputs": [
    {
     "data": {
      "text/plain": [
       "'55'"
      ]
     },
     "execution_count": 55,
     "metadata": {},
     "output_type": "execute_result"
    }
   ],
   "source": [
    "x=str(5)+\"5\"\n",
    "x"
   ]
  },
  {
   "cell_type": "code",
   "execution_count": 56,
   "id": "ffbe4a63",
   "metadata": {},
   "outputs": [
    {
     "data": {
      "text/plain": [
       "10"
      ]
     },
     "execution_count": 56,
     "metadata": {},
     "output_type": "execute_result"
    }
   ],
   "source": [
    "x=5+int(\"5\")\n",
    "x"
   ]
  },
  {
   "cell_type": "code",
   "execution_count": 57,
   "id": "6495c562",
   "metadata": {},
   "outputs": [
    {
     "data": {
      "text/plain": [
       "5"
      ]
     },
     "execution_count": 57,
     "metadata": {},
     "output_type": "execute_result"
    }
   ],
   "source": [
    "x=5.7\n",
    "int(x)"
   ]
  },
  {
   "cell_type": "code",
   "execution_count": 59,
   "id": "822f5e9f",
   "metadata": {},
   "outputs": [
    {
     "data": {
      "text/plain": [
       "8.0"
      ]
     },
     "execution_count": 59,
     "metadata": {},
     "output_type": "execute_result"
    }
   ],
   "source": [
    "y=8\n",
    "float(y)"
   ]
  },
  {
   "cell_type": "code",
   "execution_count": 60,
   "id": "de566da5",
   "metadata": {},
   "outputs": [
    {
     "data": {
      "text/plain": [
       "str"
      ]
     },
     "execution_count": 60,
     "metadata": {},
     "output_type": "execute_result"
    }
   ],
   "source": [
    "x=\"abc\"\n",
    "type(x)"
   ]
  },
  {
   "cell_type": "code",
   "execution_count": 61,
   "id": "fdcce577",
   "metadata": {},
   "outputs": [
    {
     "ename": "ValueError",
     "evalue": "invalid literal for int() with base 10: 'abc'",
     "output_type": "error",
     "traceback": [
      "\u001b[0;31m---------------------------------------------------------------------------\u001b[0m",
      "\u001b[0;31mValueError\u001b[0m                                Traceback (most recent call last)",
      "Cell \u001b[0;32mIn[61], line 1\u001b[0m\n\u001b[0;32m----> 1\u001b[0m \u001b[38;5;28;43mint\u001b[39;49m\u001b[43m(\u001b[49m\u001b[43mx\u001b[49m\u001b[43m)\u001b[49m\n",
      "\u001b[0;31mValueError\u001b[0m: invalid literal for int() with base 10: 'abc'"
     ]
    }
   ],
   "source": [
    "int(x)"
   ]
  },
  {
   "cell_type": "code",
   "execution_count": 62,
   "id": "87480157",
   "metadata": {},
   "outputs": [
    {
     "data": {
      "text/plain": [
       "str"
      ]
     },
     "execution_count": 62,
     "metadata": {},
     "output_type": "execute_result"
    }
   ],
   "source": [
    "x=\"123\"\n",
    "type(x)"
   ]
  },
  {
   "cell_type": "code",
   "execution_count": 63,
   "id": "0a911715",
   "metadata": {},
   "outputs": [
    {
     "data": {
      "text/plain": [
       "123"
      ]
     },
     "execution_count": 63,
     "metadata": {},
     "output_type": "execute_result"
    }
   ],
   "source": [
    "int(x)"
   ]
  },
  {
   "cell_type": "code",
   "execution_count": 64,
   "id": "7439e33d",
   "metadata": {},
   "outputs": [
    {
     "data": {
      "text/plain": [
       "str"
      ]
     },
     "execution_count": 64,
     "metadata": {},
     "output_type": "execute_result"
    }
   ],
   "source": [
    "type(x)"
   ]
  },
  {
   "cell_type": "code",
   "execution_count": 65,
   "id": "36b80045",
   "metadata": {},
   "outputs": [
    {
     "data": {
      "text/plain": [
       "(2.4+0j)"
      ]
     },
     "execution_count": 65,
     "metadata": {},
     "output_type": "execute_result"
    }
   ],
   "source": [
    "x=2.4\n",
    "complex(x)"
   ]
  },
  {
   "cell_type": "code",
   "execution_count": 67,
   "id": "1fca6936",
   "metadata": {},
   "outputs": [
    {
     "data": {
      "text/plain": [
       "True"
      ]
     },
     "execution_count": 67,
     "metadata": {},
     "output_type": "execute_result"
    }
   ],
   "source": [
    "bool(x)"
   ]
  },
  {
   "cell_type": "code",
   "execution_count": 69,
   "id": "8b37cf4f",
   "metadata": {},
   "outputs": [
    {
     "data": {
      "text/plain": [
       "'0b101'"
      ]
     },
     "execution_count": 69,
     "metadata": {},
     "output_type": "execute_result"
    }
   ],
   "source": [
    "bin(5)"
   ]
  },
  {
   "cell_type": "code",
   "execution_count": 71,
   "id": "70852945",
   "metadata": {},
   "outputs": [
    {
     "data": {
      "text/plain": [
       "str"
      ]
     },
     "execution_count": 71,
     "metadata": {},
     "output_type": "execute_result"
    }
   ],
   "source": [
    "type(bin(5))"
   ]
  },
  {
   "cell_type": "code",
   "execution_count": 72,
   "id": "ac939cb3",
   "metadata": {},
   "outputs": [
    {
     "data": {
      "text/plain": [
       "'0x7'"
      ]
     },
     "execution_count": 72,
     "metadata": {},
     "output_type": "execute_result"
    }
   ],
   "source": [
    "x=7\n",
    "hex(x)"
   ]
  },
  {
   "cell_type": "code",
   "execution_count": 73,
   "id": "8ec96bd2",
   "metadata": {},
   "outputs": [
    {
     "data": {
      "text/plain": [
       "'0o7'"
      ]
     },
     "execution_count": 73,
     "metadata": {},
     "output_type": "execute_result"
    }
   ],
   "source": [
    "oct(x)"
   ]
  },
  {
   "cell_type": "code",
   "execution_count": 75,
   "id": "b0664ee0",
   "metadata": {},
   "outputs": [
    {
     "data": {
      "text/plain": [
       "120"
      ]
     },
     "execution_count": 75,
     "metadata": {},
     "output_type": "execute_result"
    }
   ],
   "source": [
    "ord(\"x\")"
   ]
  },
  {
   "cell_type": "code",
   "execution_count": 76,
   "id": "544f3260",
   "metadata": {},
   "outputs": [
    {
     "data": {
      "text/plain": [
       "int"
      ]
     },
     "execution_count": 76,
     "metadata": {},
     "output_type": "execute_result"
    }
   ],
   "source": [
    "type(ord(\"x\"))"
   ]
  },
  {
   "cell_type": "code",
   "execution_count": 77,
   "id": "a1c7f6ef",
   "metadata": {},
   "outputs": [
    {
     "data": {
      "text/plain": [
       "str"
      ]
     },
     "execution_count": 77,
     "metadata": {},
     "output_type": "execute_result"
    }
   ],
   "source": [
    "type(hex(x))"
   ]
  },
  {
   "cell_type": "code",
   "execution_count": 78,
   "id": "3fcda3da",
   "metadata": {},
   "outputs": [
    {
     "data": {
      "text/plain": [
       "str"
      ]
     },
     "execution_count": 78,
     "metadata": {},
     "output_type": "execute_result"
    }
   ],
   "source": [
    "type(oct(8))"
   ]
  },
  {
   "cell_type": "code",
   "execution_count": 80,
   "id": "39e935e1",
   "metadata": {},
   "outputs": [
    {
     "data": {
      "text/plain": [
       "'A'"
      ]
     },
     "execution_count": 80,
     "metadata": {},
     "output_type": "execute_result"
    }
   ],
   "source": [
    "chr(65)"
   ]
  },
  {
   "cell_type": "code",
   "execution_count": 82,
   "id": "7623ce11",
   "metadata": {},
   "outputs": [
    {
     "name": "stdout",
     "output_type": "stream",
     "text": [
      "5\n",
      "7\n"
     ]
    },
    {
     "data": {
      "text/plain": [
       "'57'"
      ]
     },
     "execution_count": 82,
     "metadata": {},
     "output_type": "execute_result"
    }
   ],
   "source": [
    "a,b=input(), input()#string\n",
    "a+b"
   ]
  },
  {
   "cell_type": "code",
   "execution_count": null,
   "id": "7d756dc5",
   "metadata": {},
   "outputs": [],
   "source": [
    "a,b =int(input()), int(input())\n",
    "a+b\n"
   ]
  },
  {
   "cell_type": "code",
   "execution_count": null,
   "id": "3536cd30",
   "metadata": {},
   "outputs": [],
   "source": [
    "x=6\n",
    "y=9\n",
    "x+y"
   ]
  },
  {
   "cell_type": "code",
   "execution_count": 3,
   "id": "8538c9e8",
   "metadata": {},
   "outputs": [
    {
     "name": "stdout",
     "output_type": "stream",
     "text": [
      "enter two numbers:\n",
      "7\n",
      "7\n",
      "sum is: 14\n"
     ]
    }
   ],
   "source": [
    "# python program to add two numbers\n",
    "print(\"enter two numbers:\")\n",
    "a,b=int(input()),int(input())\n",
    "#c=a+b\n",
    "print(\"sum is:\", a+b)\n"
   ]
  },
  {
   "cell_type": "code",
   "execution_count": 4,
   "id": "2913e3fe",
   "metadata": {},
   "outputs": [
    {
     "name": "stdout",
     "output_type": "stream",
     "text": [
      "Bye\n"
     ]
    }
   ],
   "source": [
    "# if statement\n",
    "x=-2\n",
    "if x>0:\n",
    "    print(\"hello\")\n",
    "    print(\"my hero\")\n",
    "print(\"Bye\")    \n"
   ]
  },
  {
   "cell_type": "code",
   "execution_count": 6,
   "id": "c716765c",
   "metadata": {},
   "outputs": [
    {
     "name": "stdout",
     "output_type": "stream",
     "text": [
      "hello\n",
      "my hero\n",
      "how are you\n"
     ]
    }
   ],
   "source": [
    "x=2\n",
    "if x>0:\n",
    "    print(\"hello\")\n",
    "    print(\"my hero\")\n",
    "print(\"how are you\")    \n"
   ]
  },
  {
   "cell_type": "code",
   "execution_count": 8,
   "id": "5e16f905",
   "metadata": {},
   "outputs": [
    {
     "name": "stdout",
     "output_type": "stream",
     "text": [
      "enter a number:8\n",
      "positive\n"
     ]
    }
   ],
   "source": [
    "x=int(input(\"enter a number:\"))\n",
    "if x>0:\n",
    "    print(\"positive\")\n",
    "else:\n",
    "    print(\"non positive\")"
   ]
  },
  {
   "cell_type": "code",
   "execution_count": 9,
   "id": "c0a47a3d",
   "metadata": {},
   "outputs": [
    {
     "name": "stdout",
     "output_type": "stream",
     "text": [
      " Enter marks67\n",
      "Grade D\n"
     ]
    }
   ],
   "source": [
    "x=int(input(\" Enter marks\"))\n",
    "if x>90:\n",
    "    print(\"Grade A\")\n",
    "elif x>80:\n",
    "    print(\"Grate B\")\n",
    "elif x>70:\n",
    "    print(\"grade C\")\n",
    "elif x>60:\n",
    "    print(\"Grade D\")"
   ]
  },
  {
   "cell_type": "code",
   "execution_count": 10,
   "id": "b459c0e2",
   "metadata": {},
   "outputs": [
    {
     "name": "stdout",
     "output_type": "stream",
     "text": [
      "6\n",
      "even\n"
     ]
    }
   ],
   "source": [
    "#single line if else\n",
    "# code1 if condition else code2\n",
    "x=int(input())\n",
    "if x%2==0:\n",
    "    print(\"even\")\n",
    "else:\n",
    "    print(\"odd\")"
   ]
  },
  {
   "cell_type": "code",
   "execution_count": 11,
   "id": "abbfbbbf",
   "metadata": {},
   "outputs": [
    {
     "name": "stdout",
     "output_type": "stream",
     "text": [
      "7\n"
     ]
    },
    {
     "data": {
      "text/plain": [
       "'odd'"
      ]
     },
     "execution_count": 11,
     "metadata": {},
     "output_type": "execute_result"
    }
   ],
   "source": [
    "\"even\" if int(input())%2==0 else \"odd\" "
   ]
  },
  {
   "cell_type": "code",
   "execution_count": 12,
   "id": "719a8b1e",
   "metadata": {},
   "outputs": [
    {
     "name": "stdout",
     "output_type": "stream",
     "text": [
      "9\n"
     ]
    },
    {
     "data": {
      "text/plain": [
       "'odd'"
      ]
     },
     "execution_count": 12,
     "metadata": {},
     "output_type": "execute_result"
    }
   ],
   "source": [
    "x=int(input())\n",
    "\"even\" if x%2==0 else \"odd\" "
   ]
  },
  {
   "cell_type": "code",
   "execution_count": null,
   "id": "e237f1ef",
   "metadata": {},
   "outputs": [],
   "source": []
  },
  {
   "cell_type": "code",
   "execution_count": 13,
   "id": "51dc35d0",
   "metadata": {},
   "outputs": [
    {
     "name": "stdout",
     "output_type": "stream",
     "text": [
      "money\n",
      "money\n",
      "money\n",
      "money\n",
      "money\n"
     ]
    }
   ],
   "source": [
    "# print money five times on the screen\n",
    "i=1\n",
    "while i<=5:\n",
    "    print(\"money\")\n",
    "    i+=1"
   ]
  },
  {
   "cell_type": "code",
   "execution_count": 14,
   "id": "f5b0dd79",
   "metadata": {},
   "outputs": [
    {
     "name": "stdout",
     "output_type": "stream",
     "text": [
      "enter a limit for natural number8\n",
      "1 2 3 4 5 6 7 8 "
     ]
    }
   ],
   "source": [
    "# print N natural numbers\n",
    "i=1\n",
    "n=int(input(\"enter a limit for natural number\"))\n",
    "while i<=n:\n",
    "    print(i, end=\" \")\n",
    "    i+=1"
   ]
  },
  {
   "cell_type": "code",
   "execution_count": 16,
   "id": "f1199d10",
   "metadata": {},
   "outputs": [
    {
     "name": "stdout",
     "output_type": "stream",
     "text": [
      "enter limit:4\n",
      "10\n"
     ]
    }
   ],
   "source": [
    "# program to calculate first n natural numbers\n",
    "n=int(input(\"enter limit:\"))\n",
    "i=1\n",
    "sum=0\n",
    "while i<=n:\n",
    "    sum+=i\n",
    "    i+=1\n",
    "print(sum)"
   ]
  },
  {
   "cell_type": "code",
   "execution_count": 17,
   "id": "f1dd68a9",
   "metadata": {},
   "outputs": [
    {
     "name": "stdout",
     "output_type": "stream",
     "text": [
      "enter limit:4\n",
      "10\n"
     ]
    }
   ],
   "source": [
    "n=int(input(\"enter limit:\"))\n",
    "sum=0\n",
    "for i in range(1, n+1):\n",
    "    sum=sum+i\n",
    "print(sum)"
   ]
  },
  {
   "cell_type": "code",
   "execution_count": null,
   "id": "7a9be178",
   "metadata": {},
   "outputs": [],
   "source": [
    "#break\n",
    "#program to check wheter the given number is prime or not\n",
    "n=int(input(\"enter a number:\"))\n",
    "i=2\n",
    "while i<n:\n",
    "    if n%i==0:\n",
    "        print(\"not prime\")\n",
    "        break\n",
    "        i+=1\n",
    "else:#else block will run only if block will not end due to break\n",
    "    print(\"prime number\")\n",
    "    \n"
   ]
  },
  {
   "cell_type": "code",
   "execution_count": 2,
   "id": "7874e8d8",
   "metadata": {},
   "outputs": [
    {
     "name": "stdout",
     "output_type": "stream",
     "text": [
      "enter a number:6\n",
      "6 is not prime number\n"
     ]
    }
   ],
   "source": [
    "#program to check wheter the given number is prime or not\n",
    "n=int(input(\"enter a number:\"))\n",
    "i=2\n",
    "while i<n:\n",
    "    if n%i==0:\n",
    "        #print(\"not prime\")\n",
    "        break\n",
    "        i+=1\n",
    "if i==n:\n",
    "    print(\"prime\")\n",
    "else:\n",
    "    print(n,\"is not prime number\")\n",
    "    \n"
   ]
  },
  {
   "cell_type": "code",
   "execution_count": 6,
   "id": "6c3d58d8",
   "metadata": {},
   "outputs": [
    {
     "name": "stdout",
     "output_type": "stream",
     "text": [
      "unicode of snehal\n",
      "s 115 n 110 e 101 h 104 a 97 l 108 "
     ]
    }
   ],
   "source": [
    "#python programe to print a unicode of each character of given string\n",
    "s=\"snehal\"\n",
    "print(\"unicode of snehal\")\n",
    "for i in s:\n",
    "    print(i,ord(i),end=\" \")"
   ]
  },
  {
   "cell_type": "code",
   "execution_count": 7,
   "id": "558394ba",
   "metadata": {},
   "outputs": [
    {
     "name": "stdout",
     "output_type": "stream",
     "text": [
      "enter the number\n",
      "6\n",
      "1 4 9 16 25 36 "
     ]
    }
   ],
   "source": [
    "print(\"enter the number\")\n",
    "n=int(input())\n",
    "for i in range(1, n+1):\n",
    "    print(i**2, end=\" \")"
   ]
  },
  {
   "cell_type": "code",
   "execution_count": 8,
   "id": "c09806ce",
   "metadata": {},
   "outputs": [
    {
     "name": "stdout",
     "output_type": "stream",
     "text": [
      "enter the number\n",
      "6\n",
      "1 \n",
      "4 \n",
      "9 \n",
      "16 \n",
      "25 \n",
      "36 \n"
     ]
    }
   ],
   "source": [
    "print(\"enter the number\")\n",
    "n=int(input())\n",
    "for i in range(1, n+1):\n",
    "    print(i**2, end=\" \")\n",
    "    print()"
   ]
  },
  {
   "cell_type": "code",
   "execution_count": 9,
   "id": "c3b6d062",
   "metadata": {},
   "outputs": [
    {
     "name": "stdout",
     "output_type": "stream",
     "text": [
      "enter the number\n",
      "6\n",
      "1\n",
      "4\n",
      "9\n",
      "16\n",
      "25\n",
      "36\n"
     ]
    }
   ],
   "source": [
    "print(\"enter the number\")\n",
    "n=int(input())\n",
    "for i in range(1, n+1):\n",
    "    print(i**2)"
   ]
  },
  {
   "cell_type": "code",
   "execution_count": 12,
   "id": "f88afc06",
   "metadata": {},
   "outputs": [],
   "source": [
    "def f1():\n",
    "    print(\"enter the number\")\n",
    "    n=int(input())\n",
    "    for i in range(1, n+1):\n",
    "        print(i**2, end=\" \")"
   ]
  },
  {
   "cell_type": "code",
   "execution_count": 13,
   "id": "d8003838",
   "metadata": {},
   "outputs": [
    {
     "name": "stdout",
     "output_type": "stream",
     "text": [
      "6\n",
      "1 4 9 16 25 36 "
     ]
    }
   ],
   "source": [
    "\n",
    "def f1():\n",
    "    print(\"enter the number\")\n",
    "n=int(input())\n",
    "for i in range(1, n+1):\n",
    "    print(i**2, end=\" \")"
   ]
  },
  {
   "cell_type": "code",
   "execution_count": 15,
   "id": "bde6a1da",
   "metadata": {},
   "outputs": [
    {
     "name": "stdout",
     "output_type": "stream",
     "text": [
      "6\n",
      "1 4 9 16 25 36 enter the number\n"
     ]
    }
   ],
   "source": [
    "def f1():\n",
    "    print(\"enter the number\")\n",
    "n=int(input())\n",
    "for i in range(1, n+1):\n",
    "    print(i**2, end=\" \")\n",
    "f1()"
   ]
  },
  {
   "cell_type": "code",
   "execution_count": 16,
   "id": "5e324c5b",
   "metadata": {},
   "outputs": [
    {
     "name": "stdout",
     "output_type": "stream",
     "text": [
      "enter the number\n"
     ]
    }
   ],
   "source": [
    "f1()"
   ]
  },
  {
   "cell_type": "code",
   "execution_count": 18,
   "id": "2bda0845",
   "metadata": {},
   "outputs": [
    {
     "name": "stdout",
     "output_type": "stream",
     "text": [
      "3\n",
      "1 4 9 enter the number\n",
      "enter the number\n"
     ]
    }
   ],
   "source": [
    "def f1():\n",
    "    print(\"enter the number\")\n",
    "n=int(input())\n",
    "for i in range(1, n+1):\n",
    "    print(i**2, end=\" \")\n",
    "f1()#function call\n",
    "f1()#function call\n"
   ]
  },
  {
   "cell_type": "code",
   "execution_count": 19,
   "id": "3664949e",
   "metadata": {},
   "outputs": [
    {
     "ename": "TypeError",
     "evalue": "f1() takes 0 positional arguments but 1 was given",
     "output_type": "error",
     "traceback": [
      "\u001b[0;31m---------------------------------------------------------------------------\u001b[0m",
      "\u001b[0;31mTypeError\u001b[0m                                 Traceback (most recent call last)",
      "Cell \u001b[0;32mIn[19], line 1\u001b[0m\n\u001b[0;32m----> 1\u001b[0m \u001b[43mf1\u001b[49m\u001b[43m(\u001b[49m\u001b[38;5;241;43m3\u001b[39;49m\u001b[43m)\u001b[49m\n",
      "\u001b[0;31mTypeError\u001b[0m: f1() takes 0 positional arguments but 1 was given"
     ]
    }
   ],
   "source": [
    "f1(3)"
   ]
  },
  {
   "cell_type": "code",
   "execution_count": null,
   "id": "9148db48",
   "metadata": {},
   "outputs": [],
   "source": [
    "#tsrn,tnrs,tnrs,tsrn"
   ]
  },
  {
   "cell_type": "code",
   "execution_count": 3,
   "id": "f25682d9",
   "metadata": {},
   "outputs": [
    {
     "name": "stdout",
     "output_type": "stream",
     "text": [
      "outside block 7\n",
      "fuction bloack 10\n"
     ]
    }
   ],
   "source": [
    "#Global veriable\n",
    "#Local veriable\n",
    "def f1():\n",
    "    x=10#local veriable\n",
    "    print(\"fuction bloack\",x)\n",
    "x=7\n",
    "print(\"outside block\",x)\n",
    "f1()\n",
    "    \n"
   ]
  },
  {
   "cell_type": "code",
   "execution_count": null,
   "id": "fcc1870d",
   "metadata": {},
   "outputs": [],
   "source": [
    "def f1():\n",
    "    x=10#local veriable\n",
    "    print(\"fuction bloack\",x)\n",
    "x=7\n",
    "print(\"outside block\",x)\n",
    "f1()"
   ]
  },
  {
   "cell_type": "code",
   "execution_count": 5,
   "id": "208bf553",
   "metadata": {},
   "outputs": [
    {
     "ename": "SyntaxError",
     "evalue": "invalid syntax (35092884.py, line 1)",
     "output_type": "error",
     "traceback": [
      "\u001b[0;36m  Cell \u001b[0;32mIn[5], line 1\u001b[0;36m\u001b[0m\n\u001b[0;31m    def f1(3):\u001b[0m\n\u001b[0m           ^\u001b[0m\n\u001b[0;31mSyntaxError\u001b[0m\u001b[0;31m:\u001b[0m invalid syntax\n"
     ]
    }
   ],
   "source": [
    "def f1(3):\n",
    "    #x=10#local veriable\n",
    "    print(\"fuction bloack\",x)\n",
    "x=7\n",
    "print(\"outside block\",x)\n",
    "f1()"
   ]
  },
  {
   "cell_type": "code",
   "execution_count": 6,
   "id": "49a90ce9",
   "metadata": {},
   "outputs": [
    {
     "ename": "TypeError",
     "evalue": "f1() got an unexpected keyword argument 'x'",
     "output_type": "error",
     "traceback": [
      "\u001b[0;31m---------------------------------------------------------------------------\u001b[0m",
      "\u001b[0;31mTypeError\u001b[0m                                 Traceback (most recent call last)",
      "Cell \u001b[0;32mIn[6], line 1\u001b[0m\n\u001b[0;32m----> 1\u001b[0m \u001b[43mf1\u001b[49m\u001b[43m(\u001b[49m\u001b[43mx\u001b[49m\u001b[38;5;241;43m=\u001b[39;49m\u001b[38;5;241;43m6\u001b[39;49m\u001b[43m)\u001b[49m\n",
      "\u001b[0;31mTypeError\u001b[0m: f1() got an unexpected keyword argument 'x'"
     ]
    }
   ],
   "source": [
    "f1(x=6)"
   ]
  },
  {
   "cell_type": "code",
   "execution_count": 7,
   "id": "065923ae",
   "metadata": {},
   "outputs": [
    {
     "name": "stdout",
     "output_type": "stream",
     "text": [
      "fuction bloack 10\n"
     ]
    }
   ],
   "source": [
    "f1()"
   ]
  },
  {
   "cell_type": "code",
   "execution_count": 8,
   "id": "04022caa",
   "metadata": {},
   "outputs": [
    {
     "name": "stdout",
     "output_type": "stream",
     "text": [
      "outside block 7\n",
      "fuction bloack 10\n"
     ]
    }
   ],
   "source": [
    "def f1():\n",
    "    x=10#local veriable\n",
    "    print(\"fuction bloack\",x)\n",
    "x=7\n",
    "print(\"outside block\",x)\n",
    "f1()"
   ]
  },
  {
   "cell_type": "code",
   "execution_count": 9,
   "id": "935c3eaa",
   "metadata": {},
   "outputs": [
    {
     "name": "stdout",
     "output_type": "stream",
     "text": [
      "fuction bloack 10\n"
     ]
    }
   ],
   "source": [
    "f1()"
   ]
  },
  {
   "cell_type": "code",
   "execution_count": 11,
   "id": "07b00da9",
   "metadata": {
    "scrolled": true
   },
   "outputs": [
    {
     "name": "stdout",
     "output_type": "stream",
     "text": [
      "outside block 7\n",
      "fuction bloack 10\n"
     ]
    },
    {
     "ename": "NameError",
     "evalue": "name 'f2' is not defined",
     "output_type": "error",
     "traceback": [
      "\u001b[0;31m---------------------------------------------------------------------------\u001b[0m",
      "\u001b[0;31mNameError\u001b[0m                                 Traceback (most recent call last)",
      "Cell \u001b[0;32mIn[11], line 8\u001b[0m\n\u001b[1;32m      6\u001b[0m x\u001b[38;5;241m=\u001b[39m\u001b[38;5;241m7\u001b[39m\n\u001b[1;32m      7\u001b[0m \u001b[38;5;28mprint\u001b[39m(\u001b[38;5;124m\"\u001b[39m\u001b[38;5;124moutside block\u001b[39m\u001b[38;5;124m\"\u001b[39m,x)\n\u001b[0;32m----> 8\u001b[0m \u001b[43mf1\u001b[49m\u001b[43m(\u001b[49m\u001b[43m)\u001b[49m\n\u001b[1;32m      9\u001b[0m f2()\n",
      "Cell \u001b[0;32mIn[11], line 4\u001b[0m, in \u001b[0;36mf1\u001b[0;34m()\u001b[0m\n\u001b[1;32m      2\u001b[0m x\u001b[38;5;241m=\u001b[39m\u001b[38;5;241m10\u001b[39m\u001b[38;5;66;03m#local veriable\u001b[39;00m\n\u001b[1;32m      3\u001b[0m \u001b[38;5;28mprint\u001b[39m(\u001b[38;5;124m\"\u001b[39m\u001b[38;5;124mfuction bloack\u001b[39m\u001b[38;5;124m\"\u001b[39m,x)\n\u001b[0;32m----> 4\u001b[0m \u001b[43mf2\u001b[49m()\n\u001b[1;32m      5\u001b[0m \u001b[38;5;28mprint\u001b[39m(\u001b[38;5;124m\"\u001b[39m\u001b[38;5;124mhi f2()\u001b[39m\u001b[38;5;124m\"\u001b[39m)\n",
      "\u001b[0;31mNameError\u001b[0m: name 'f2' is not defined"
     ]
    }
   ],
   "source": [
    "def f1():\n",
    "    x=10#local veriable\n",
    "    print(\"fuction bloack\",x)\n",
    "    f2()\n",
    "    print(\"hi f2()\")\n",
    "x=7\n",
    "print(\"outside block\",x)\n",
    "f1()\n",
    "f2()"
   ]
  },
  {
   "cell_type": "code",
   "execution_count": null,
   "id": "493782de",
   "metadata": {},
   "outputs": [],
   "source": [
    "#ways to define function\n",
    "#tsrn,tnrs,tnrs,tsrn"
   ]
  },
  {
   "cell_type": "code",
   "execution_count": 12,
   "id": "cb915362",
   "metadata": {},
   "outputs": [
    {
     "ename": "SyntaxError",
     "evalue": "invalid syntax (1331236398.py, line 1)",
     "output_type": "error",
     "traceback": [
      "\u001b[0;36m  Cell \u001b[0;32mIn[12], line 1\u001b[0;36m\u001b[0m\n\u001b[0;31m    ///def f():\u001b[0m\n\u001b[0m    ^\u001b[0m\n\u001b[0;31mSyntaxError\u001b[0m\u001b[0;31m:\u001b[0m invalid syntax\n"
     ]
    }
   ],
   "source": [
    "///def f():\n",
    "    ....\n",
    "    ....\n",
    "    return value///"
   ]
  },
  {
   "cell_type": "code",
   "execution_count": 13,
   "id": "949206a3",
   "metadata": {},
   "outputs": [
    {
     "name": "stdout",
     "output_type": "stream",
     "text": [
      "sum is 18\n"
     ]
    }
   ],
   "source": [
    "def add(a,b):#formal arguments\n",
    "    c=a+b\n",
    "    print(\"sum is\",c)\n",
    "add(10,8)#Actual arguments"
   ]
  },
  {
   "cell_type": "code",
   "execution_count": 14,
   "id": "fd21eec2",
   "metadata": {},
   "outputs": [
    {
     "name": "stdout",
     "output_type": "stream",
     "text": [
      "Enter two numbers\n",
      "8\n",
      "8\n",
      "sum is 16\n",
      "Enter two numbers\n",
      "7\n",
      "8\n"
     ]
    },
    {
     "data": {
      "text/plain": [
       "15"
      ]
     },
     "execution_count": 14,
     "metadata": {},
     "output_type": "execute_result"
    }
   ],
   "source": [
    "# Takes nothing, Return Something\n",
    "def add():\n",
    "    print(\"Enter two numbers\")\n",
    "    a,b=int(input()), int(input())\n",
    "    c=a+b\n",
    "    return c\n",
    "s=add()\n",
    "print(\"sum is\",s)\n",
    "add()"
   ]
  },
  {
   "cell_type": "code",
   "execution_count": 15,
   "id": "a46ead51",
   "metadata": {},
   "outputs": [
    {
     "data": {
      "text/plain": [
       "30"
      ]
     },
     "execution_count": 15,
     "metadata": {},
     "output_type": "execute_result"
    }
   ],
   "source": [
    "#Take something, Return Something\n",
    "def add(a,b):\n",
    "    c=a+b\n",
    "    return c\n",
    "add(10,20)"
   ]
  },
  {
   "cell_type": "code",
   "execution_count": 16,
   "id": "50984500",
   "metadata": {},
   "outputs": [
    {
     "name": "stdout",
     "output_type": "stream",
     "text": [
      "addition is 30\n"
     ]
    }
   ],
   "source": [
    "def add(a,b):\n",
    "    c=a+b\n",
    "    return print(\"addition is\", c)\n",
    "add(10,20)"
   ]
  },
  {
   "cell_type": "code",
   "execution_count": 17,
   "id": "f9a80635",
   "metadata": {},
   "outputs": [
    {
     "name": "stdout",
     "output_type": "stream",
     "text": [
      "addition is 30\n",
      "None\n"
     ]
    }
   ],
   "source": [
    " def add(a,b):\n",
    "    c=a+b\n",
    "    return print(\"addition is\", c)\n",
    "x=add(10,20)\n",
    "print(x)"
   ]
  },
  {
   "cell_type": "code",
   "execution_count": null,
   "id": "3d69436b",
   "metadata": {},
   "outputs": [],
   "source": [
    "#lambda expression\n",
    "#how to use lambda \n",
    "# lambda input:expression\n",
    "# lambda a,b=a+b\n"
   ]
  },
  {
   "cell_type": "code",
   "execution_count": 2,
   "id": "2737e1e0",
   "metadata": {},
   "outputs": [
    {
     "data": {
      "text/plain": [
       "12"
      ]
     },
     "execution_count": 2,
     "metadata": {},
     "output_type": "execute_result"
    }
   ],
   "source": [
    "def add(a,b):\n",
    "    return a+b\n",
    "add(6,6)\n",
    "#lambda x,y:x+y"
   ]
  },
  {
   "cell_type": "code",
   "execution_count": 3,
   "id": "b5a01bb0",
   "metadata": {},
   "outputs": [
    {
     "data": {
      "text/plain": [
       "<function __main__.<lambda>(x, y)>"
      ]
     },
     "execution_count": 3,
     "metadata": {},
     "output_type": "execute_result"
    }
   ],
   "source": [
    "lambda x,y:x+y"
   ]
  },
  {
   "cell_type": "code",
   "execution_count": 9,
   "id": "41f21f14",
   "metadata": {},
   "outputs": [
    {
     "data": {
      "text/plain": [
       "12"
      ]
     },
     "execution_count": 9,
     "metadata": {},
     "output_type": "execute_result"
    }
   ],
   "source": [
    "def add(a,b):\n",
    "    return a+b\n",
    "add(6,6)#function call\n",
    "#x=add#instance object\n",
    "#id(add)\n",
    "#id(x)"
   ]
  },
  {
   "cell_type": "code",
   "execution_count": 10,
   "id": "4d196805",
   "metadata": {},
   "outputs": [],
   "source": [
    "def add(a,b):\n",
    "    return a+b\n",
    "add(6,6)#function call\n",
    "x=add#instance object"
   ]
  },
  {
   "cell_type": "code",
   "execution_count": 11,
   "id": "529e15ec",
   "metadata": {},
   "outputs": [
    {
     "data": {
      "text/plain": [
       "139713105795184"
      ]
     },
     "execution_count": 11,
     "metadata": {},
     "output_type": "execute_result"
    }
   ],
   "source": [
    "id(add)"
   ]
  },
  {
   "cell_type": "code",
   "execution_count": 12,
   "id": "e9574501",
   "metadata": {},
   "outputs": [
    {
     "data": {
      "text/plain": [
       "139713105795184"
      ]
     },
     "execution_count": 12,
     "metadata": {},
     "output_type": "execute_result"
    }
   ],
   "source": [
    "id(x)"
   ]
  },
  {
   "cell_type": "code",
   "execution_count": 13,
   "id": "aeadd023",
   "metadata": {},
   "outputs": [
    {
     "data": {
      "text/plain": [
       "True"
      ]
     },
     "execution_count": 13,
     "metadata": {},
     "output_type": "execute_result"
    }
   ],
   "source": [
    "x is add"
   ]
  },
  {
   "cell_type": "code",
   "execution_count": 14,
   "id": "4f0c5cee",
   "metadata": {},
   "outputs": [
    {
     "data": {
      "text/plain": [
       "6"
      ]
     },
     "execution_count": 14,
     "metadata": {},
     "output_type": "execute_result"
    }
   ],
   "source": [
    "add(3,3)"
   ]
  },
  {
   "cell_type": "code",
   "execution_count": 15,
   "id": "b12f47fa",
   "metadata": {},
   "outputs": [
    {
     "data": {
      "text/plain": [
       "6"
      ]
     },
     "execution_count": 15,
     "metadata": {},
     "output_type": "execute_result"
    }
   ],
   "source": [
    "x(3,3)"
   ]
  },
  {
   "cell_type": "code",
   "execution_count": 16,
   "id": "4cb48fee",
   "metadata": {},
   "outputs": [
    {
     "data": {
      "text/plain": [
       "<function __main__.<lambda>(a, b)>"
      ]
     },
     "execution_count": 16,
     "metadata": {},
     "output_type": "execute_result"
    }
   ],
   "source": [
    "lambda a,b:a+b"
   ]
  },
  {
   "cell_type": "code",
   "execution_count": 17,
   "id": "9746b1c3",
   "metadata": {},
   "outputs": [],
   "source": [
    "#(lambda a,b:a+b)=x\n",
    "#(lambda a,b:a+b)(3,4)\n",
    "#x(3,4)\n",
    "#add(3,4)"
   ]
  },
  {
   "cell_type": "code",
   "execution_count": 18,
   "id": "09bafaa9",
   "metadata": {},
   "outputs": [
    {
     "data": {
      "text/plain": [
       "7"
      ]
     },
     "execution_count": 18,
     "metadata": {},
     "output_type": "execute_result"
    }
   ],
   "source": [
    "(lambda a,b:a+b)(3,4)"
   ]
  },
  {
   "cell_type": "code",
   "execution_count": 19,
   "id": "9667d979",
   "metadata": {},
   "outputs": [
    {
     "data": {
      "text/plain": [
       "7"
      ]
     },
     "execution_count": 19,
     "metadata": {},
     "output_type": "execute_result"
    }
   ],
   "source": [
    "f1=lambda a,b:a+b\n",
    "f1(3,4)"
   ]
  },
  {
   "cell_type": "code",
   "execution_count": null,
   "id": "678b399d",
   "metadata": {},
   "outputs": [],
   "source": [
    "#Recursion using lambda"
   ]
  },
  {
   "cell_type": "code",
   "execution_count": 21,
   "id": "129b23e9",
   "metadata": {},
   "outputs": [
    {
     "data": {
      "text/plain": [
       "120"
      ]
     },
     "execution_count": 21,
     "metadata": {},
     "output_type": "execute_result"
    }
   ],
   "source": [
    "#Calculate factorial of a numbers using recursive lambda expression\n",
    "def fact(n):\n",
    "    if n==0 or n==1:\n",
    "        return 1\n",
    "    return n*fact(n-1)\n",
    "fact(5)"
   ]
  },
  {
   "cell_type": "code",
   "execution_count": 23,
   "id": "44bf478f",
   "metadata": {},
   "outputs": [
    {
     "data": {
      "text/plain": [
       "120"
      ]
     },
     "execution_count": 23,
     "metadata": {},
     "output_type": "execute_result"
    }
   ],
   "source": [
    "f=lambda n:1 if n==0 or n==1 else n*f(n-1)\n",
    "f(5)"
   ]
  },
  {
   "cell_type": "code",
   "execution_count": 24,
   "id": "d87523e6",
   "metadata": {},
   "outputs": [
    {
     "data": {
      "text/plain": [
       "93326215443944152681699238856266700490715968264381621468592963895217599993229915608941463976156518286253697920827223758251185210916864000000000000000000000000"
      ]
     },
     "execution_count": 24,
     "metadata": {},
     "output_type": "execute_result"
    }
   ],
   "source": [
    "f(100)"
   ]
  },
  {
   "cell_type": "code",
   "execution_count": null,
   "id": "b6a7859b",
   "metadata": {},
   "outputs": [],
   "source": [
    "#Default Arguments, Positional and Keyword arguments\n",
    "def f1(a,b):\n",
    "    d=a+b\n",
    "    print(\"Sum is\", d)\n",
    "f1(3,4)#function call\n",
    "f1(3,4,5)#function call"
   ]
  },
  {
   "cell_type": "code",
   "execution_count": null,
   "id": "124d5ba5",
   "metadata": {},
   "outputs": [],
   "source": [
    "def f1(a,b,c):\n",
    "    d=a+b\n",
    "    print(\"Sum is\", d)\n",
    "f1(3,4)#function call\n",
    "f1(3,4,5)#function call"
   ]
  },
  {
   "cell_type": "code",
   "execution_count": null,
   "id": "83b166aa",
   "metadata": {},
   "outputs": [],
   "source": [
    "def f1(a,b,c=0):\n",
    "    d=a+b\n",
    "    print(\"Sum is\", d)\n",
    "f1(3,4)#function call\n",
    "f1(3,4,5)#function call"
   ]
  },
  {
   "cell_type": "code",
   "execution_count": null,
   "id": "934361fb",
   "metadata": {},
   "outputs": [],
   "source": [
    "def f1(a,b=0,c):\n",
    "    d=a+b\n",
    "    print(\"Sum is\", d)\n",
    "f1(3,4)#function call\n",
    "f1(3,4,5)#function call"
   ]
  },
  {
   "cell_type": "code",
   "execution_count": null,
   "id": "e3f68141",
   "metadata": {},
   "outputs": [],
   "source": [
    "def f1(a,b=0,c=0):\n",
    "    d=a+b\n",
    "    print(\"Sum is\", d)\n",
    "f1(3,4)#function call\n",
    "f1(3,4,5)#function call"
   ]
  },
  {
   "cell_type": "code",
   "execution_count": null,
   "id": "6e6fc325",
   "metadata": {},
   "outputs": [],
   "source": [
    "def f1(a=0,b=0,c=0):\n",
    "    d=a+b\n",
    "    print(\"Sum is\", d)\n",
    "f1()\n",
    "f1(10)\n",
    "f1(3,4)#function call\n",
    "f1(3,4,5)#function call"
   ]
  },
  {
   "cell_type": "code",
   "execution_count": null,
   "id": "fd4bd9cf",
   "metadata": {},
   "outputs": [],
   "source": [
    "def f1(a,b):\n",
    "    print(\"a=\",a, \"b=\",b)\n",
    "f1(2,3)#a=2 b=3, positional arguments\n",
    "f1(a=2,b=3)# keyword arguments\n",
    "#f1(b=2,3)#can not hv positional arg after keyword arg "
   ]
  },
  {
   "cell_type": "code",
   "execution_count": null,
   "id": "905ed597",
   "metadata": {},
   "outputs": [],
   "source": [
    "def f1(a,b):\n",
    "    print(\"a=\",a, \"b=\",b) \n",
    "f1(2,4)\n",
    "#f1(a=2,4)\n",
    "#f1(2, b=3)"
   ]
  },
  {
   "cell_type": "code",
   "execution_count": 30,
   "id": "4d70cc29",
   "metadata": {},
   "outputs": [
    {
     "ename": "SyntaxError",
     "evalue": "positional argument follows keyword argument (699038625.py, line 1)",
     "output_type": "error",
     "traceback": [
      "\u001b[0;36m  Cell \u001b[0;32mIn[30], line 1\u001b[0;36m\u001b[0m\n\u001b[0;31m    f1(a=2,4)\u001b[0m\n\u001b[0m            ^\u001b[0m\n\u001b[0;31mSyntaxError\u001b[0m\u001b[0;31m:\u001b[0m positional argument follows keyword argument\n"
     ]
    }
   ],
   "source": [
    "f1(a=2,4)"
   ]
  },
  {
   "cell_type": "code",
   "execution_count": 29,
   "id": "2cc72dad",
   "metadata": {},
   "outputs": [
    {
     "data": {
      "text/plain": [
       "5"
      ]
     },
     "execution_count": 29,
     "metadata": {},
     "output_type": "execute_result"
    }
   ],
   "source": [
    "f1(2, b=3)"
   ]
  },
  {
   "cell_type": "code",
   "execution_count": 25,
   "id": "fb5d32b5",
   "metadata": {},
   "outputs": [
    {
     "ename": "SyntaxError",
     "evalue": "positional argument follows keyword argument (1511828503.py, line 1)",
     "output_type": "error",
     "traceback": [
      "\u001b[0;36m  Cell \u001b[0;32mIn[25], line 1\u001b[0;36m\u001b[0m\n\u001b[0;31m    f1(b=2,3)\u001b[0m\n\u001b[0m            ^\u001b[0m\n\u001b[0;31mSyntaxError\u001b[0m\u001b[0;31m:\u001b[0m positional argument follows keyword argument\n"
     ]
    }
   ],
   "source": [
    "f1(b=2,3)"
   ]
  },
  {
   "cell_type": "code",
   "execution_count": null,
   "id": "d474275d",
   "metadata": {},
   "outputs": [],
   "source": [
    "#class\n",
    "object"
   ]
  },
  {
   "cell_type": "code",
   "execution_count": null,
   "id": "17142719",
   "metadata": {},
   "outputs": [],
   "source": [
    "  #Recurssion-function calling itself is a recurssion\n",
    "def f1():\n",
    "    f1()"
   ]
  },
  {
   "cell_type": "code",
   "execution_count": 1,
   "id": "d5c982c3",
   "metadata": {},
   "outputs": [],
   "source": [
    "def f():\n",
    "    print(\"hi\")\n",
    "    f()"
   ]
  },
  {
   "cell_type": "code",
   "execution_count": 4,
   "id": "014ade80",
   "metadata": {},
   "outputs": [],
   "source": [
    "def f():\n",
    "    print(\"hi\")\n",
    "    f()\n",
    "#f()\n",
    "#never ending recursion,"
   ]
  },
  {
   "cell_type": "code",
   "execution_count": 5,
   "id": "e77dfaef",
   "metadata": {
    "scrolled": false
   },
   "outputs": [],
   "source": [
    "def f():\n",
    "    print(\"hi\")\n",
    "    f()\n",
    "    print(\"bye\")\n",
    "#f()\n",
    "#never ending recursion,\n",
    "#we have not create a situatin where recursion can end"
   ]
  },
  {
   "cell_type": "code",
   "execution_count": 6,
   "id": "d1142765",
   "metadata": {},
   "outputs": [],
   "source": [
    "def f1(n):\n",
    "    if n==1:\n",
    "        return 1\n",
    "    s=n+f(n-1)\n",
    "    return s\n",
    "        \n",
    "        "
   ]
  },
  {
   "cell_type": "code",
   "execution_count": 8,
   "id": "3e9a0137",
   "metadata": {},
   "outputs": [
    {
     "name": "stdout",
     "output_type": "stream",
     "text": [
      "enter a number4\n"
     ]
    }
   ],
   "source": [
    "n=int(input(\"enter a number\"))\n",
    "def f1(n):\n",
    "    if n==1:\n",
    "        return 1\n",
    "    s=n+f(n-1)\n",
    "    return s\n",
    "        "
   ]
  },
  {
   "cell_type": "code",
   "execution_count": 9,
   "id": "bd8fcb64",
   "metadata": {},
   "outputs": [],
   "source": [
    "#n=int(input(\"enter a number\"))\n",
    "def f1(n):\n",
    "    n=int(input(\"enter a number\"))\n",
    "    if n==1:\n",
    "        return 1\n",
    "    s=n+f(n-1)\n",
    "    return s\n",
    "        "
   ]
  },
  {
   "cell_type": "code",
   "execution_count": 10,
   "id": "84659343",
   "metadata": {},
   "outputs": [
    {
     "ename": "TypeError",
     "evalue": "f1() missing 1 required positional argument: 'n'",
     "output_type": "error",
     "traceback": [
      "\u001b[0;31m---------------------------------------------------------------------------\u001b[0m",
      "\u001b[0;31mTypeError\u001b[0m                                 Traceback (most recent call last)",
      "Cell \u001b[0;32mIn[10], line 7\u001b[0m\n\u001b[1;32m      5\u001b[0m     s\u001b[38;5;241m=\u001b[39mn\u001b[38;5;241m+\u001b[39mf(n\u001b[38;5;241m-\u001b[39m\u001b[38;5;241m1\u001b[39m)\n\u001b[1;32m      6\u001b[0m     \u001b[38;5;28;01mreturn\u001b[39;00m s\n\u001b[0;32m----> 7\u001b[0m \u001b[43mf1\u001b[49m\u001b[43m(\u001b[49m\u001b[43m)\u001b[49m\n",
      "\u001b[0;31mTypeError\u001b[0m: f1() missing 1 required positional argument: 'n'"
     ]
    }
   ],
   "source": [
    "def f1(n):\n",
    "    n=int(input(\"enter a number\"))\n",
    "    if n==1:\n",
    "        return 1\n",
    "    s=n+f(n-1)\n",
    "    return s\n",
    "f1()"
   ]
  },
  {
   "cell_type": "code",
   "execution_count": 11,
   "id": "5695bd9e",
   "metadata": {},
   "outputs": [
    {
     "name": "stdout",
     "output_type": "stream",
     "text": [
      "enter a number4\n"
     ]
    },
    {
     "ename": "TypeError",
     "evalue": "f() takes 0 positional arguments but 1 was given",
     "output_type": "error",
     "traceback": [
      "\u001b[0;31m---------------------------------------------------------------------------\u001b[0m",
      "\u001b[0;31mTypeError\u001b[0m                                 Traceback (most recent call last)",
      "Cell \u001b[0;32mIn[11], line 7\u001b[0m\n\u001b[1;32m      5\u001b[0m     s\u001b[38;5;241m=\u001b[39mn\u001b[38;5;241m+\u001b[39mf(n\u001b[38;5;241m-\u001b[39m\u001b[38;5;241m1\u001b[39m)\n\u001b[1;32m      6\u001b[0m     \u001b[38;5;28;01mreturn\u001b[39;00m s\n\u001b[0;32m----> 7\u001b[0m \u001b[43mf1\u001b[49m\u001b[43m(\u001b[49m\u001b[38;5;241;43m4\u001b[39;49m\u001b[43m)\u001b[49m\n",
      "Cell \u001b[0;32mIn[11], line 5\u001b[0m, in \u001b[0;36mf1\u001b[0;34m(n)\u001b[0m\n\u001b[1;32m      3\u001b[0m \u001b[38;5;28;01mif\u001b[39;00m n\u001b[38;5;241m==\u001b[39m\u001b[38;5;241m1\u001b[39m:\n\u001b[1;32m      4\u001b[0m     \u001b[38;5;28;01mreturn\u001b[39;00m \u001b[38;5;241m1\u001b[39m\n\u001b[0;32m----> 5\u001b[0m s\u001b[38;5;241m=\u001b[39mn\u001b[38;5;241m+\u001b[39m\u001b[43mf\u001b[49m\u001b[43m(\u001b[49m\u001b[43mn\u001b[49m\u001b[38;5;241;43m-\u001b[39;49m\u001b[38;5;241;43m1\u001b[39;49m\u001b[43m)\u001b[49m\n\u001b[1;32m      6\u001b[0m \u001b[38;5;28;01mreturn\u001b[39;00m s\n",
      "\u001b[0;31mTypeError\u001b[0m: f() takes 0 positional arguments but 1 was given"
     ]
    }
   ],
   "source": [
    "def f1(n):\n",
    "    n=int(input(\"enter a number\"))\n",
    "    if n==1:\n",
    "        return 1\n",
    "    s=n+f(n-1)\n",
    "    return s\n",
    "f1(4)"
   ]
  },
  {
   "cell_type": "code",
   "execution_count": 14,
   "id": "eb2e3f1a",
   "metadata": {},
   "outputs": [
    {
     "data": {
      "text/plain": [
       "10"
      ]
     },
     "execution_count": 14,
     "metadata": {},
     "output_type": "execute_result"
    }
   ],
   "source": [
    "def f1(n):\n",
    "    if n==1:# base case \n",
    "        return 1\n",
    "    s=n+f1(n-1)\n",
    "    return s\n",
    "f1(4)"
   ]
  },
  {
   "cell_type": "code",
   "execution_count": 17,
   "id": "9d20b5ec",
   "metadata": {},
   "outputs": [
    {
     "name": "stdout",
     "output_type": "stream",
     "text": [
      "summation upto n 6\n"
     ]
    }
   ],
   "source": [
    "def f1(n):\n",
    "    if n==1:\n",
    "        return 1\n",
    "    s=n+f1(n-1)\n",
    "    return s\n",
    "f1(4)\n",
    "x=f1(3)\n",
    "print(\"summation upto n\",x)"
   ]
  },
  {
   "cell_type": "code",
   "execution_count": null,
   "id": "a9bcb4e5",
   "metadata": {},
   "outputs": [],
   "source": [
    "def f1(n):\n",
    "    if n==1:\n",
    "        return 1\n",
    "    s=n+f1(n-1)\n",
    "    return s\n",
    "f1(4)\n",
    "#4+f(3)\n",
    "#f(3)=3+f(2),f(2)=2+f(1),f(1)=1= 2+1+3+3+4+6 "
   ]
  },
  {
   "cell_type": "code",
   "execution_count": null,
   "id": "b764617f",
   "metadata": {},
   "outputs": [],
   "source": [
    "#oops concept\n",
    "#encapsulation, abstraction, inheritance, polymorphism"
   ]
  },
  {
   "cell_type": "code",
   "execution_count": null,
   "id": "049799b8",
   "metadata": {},
   "outputs": [],
   "source": [
    "#classes -comman noun, object- proper noun, state-set of properties stored in bject"
   ]
  },
  {
   "cell_type": "code",
   "execution_count": null,
   "id": "6bb4d4c8",
   "metadata": {},
   "outputs": [],
   "source": [
    "# defining class\n",
    "#class class_name:\n",
    "#    veriable\n",
    "#    function"
   ]
  },
  {
   "cell_type": "code",
   "execution_count": 18,
   "id": "f1879661",
   "metadata": {},
   "outputs": [],
   "source": [
    "#creating object\n",
    "class test:\n",
    "    x=9\n",
    "    y=8\n",
    "    def f():\n",
    "        print(\"hi\")\n",
    "        x=3\n",
    "        print(\"x is \", x)\n",
    "t1=test()\n",
    "t2=test()#object"
   ]
  },
  {
   "cell_type": "code",
   "execution_count": 21,
   "id": "bd34de04",
   "metadata": {},
   "outputs": [],
   "source": [
    "#creating object\n",
    "class Test:\n",
    "    x=9\n",
    "    y=8\n",
    "    def f3():\n",
    "        print(\"hi\")\n",
    "        x=3\n",
    "        print(\"x is \", x)\n",
    "t1=Test()\n",
    "t2=Test()#object\n",
    "#f3()"
   ]
  },
  {
   "cell_type": "code",
   "execution_count": 23,
   "id": "ebb6839e",
   "metadata": {
    "scrolled": true
   },
   "outputs": [
    {
     "name": "stdout",
     "output_type": "stream",
     "text": [
      "hi\n",
      "x is  3\n",
      "hi\n",
      "x is  3\n"
     ]
    }
   ],
   "source": [
    "class Test:\n",
    "    x=9\n",
    "    y=8\n",
    "    def __init__(self):\n",
    "        print(\"hi\")\n",
    "        x=3\n",
    "        print(\"x is \", x)\n",
    "t1=Test()\n",
    "t2=Test()#object"
   ]
  },
  {
   "cell_type": "code",
   "execution_count": 26,
   "id": "d4da93c7",
   "metadata": {},
   "outputs": [
    {
     "ename": "NameError",
     "evalue": "name 'a' is not defined",
     "output_type": "error",
     "traceback": [
      "\u001b[0;31m---------------------------------------------------------------------------\u001b[0m",
      "\u001b[0;31mNameError\u001b[0m                                 Traceback (most recent call last)",
      "Cell \u001b[0;32mIn[26], line 7\u001b[0m\n\u001b[1;32m      5\u001b[0m         \u001b[38;5;28mself\u001b[39m\u001b[38;5;241m.\u001b[39ma\u001b[38;5;241m=\u001b[39ma\n\u001b[1;32m      6\u001b[0m         \u001b[38;5;28mprint\u001b[39m(\u001b[38;5;124m\"\u001b[39m\u001b[38;5;124ma is\u001b[39m\u001b[38;5;124m\"\u001b[39m, a)\n\u001b[0;32m----> 7\u001b[0m t1\u001b[38;5;241m=\u001b[39mbest(\u001b[43ma\u001b[49m)\u001b[38;5;66;03m#__init__(t1)\u001b[39;00m\n",
      "\u001b[0;31mNameError\u001b[0m: name 'a' is not defined"
     ]
    }
   ],
   "source": [
    "class best:\n",
    "    x=2\n",
    "    y=1\n",
    "    def __init__(self):\n",
    "        self.a=a\n",
    "        print(\"a is\", a)\n",
    "t1=best(a)#__init__(t1)"
   ]
  },
  {
   "cell_type": "code",
   "execution_count": 28,
   "id": "f3a72903",
   "metadata": {},
   "outputs": [
    {
     "ename": "NameError",
     "evalue": "name 'a' is not defined",
     "output_type": "error",
     "traceback": [
      "\u001b[0;31m---------------------------------------------------------------------------\u001b[0m",
      "\u001b[0;31mNameError\u001b[0m                                 Traceback (most recent call last)",
      "Cell \u001b[0;32mIn[28], line 7\u001b[0m\n\u001b[1;32m      5\u001b[0m         \u001b[38;5;28mself\u001b[39m\u001b[38;5;241m.\u001b[39ma\u001b[38;5;241m=\u001b[39ma\n\u001b[1;32m      6\u001b[0m         \u001b[38;5;28mprint\u001b[39m(\u001b[38;5;124m\"\u001b[39m\u001b[38;5;124ma is\u001b[39m\u001b[38;5;124m\"\u001b[39m)\n\u001b[0;32m----> 7\u001b[0m t1\u001b[38;5;241m=\u001b[39mBest(\u001b[43ma\u001b[49m)\u001b[38;5;66;03m#__init__(t1)\u001b[39;00m\n",
      "\u001b[0;31mNameError\u001b[0m: name 'a' is not defined"
     ]
    }
   ],
   "source": [
    "class Best:\n",
    "    x=2\n",
    "    y=1\n",
    "    def __init__(self):\n",
    "        self.a=a\n",
    "        print(\"a is\")\n",
    "t1=Best(a)#__init__(t1)"
   ]
  },
  {
   "cell_type": "code",
   "execution_count": 29,
   "id": "94a1e267",
   "metadata": {},
   "outputs": [
    {
     "ename": "NameError",
     "evalue": "name 'a' is not defined",
     "output_type": "error",
     "traceback": [
      "\u001b[0;31m---------------------------------------------------------------------------\u001b[0m",
      "\u001b[0;31mNameError\u001b[0m                                 Traceback (most recent call last)",
      "Cell \u001b[0;32mIn[29], line 7\u001b[0m\n\u001b[1;32m      5\u001b[0m         \u001b[38;5;28mself\u001b[39m\u001b[38;5;241m.\u001b[39ma\u001b[38;5;241m=\u001b[39ma\n\u001b[1;32m      6\u001b[0m         \u001b[38;5;28mprint\u001b[39m(\u001b[38;5;124m\"\u001b[39m\u001b[38;5;124ma is\u001b[39m\u001b[38;5;124m\"\u001b[39m, a)\n\u001b[0;32m----> 7\u001b[0m t1\u001b[38;5;241m=\u001b[39mBest(\u001b[43ma\u001b[49m)\u001b[38;5;66;03m#__init__(t1)\u001b[39;00m\n",
      "\u001b[0;31mNameError\u001b[0m: name 'a' is not defined"
     ]
    }
   ],
   "source": [
    "class Best:\n",
    "    x=2\n",
    "    y=1\n",
    "    def __init__(self):\n",
    "        self.a=a\n",
    "        print(\"a is\", a)\n",
    "t1=Best(a)#__init__(t1)"
   ]
  },
  {
   "cell_type": "code",
   "execution_count": 30,
   "id": "ec2ceba0",
   "metadata": {},
   "outputs": [
    {
     "ename": "NameError",
     "evalue": "name 'a' is not defined",
     "output_type": "error",
     "traceback": [
      "\u001b[0;31m---------------------------------------------------------------------------\u001b[0m",
      "\u001b[0;31mNameError\u001b[0m                                 Traceback (most recent call last)",
      "Cell \u001b[0;32mIn[30], line 7\u001b[0m\n\u001b[1;32m      5\u001b[0m         \u001b[38;5;28mself\u001b[39m\u001b[38;5;241m.\u001b[39ma\u001b[38;5;241m=\u001b[39ma\n\u001b[1;32m      6\u001b[0m         \u001b[38;5;28mprint\u001b[39m(\u001b[38;5;124m\"\u001b[39m\u001b[38;5;124ma is\u001b[39m\u001b[38;5;124m\"\u001b[39m, a)\n\u001b[0;32m----> 7\u001b[0m t1\u001b[38;5;241m=\u001b[39m\u001b[43mBest\u001b[49m\u001b[43m(\u001b[49m\u001b[43m)\u001b[49m\u001b[38;5;66;03m#__init__(t1)\u001b[39;00m\n",
      "Cell \u001b[0;32mIn[30], line 5\u001b[0m, in \u001b[0;36mBest.__init__\u001b[0;34m(self)\u001b[0m\n\u001b[1;32m      4\u001b[0m \u001b[38;5;28;01mdef\u001b[39;00m \u001b[38;5;21m__init__\u001b[39m(\u001b[38;5;28mself\u001b[39m):\n\u001b[0;32m----> 5\u001b[0m     \u001b[38;5;28mself\u001b[39m\u001b[38;5;241m.\u001b[39ma\u001b[38;5;241m=\u001b[39m\u001b[43ma\u001b[49m\n\u001b[1;32m      6\u001b[0m     \u001b[38;5;28mprint\u001b[39m(\u001b[38;5;124m\"\u001b[39m\u001b[38;5;124ma is\u001b[39m\u001b[38;5;124m\"\u001b[39m, a)\n",
      "\u001b[0;31mNameError\u001b[0m: name 'a' is not defined"
     ]
    }
   ],
   "source": [
    "class Best:\n",
    "    x=2\n",
    "    y=1\n",
    "    def __init__(self):\n",
    "        self.a=a\n",
    "        print(\"a is\", a)\n",
    "t1=Best()#__init__(t1)"
   ]
  },
  {
   "cell_type": "code",
   "execution_count": 31,
   "id": "b27bc649",
   "metadata": {},
   "outputs": [
    {
     "ename": "NameError",
     "evalue": "name 'a' is not defined",
     "output_type": "error",
     "traceback": [
      "\u001b[0;31m---------------------------------------------------------------------------\u001b[0m",
      "\u001b[0;31mNameError\u001b[0m                                 Traceback (most recent call last)",
      "Cell \u001b[0;32mIn[31], line 7\u001b[0m\n\u001b[1;32m      5\u001b[0m         \u001b[38;5;28mself\u001b[39m\u001b[38;5;241m.\u001b[39ma\u001b[38;5;241m=\u001b[39m\u001b[38;5;241m4\u001b[39m\n\u001b[1;32m      6\u001b[0m         \u001b[38;5;28mprint\u001b[39m(\u001b[38;5;124m\"\u001b[39m\u001b[38;5;124ma is\u001b[39m\u001b[38;5;124m\"\u001b[39m, a)\n\u001b[0;32m----> 7\u001b[0m t1\u001b[38;5;241m=\u001b[39m\u001b[43mBest\u001b[49m\u001b[43m(\u001b[49m\u001b[43m)\u001b[49m\u001b[38;5;66;03m#__init__(t1)\u001b[39;00m\n",
      "Cell \u001b[0;32mIn[31], line 6\u001b[0m, in \u001b[0;36mBest.__init__\u001b[0;34m(self)\u001b[0m\n\u001b[1;32m      4\u001b[0m \u001b[38;5;28;01mdef\u001b[39;00m \u001b[38;5;21m__init__\u001b[39m(\u001b[38;5;28mself\u001b[39m):\n\u001b[1;32m      5\u001b[0m     \u001b[38;5;28mself\u001b[39m\u001b[38;5;241m.\u001b[39ma\u001b[38;5;241m=\u001b[39m\u001b[38;5;241m4\u001b[39m\n\u001b[0;32m----> 6\u001b[0m     \u001b[38;5;28mprint\u001b[39m(\u001b[38;5;124m\"\u001b[39m\u001b[38;5;124ma is\u001b[39m\u001b[38;5;124m\"\u001b[39m, \u001b[43ma\u001b[49m)\n",
      "\u001b[0;31mNameError\u001b[0m: name 'a' is not defined"
     ]
    }
   ],
   "source": [
    "class Best:\n",
    "    x=2\n",
    "    y=1\n",
    "    def __init__(self):\n",
    "        self.a=4\n",
    "        print(\"a is\", a)\n",
    "t1=Best()#__init__(t1)"
   ]
  },
  {
   "cell_type": "code",
   "execution_count": 34,
   "id": "4b554d25",
   "metadata": {},
   "outputs": [
    {
     "name": "stdout",
     "output_type": "stream",
     "text": [
      "a is 6\n"
     ]
    }
   ],
   "source": [
    "class Best:\n",
    "    x=2\n",
    "    y=1\n",
    "    def __init__(self,a):\n",
    "        self.a=a\n",
    "        print(\"a is\", a)\n",
    "t1=Best(6)#__init__(t1,6)#t1=object,t1 contain a=6"
   ]
  },
  {
   "cell_type": "code",
   "execution_count": 35,
   "id": "3a6498d7",
   "metadata": {},
   "outputs": [],
   "source": [
    "class Best:\n",
    "    x=2\n",
    "    y=1\n",
    "    def __init__(self,a):\n",
    "        self.a=a\n",
    "        #print(\"a is\", a)\n",
    "t1=Best(6)#__init__(t1,6)#t1=object,t1 contain a=6"
   ]
  },
  {
   "cell_type": "code",
   "execution_count": 36,
   "id": "f110bf4a",
   "metadata": {},
   "outputs": [
    {
     "ename": "SyntaxError",
     "evalue": "invalid syntax (2362958265.py, line 4)",
     "output_type": "error",
     "traceback": [
      "\u001b[0;36m  Cell \u001b[0;32mIn[36], line 4\u001b[0;36m\u001b[0m\n\u001b[0;31m    def __init__(self,4):\u001b[0m\n\u001b[0m                      ^\u001b[0m\n\u001b[0;31mSyntaxError\u001b[0m\u001b[0;31m:\u001b[0m invalid syntax\n"
     ]
    }
   ],
   "source": [
    "class Best:\n",
    "    x=2\n",
    "    y=1\n",
    "    def __init__(self,4):\n",
    "        self.a=a\n",
    "        print(\"a is\", a)\n",
    "t1=Best(6)#__init__(t1,6)#t1=object,t1 contain a=6"
   ]
  },
  {
   "cell_type": "code",
   "execution_count": null,
   "id": "c666a010",
   "metadata": {},
   "outputs": [],
   "source": []
  },
  {
   "cell_type": "code",
   "execution_count": 37,
   "id": "f2a1c1c3",
   "metadata": {},
   "outputs": [
    {
     "name": "stdout",
     "output_type": "stream",
     "text": [
      "a is 6\n",
      "a is 8\n"
     ]
    }
   ],
   "source": [
    "class Best:\n",
    "    x=2\n",
    "    y=1\n",
    "    def __init__(self,a):\n",
    "        self.a=a\n",
    "        print(\"a is\", a)\n",
    "t1=Best(6)#__init__(t1,6)#t1=object,t1 contain a=6\n",
    "t2=Best(8)"
   ]
  },
  {
   "cell_type": "code",
   "execution_count": null,
   "id": "4b285530",
   "metadata": {},
   "outputs": [],
   "source": [
    "#class object variable,instance object veriable, local veriable, global variable"
   ]
  },
  {
   "cell_type": "code",
   "execution_count": 38,
   "id": "7c00a744",
   "metadata": {},
   "outputs": [
    {
     "ename": "TypeError",
     "evalue": "Test.__init__() takes 1 positional argument but 2 were given",
     "output_type": "error",
     "traceback": [
      "\u001b[0;31m---------------------------------------------------------------------------\u001b[0m",
      "\u001b[0;31mTypeError\u001b[0m                                 Traceback (most recent call last)",
      "Cell \u001b[0;32mIn[38], line 8\u001b[0m\n\u001b[1;32m      6\u001b[0m         \u001b[38;5;28mself\u001b[39m\u001b[38;5;241m.\u001b[39ma\u001b[38;5;241m=\u001b[39m\u001b[38;5;241m9\u001b[39m\n\u001b[1;32m      7\u001b[0m         \u001b[38;5;66;03m#print(\"a is\",a)\u001b[39;00m\n\u001b[0;32m----> 8\u001b[0m t1\u001b[38;5;241m=\u001b[39m\u001b[43mTest\u001b[49m\u001b[43m(\u001b[49m\u001b[38;5;241;43m4\u001b[39;49m\u001b[43m)\u001b[49m\n\u001b[1;32m      9\u001b[0m t2\u001b[38;5;241m=\u001b[39mTest()\n",
      "\u001b[0;31mTypeError\u001b[0m: Test.__init__() takes 1 positional argument but 2 were given"
     ]
    }
   ],
   "source": [
    "class Test():\n",
    "    x=2\n",
    "    def f():\n",
    "        m=1\n",
    "    def __init__(self):\n",
    "        self.a=9\n",
    "        #print(\"a is\",a)\n",
    "t1=Test(4)\n",
    "t2=Test()\n",
    "    "
   ]
  },
  {
   "cell_type": "code",
   "execution_count": 40,
   "id": "42e07468",
   "metadata": {},
   "outputs": [
    {
     "ename": "TypeError",
     "evalue": "Test.__init__() takes 1 positional argument but 2 were given",
     "output_type": "error",
     "traceback": [
      "\u001b[0;31m---------------------------------------------------------------------------\u001b[0m",
      "\u001b[0;31mTypeError\u001b[0m                                 Traceback (most recent call last)",
      "Cell \u001b[0;32mIn[40], line 8\u001b[0m\n\u001b[1;32m      5\u001b[0m     \u001b[38;5;28;01mdef\u001b[39;00m \u001b[38;5;21m__init__\u001b[39m(\u001b[38;5;28mself\u001b[39m):\n\u001b[1;32m      6\u001b[0m         \u001b[38;5;66;03m#self.a=a\u001b[39;00m\n\u001b[1;32m      7\u001b[0m         \u001b[38;5;28mprint\u001b[39m(\u001b[38;5;124m\"\u001b[39m\u001b[38;5;124ma is\u001b[39m\u001b[38;5;124m\"\u001b[39m,a)\n\u001b[0;32m----> 8\u001b[0m t1\u001b[38;5;241m=\u001b[39m\u001b[43mTest\u001b[49m\u001b[43m(\u001b[49m\u001b[38;5;241;43m4\u001b[39;49m\u001b[43m)\u001b[49m\n\u001b[1;32m      9\u001b[0m t2\u001b[38;5;241m=\u001b[39mTest()\n",
      "\u001b[0;31mTypeError\u001b[0m: Test.__init__() takes 1 positional argument but 2 were given"
     ]
    }
   ],
   "source": [
    "class Test():\n",
    "    x=2\n",
    "    def f():\n",
    "        m=1\n",
    "    def __init__(self):\n",
    "        #self.a=a\n",
    "        print(\"a is\",a)\n",
    "t1=Test(4)\n",
    "t2=Test()\n",
    "    "
   ]
  },
  {
   "cell_type": "code",
   "execution_count": 42,
   "id": "fc77f8c4",
   "metadata": {},
   "outputs": [],
   "source": [
    "class Test():\n",
    "    x=2\n",
    "    def f():\n",
    "        m=1\n",
    "    def __init__(self, a):\n",
    "        self.a=a\n",
    "        #print(\"a is\",a)\n",
    "t1=Test(4)\n",
    "#t2=Test()\n",
    "    "
   ]
  },
  {
   "cell_type": "code",
   "execution_count": 45,
   "id": "5fdfa4e2",
   "metadata": {},
   "outputs": [
    {
     "name": "stdout",
     "output_type": "stream",
     "text": [
      "a is 4\n",
      "a is 3\n"
     ]
    }
   ],
   "source": [
    "class Test():\n",
    "    x=2\n",
    "    def f():\n",
    "        m=1\n",
    "    def __init__(self,a):\n",
    "        self.a=a\n",
    "        print(\"a is\",a)\n",
    "t1=Test(4)\n",
    "t2=Test(3)\n",
    "    "
   ]
  },
  {
   "cell_type": "code",
   "execution_count": 46,
   "id": "b3b90e79",
   "metadata": {},
   "outputs": [
    {
     "name": "stdout",
     "output_type": "stream",
     "text": [
      "a is 4\n",
      "a is 3\n"
     ]
    }
   ],
   "source": [
    "class Test():\n",
    "    x=2\n",
    "    def f():\n",
    "        m=1\n",
    "        print(\"local variable m \")\n",
    "    def __init__(self,a):\n",
    "        self.a=a\n",
    "        print(\"a is\",a)\n",
    "t1=Test(4)\n",
    "t2=Test(3)\n",
    "#All variable names in above code\n",
    "# x,m, a, t1.a, t2.a, t1, t2 , f1, __init__, Test, self"
   ]
  },
  {
   "cell_type": "code",
   "execution_count": null,
   "id": "68f096cf",
   "metadata": {},
   "outputs": [],
   "source": []
  },
  {
   "cell_type": "code",
   "execution_count": null,
   "id": "ef82f81c",
   "metadata": {},
   "outputs": [],
   "source": [
    "# x -- class object variabl\n",
    "# m -- local variable\n",
    "# a -- local vriable\n",
    "# t1.a -- instance object vriable\n",
    "# t2.a -- instance object variable\n",
    "# t1 -- global variable\n",
    "# t2 -- global variable\n",
    "# self -- local variable\n",
    "# Test -- global variable\n",
    "# f1 -- variable to represent function object\n"
   ]
  },
  {
   "cell_type": "code",
   "execution_count": null,
   "id": "db08bbdc",
   "metadata": {},
   "outputs": [],
   "source": [
    "#Attribute of class "
   ]
  },
  {
   "cell_type": "code",
   "execution_count": null,
   "id": "c746bcb8",
   "metadata": {},
   "outputs": [],
   "source": [
    "class Test():\n",
    "    def f(self):#instance method\n",
    "        self.a=10\n",
    "    @staticmethod\n",
    "    def f1():\n",
    "        print(\"hello\")\n",
    "    @classmethod\n",
    "    def f2(cls):\n",
    "        cls.x=6\n",
    "        \n",
    "def fun():\n",
    "    print(\"Non member function\")\n",
    "    \n",
    "t1=Test()\n",
    "t1.b=11\n",
    "t1.f1()# f1(t1)\n",
    "        \n",
    "        \n",
    "        \n",
    "    "
   ]
  },
  {
   "cell_type": "code",
   "execution_count": null,
   "id": "1a14fe96",
   "metadata": {},
   "outputs": [],
   "source": [
    "class Test():\n",
    "    x1=9 # class object variable (static variable)\n",
    "    def f(self):#instance method\n",
    "        self.a=10\n",
    "        Test.x2=7\n",
    "    @staticmethod\n",
    "    def f1():\n",
    "        print(\"hello\")\n",
    "        Test.x3=12\n",
    "    @classmethod\n",
    "    def f2(cls):\n",
    "        cls.x=5\n",
    "        \n",
    "def fun():\n",
    "    print(\"Non member function\")\n",
    "    \n",
    "t1=Test()\n",
    "t1.b=11\n",
    "t1.f1()# f1(t1)\n",
    "Test.x4=13\n",
    "Test.f2()#f2()\n",
    "Test.f3()# f3(Test)\n",
    "       \n",
    "        "
   ]
  },
  {
   "cell_type": "code",
   "execution_count": 3,
   "id": "a91fe9a8",
   "metadata": {
    "scrolled": true
   },
   "outputs": [
    {
     "ename": "NameError",
     "evalue": "name 'x' is not defined",
     "output_type": "error",
     "traceback": [
      "\u001b[0;31m---------------------------------------------------------------------------\u001b[0m",
      "\u001b[0;31mNameError\u001b[0m                                 Traceback (most recent call last)",
      "Cell \u001b[0;32mIn[3], line 4\u001b[0m\n\u001b[1;32m      2\u001b[0m     x\u001b[38;5;241m=\u001b[39m\u001b[38;5;241m5\u001b[39m\n\u001b[1;32m      3\u001b[0m     \u001b[38;5;28mprint\u001b[39m(\u001b[38;5;124m\"\u001b[39m\u001b[38;5;124mx is=\u001b[39m\u001b[38;5;124m\"\u001b[39m,x)\n\u001b[0;32m----> 4\u001b[0m \u001b[38;5;28mprint\u001b[39m(\u001b[38;5;124m\"\u001b[39m\u001b[38;5;124moutside function x is \u001b[39m\u001b[38;5;124m\"\u001b[39m, \u001b[43mx\u001b[49m)\n\u001b[1;32m      5\u001b[0m \u001b[38;5;28mprint\u001b[39m()\n",
      "\u001b[0;31mNameError\u001b[0m: name 'x' is not defined"
     ]
    }
   ],
   "source": [
    "def f1():\n",
    "    x=5\n",
    "    print(\"x is=\",x)\n",
    "print(\"outside function x is \", x)\n",
    "print()"
   ]
  },
  {
   "cell_type": "code",
   "execution_count": 4,
   "id": "9e650318",
   "metadata": {},
   "outputs": [
    {
     "name": "stdout",
     "output_type": "stream",
     "text": [
      "x is= 5\n"
     ]
    },
    {
     "ename": "NameError",
     "evalue": "name 'x' is not defined",
     "output_type": "error",
     "traceback": [
      "\u001b[0;31m---------------------------------------------------------------------------\u001b[0m",
      "\u001b[0;31mNameError\u001b[0m                                 Traceback (most recent call last)",
      "Cell \u001b[0;32mIn[4], line 5\u001b[0m\n\u001b[1;32m      3\u001b[0m     \u001b[38;5;28mprint\u001b[39m(\u001b[38;5;124m\"\u001b[39m\u001b[38;5;124mx is=\u001b[39m\u001b[38;5;124m\"\u001b[39m,x)\n\u001b[1;32m      4\u001b[0m f1()\n\u001b[0;32m----> 5\u001b[0m \u001b[38;5;28mprint\u001b[39m(\u001b[38;5;124m\"\u001b[39m\u001b[38;5;124moutside function x is \u001b[39m\u001b[38;5;124m\"\u001b[39m, \u001b[43mx\u001b[49m)\n\u001b[1;32m      6\u001b[0m \u001b[38;5;28mprint\u001b[39m()\n",
      "\u001b[0;31mNameError\u001b[0m: name 'x' is not defined"
     ]
    }
   ],
   "source": [
    "def f1():\n",
    "    x=5#   \n",
    "    print(\"x is=\",x)\n",
    "f1()\n",
    "print(\"outside function x is \", x)\n",
    "print()"
   ]
  },
  {
   "cell_type": "code",
   "execution_count": 6,
   "id": "7ab95fd6",
   "metadata": {},
   "outputs": [
    {
     "name": "stdout",
     "output_type": "stream",
     "text": [
      "x = 5\n",
      "y = 10\n"
     ]
    }
   ],
   "source": [
    "y=10 #Global variable\n",
    "def f5():\n",
    "    x=5 #Local variable\n",
    "    print(\"x =\",x)\n",
    "f5()\n",
    "print(\"y =\",y)\n",
    "    "
   ]
  },
  {
   "cell_type": "code",
   "execution_count": 7,
   "id": "6c7cad7b",
   "metadata": {
    "scrolled": true
   },
   "outputs": [
    {
     "name": "stdout",
     "output_type": "stream",
     "text": [
      "x = 5\n",
      "y = 10\n",
      "y = 10\n",
      "\n"
     ]
    }
   ],
   "source": [
    "y=10 #Global variable\n",
    "def f5():\n",
    "    x=5 #Local variable\n",
    "    print(\"x =\",x)\n",
    "    print(\"y =\",y)\n",
    "f5()\n",
    "print(\"y =\",y)\n",
    "print()"
   ]
  },
  {
   "cell_type": "code",
   "execution_count": 8,
   "id": "7474f083",
   "metadata": {
    "scrolled": true
   },
   "outputs": [
    {
     "name": "stdout",
     "output_type": "stream",
     "text": [
      "x = 5\n",
      "x after 1st x = 5\n",
      "outside the function x = 10\n",
      "\n"
     ]
    }
   ],
   "source": [
    "x=10 #Global variable\n",
    "def f5():\n",
    "    x=5 #Local variable\n",
    "    print(\"x =\",x)\n",
    "    print(\"x after 1st x =\",x)\n",
    "f5()\n",
    "print(\"outside the function x =\",x)\n",
    "print()"
   ]
  },
  {
   "cell_type": "code",
   "execution_count": 11,
   "id": "3292c8cb",
   "metadata": {
    "scrolled": true
   },
   "outputs": [
    {
     "name": "stdout",
     "output_type": "stream",
     "text": [
      "local x = 5\n",
      "global x = 5\n",
      "global x diclared outside the function= 5\n",
      "\n"
     ]
    }
   ],
   "source": [
    "x=10 #Global variable\n",
    "def f5():\n",
    "    global x\n",
    "    x=5 #global variable\n",
    "    print(\"local x =\",x)#global\n",
    "    print(\"global x =\",x)#global\n",
    "f5()\n",
    "print(\"global x diclared outside the function=\",x)\n",
    "print()"
   ]
  },
  {
   "cell_type": "code",
   "execution_count": null,
   "id": "4c61c017",
   "metadata": {},
   "outputs": [],
   "source": [
    "x=10 #Global variable\n",
    "def f5():\n",
    "    global x\n",
    "    x=5 #global variable\n",
    "    print(\"local x =\",x)#global\n",
    "    print(\"global x =\",x)#global\n",
    "f5()\n",
    "print(\"global x diclared outside the function=\",x)\n",
    "print()"
   ]
  },
  {
   "cell_type": "code",
   "execution_count": 12,
   "id": "2f1468c3",
   "metadata": {},
   "outputs": [
    {
     "ename": "SyntaxError",
     "evalue": "name 'x' is assigned to before global declaration (3443145850.py, line 4)",
     "output_type": "error",
     "traceback": [
      "\u001b[0;36m  Cell \u001b[0;32mIn[12], line 4\u001b[0;36m\u001b[0m\n\u001b[0;31m    global x\u001b[0m\n\u001b[0m    ^\u001b[0m\n\u001b[0;31mSyntaxError\u001b[0m\u001b[0;31m:\u001b[0m name 'x' is assigned to before global declaration\n"
     ]
    }
   ],
   "source": [
    "x=10 #Global variable\n",
    "def f5():\n",
    "    x=7\n",
    "    global x\n",
    "    x=5 #global variable\n",
    "    print(\"local x =\",x)#global\n",
    "    print(\"global x =\",x)#global\n",
    "f5()\n",
    "print(\"global x diclared outside the function=\",x)\n",
    "print()"
   ]
  },
  {
   "cell_type": "code",
   "execution_count": 13,
   "id": "7b9b17a1",
   "metadata": {
    "scrolled": true
   },
   "outputs": [
    {
     "ename": "SyntaxError",
     "evalue": "name 'x' is assigned to before global declaration (2060253838.py, line 4)",
     "output_type": "error",
     "traceback": [
      "\u001b[0;36m  Cell \u001b[0;32mIn[13], line 4\u001b[0;36m\u001b[0m\n\u001b[0;31m    global x\u001b[0m\n\u001b[0m    ^\u001b[0m\n\u001b[0;31mSyntaxError\u001b[0m\u001b[0;31m:\u001b[0m name 'x' is assigned to before global declaration\n"
     ]
    }
   ],
   "source": [
    "x=10 #Global variable\n",
    "def f5():\n",
    "    x=7\n",
    "    global x\n",
    "    #x=5 #global variable\n",
    "    print(\"local x =\",x)#global\n",
    "    print(\"global x =\",x)#global\n",
    "f5()\n",
    "print(\"global x diclared outside the function=\",x)\n",
    "print()"
   ]
  },
  {
   "cell_type": "code",
   "execution_count": 15,
   "id": "1959a8ea",
   "metadata": {},
   "outputs": [
    {
     "name": "stdout",
     "output_type": "stream",
     "text": [
      "local x = 5\n",
      "global x = 5\n",
      "global x diclared outside the function= 10\n",
      "\n"
     ]
    }
   ],
   "source": [
    "x=10 #Global variable\n",
    "def f5():\n",
    "    #x=7\n",
    "    g=globals( )\n",
    "    x=5 #global variable\n",
    "    print(\"local x =\",x)#global\n",
    "    print(\"global x =\",x)#global\n",
    "f5()\n",
    "print(\"global x diclared outside the function=\",x)\n",
    "print()"
   ]
  },
  {
   "cell_type": "code",
   "execution_count": null,
   "id": "b1f0237d",
   "metadata": {},
   "outputs": [],
   "source": [
    "#Name conflict-when name of local and global variable are same\n"
   ]
  },
  {
   "cell_type": "code",
   "execution_count": null,
   "id": "fe039501",
   "metadata": {},
   "outputs": [],
   "source": [
    "#r=range(start end step)(inclusive exclusive common gap)\n",
    "#  range(1 5 1)-1,2,3,4\n",
    "#  range(2 8 2)- 2, 4, 6\n",
    "#  range(10, 3, -2)- 10 8 6 4"
   ]
  },
  {
   "cell_type": "code",
   "execution_count": 1,
   "id": "edc01932",
   "metadata": {},
   "outputs": [
    {
     "name": "stdout",
     "output_type": "stream",
     "text": [
      "range(1, 6)\n"
     ]
    }
   ],
   "source": [
    "r=range(1, 6, 1)\n",
    "print(r)"
   ]
  },
  {
   "cell_type": "code",
   "execution_count": 2,
   "id": "5c8163fb",
   "metadata": {},
   "outputs": [
    {
     "data": {
      "text/plain": [
       "range(1, 6)"
      ]
     },
     "execution_count": 2,
     "metadata": {},
     "output_type": "execute_result"
    }
   ],
   "source": [
    "r\n"
   ]
  },
  {
   "cell_type": "code",
   "execution_count": 5,
   "id": "a15f8774",
   "metadata": {},
   "outputs": [
    {
     "ename": "SyntaxError",
     "evalue": "invalid syntax (3667711431.py, line 1)",
     "output_type": "error",
     "traceback": [
      "\u001b[0;36m  Cell \u001b[0;32mIn[5], line 1\u001b[0;36m\u001b[0m\n\u001b[0;31m    for e in range r:\u001b[0m\n\u001b[0m                   ^\u001b[0m\n\u001b[0;31mSyntaxError\u001b[0m\u001b[0;31m:\u001b[0m invalid syntax\n"
     ]
    }
   ],
   "source": [
    "for e in range r:\n",
    "    print(e)\n",
    "    "
   ]
  },
  {
   "cell_type": "code",
   "execution_count": 6,
   "id": "4683a0af",
   "metadata": {},
   "outputs": [
    {
     "name": "stdout",
     "output_type": "stream",
     "text": [
      "1\n",
      "2\n",
      "3\n",
      "4\n",
      "5\n"
     ]
    }
   ],
   "source": [
    "for e in r:\n",
    "    print(e)"
   ]
  },
  {
   "cell_type": "code",
   "execution_count": 7,
   "id": "bf5347a0",
   "metadata": {},
   "outputs": [
    {
     "name": "stdout",
     "output_type": "stream",
     "text": [
      "1\n",
      "2\n",
      "3\n"
     ]
    }
   ],
   "source": [
    "for e in range(1,4):\n",
    "    print(e)"
   ]
  },
  {
   "cell_type": "code",
   "execution_count": 8,
   "id": "1d2c3d6d",
   "metadata": {},
   "outputs": [
    {
     "name": "stdout",
     "output_type": "stream",
     "text": [
      "10\n",
      "8\n",
      "6\n",
      "4\n"
     ]
    }
   ],
   "source": [
    "r=range(10, 3,-2)\n",
    "for e in r:\n",
    "    print(e)"
   ]
  },
  {
   "cell_type": "code",
   "execution_count": null,
   "id": "07bb027e",
   "metadata": {},
   "outputs": [],
   "source": [
    "#r=range(beg end step) beg=0 step=1\n",
    "#range(end)\n",
    "#range(beg, end)"
   ]
  },
  {
   "cell_type": "code",
   "execution_count": 9,
   "id": "d81243a2",
   "metadata": {},
   "outputs": [
    {
     "data": {
      "text/plain": [
       "range(0, 5)"
      ]
     },
     "execution_count": 9,
     "metadata": {},
     "output_type": "execute_result"
    }
   ],
   "source": [
    "range(5)"
   ]
  },
  {
   "cell_type": "code",
   "execution_count": 10,
   "id": "7c804ee6",
   "metadata": {},
   "outputs": [
    {
     "name": "stdout",
     "output_type": "stream",
     "text": [
      "0\n",
      "1\n",
      "2\n",
      "3\n",
      "4\n"
     ]
    }
   ],
   "source": [
    "for e in range(5):\n",
    "    print(e)"
   ]
  },
  {
   "cell_type": "code",
   "execution_count": 11,
   "id": "506342b9",
   "metadata": {},
   "outputs": [
    {
     "name": "stdout",
     "output_type": "stream",
     "text": [
      "0 0\n",
      "1 1\n",
      "2 4\n",
      "3 9\n",
      "4 16\n",
      "5 25\n"
     ]
    }
   ],
   "source": [
    " for e in range(6):\n",
    "        print(e,e**2)"
   ]
  },
  {
   "cell_type": "code",
   "execution_count": 12,
   "id": "fb0f026f",
   "metadata": {},
   "outputs": [
    {
     "name": "stdout",
     "output_type": "stream",
     "text": [
      "2 4\n",
      "5 25\n",
      "8 64\n"
     ]
    }
   ],
   "source": [
    "r=range(2,10,3)\n",
    "for e in r:\n",
    "    print(e,e**2)"
   ]
  },
  {
   "cell_type": "code",
   "execution_count": 14,
   "id": "79544302",
   "metadata": {},
   "outputs": [
    {
     "name": "stdout",
     "output_type": "stream",
     "text": [
      "square 1 square 4 square 9 square 16 square 25 square 36 square 49 square 64 square 81 square 100 "
     ]
    }
   ],
   "source": [
    "for e in range(1,11):\n",
    "    print(\"square\",e**2, end=\" \")"
   ]
  },
  {
   "cell_type": "code",
   "execution_count": 15,
   "id": "24d51314",
   "metadata": {},
   "outputs": [
    {
     "ename": "NameError",
     "evalue": "name 'n' is not defined",
     "output_type": "error",
     "traceback": [
      "\u001b[0;31m---------------------------------------------------------------------------\u001b[0m",
      "\u001b[0;31mNameError\u001b[0m                                 Traceback (most recent call last)",
      "Cell \u001b[0;32mIn[15], line 1\u001b[0m\n\u001b[0;32m----> 1\u001b[0m \u001b[38;5;28;01mfor\u001b[39;00m e \u001b[38;5;129;01min\u001b[39;00m \u001b[38;5;28mrange\u001b[39m(\u001b[38;5;241m1\u001b[39m,\u001b[43mn\u001b[49m):\n\u001b[1;32m      2\u001b[0m     \u001b[38;5;28mprint\u001b[39m(e\u001b[38;5;241m*\u001b[39m\u001b[38;5;241m*\u001b[39m\u001b[38;5;241m2\u001b[39m, end\u001b[38;5;241m=\u001b[39m\u001b[38;5;124m\"\u001b[39m\u001b[38;5;124m \u001b[39m\u001b[38;5;124m\"\u001b[39m)\n",
      "\u001b[0;31mNameError\u001b[0m: name 'n' is not defined"
     ]
    }
   ],
   "source": [
    "for e in range(1,n):\n",
    "\n",
    "    print(e**2, end=\" \")"
   ]
  },
  {
   "cell_type": "code",
   "execution_count": 16,
   "id": "905679d1",
   "metadata": {},
   "outputs": [
    {
     "name": "stdout",
     "output_type": "stream",
     "text": [
      "Enter a number\n",
      "5\n",
      "1 4 9 16 "
     ]
    }
   ],
   "source": [
    "print(\"Enter a number\")\n",
    "n=int(input())\n",
    "for e in range(1,n+1):\n",
    "    print(e**2, end=\" \")"
   ]
  },
  {
   "cell_type": "code",
   "execution_count": null,
   "id": "c72612eb",
   "metadata": {},
   "outputs": [],
   "source": [
    "#List"
   ]
  },
  {
   "cell_type": "code",
   "execution_count": 17,
   "id": "133cd18d",
   "metadata": {},
   "outputs": [
    {
     "data": {
      "text/plain": [
       "list"
      ]
     },
     "execution_count": 17,
     "metadata": {},
     "output_type": "execute_result"
    }
   ],
   "source": [
    "l=[10,20,30,40]\n",
    "type(l)"
   ]
  },
  {
   "cell_type": "code",
   "execution_count": 18,
   "id": "0ec82da9",
   "metadata": {},
   "outputs": [
    {
     "data": {
      "text/plain": [
       "list"
      ]
     },
     "execution_count": 18,
     "metadata": {},
     "output_type": "execute_result"
    }
   ],
   "source": [
    "l2=[10, 3+4j,True, \"snehal\"]\n",
    "type(l2)"
   ]
  },
  {
   "cell_type": "code",
   "execution_count": 19,
   "id": "ea075296",
   "metadata": {},
   "outputs": [
    {
     "name": "stdout",
     "output_type": "stream",
     "text": [
      "[1, 2, 3, 4, 5, 6, 7, 8]\n",
      "1\n",
      "2 5\n"
     ]
    }
   ],
   "source": [
    "l=[1,2,3,4,5,6,7,8]\n",
    "print(l)\n",
    "print(l[0])\n",
    "print(l[1],l[4])"
   ]
  },
  {
   "cell_type": "code",
   "execution_count": 20,
   "id": "dfdfde8e",
   "metadata": {},
   "outputs": [
    {
     "data": {
      "text/plain": [
       "list"
      ]
     },
     "execution_count": 20,
     "metadata": {},
     "output_type": "execute_result"
    }
   ],
   "source": [
    "l3=[]\n",
    "type(l3)"
   ]
  },
  {
   "cell_type": "code",
   "execution_count": 21,
   "id": "0b275425",
   "metadata": {},
   "outputs": [
    {
     "data": {
      "text/plain": [
       "[1, 2, 3, 4, 5, 6, 7, 8]"
      ]
     },
     "execution_count": 21,
     "metadata": {},
     "output_type": "execute_result"
    }
   ],
   "source": [
    "l"
   ]
  },
  {
   "cell_type": "code",
   "execution_count": 22,
   "id": "1645ce35",
   "metadata": {},
   "outputs": [
    {
     "ename": "TypeError",
     "evalue": "'list' object is not callable",
     "output_type": "error",
     "traceback": [
      "\u001b[0;31m---------------------------------------------------------------------------\u001b[0m",
      "\u001b[0;31mTypeError\u001b[0m                                 Traceback (most recent call last)",
      "Cell \u001b[0;32mIn[22], line 1\u001b[0m\n\u001b[0;32m----> 1\u001b[0m \u001b[43ml\u001b[49m\u001b[43m(\u001b[49m\u001b[38;5;241;43m-\u001b[39;49m\u001b[38;5;241;43m1\u001b[39;49m\u001b[43m)\u001b[49m\n",
      "\u001b[0;31mTypeError\u001b[0m: 'list' object is not callable"
     ]
    }
   ],
   "source": [
    "l(-1)"
   ]
  },
  {
   "cell_type": "code",
   "execution_count": 23,
   "id": "c44004ca",
   "metadata": {},
   "outputs": [
    {
     "data": {
      "text/plain": [
       "8"
      ]
     },
     "execution_count": 23,
     "metadata": {},
     "output_type": "execute_result"
    }
   ],
   "source": [
    "l[-1]"
   ]
  },
  {
   "cell_type": "code",
   "execution_count": 26,
   "id": "71cd4c79",
   "metadata": {},
   "outputs": [
    {
     "name": "stdout",
     "output_type": "stream",
     "text": [
      "1 2 3 4 5 6 7 8 "
     ]
    }
   ],
   "source": [
    "for x in l:\n",
    "    print(x, end=\" \")"
   ]
  },
  {
   "cell_type": "code",
   "execution_count": 27,
   "id": "46719ef3",
   "metadata": {},
   "outputs": [
    {
     "name": "stdout",
     "output_type": "stream",
     "text": [
      "1 2 3 4 5 6 "
     ]
    }
   ],
   "source": [
    "i=0\n",
    "while i<=5:\n",
    "    print(l[i], end=\" \")\n",
    "    i=i+1\n",
    "    \n",
    "    "
   ]
  },
  {
   "cell_type": "code",
   "execution_count": 28,
   "id": "b43542be",
   "metadata": {},
   "outputs": [
    {
     "data": {
      "text/plain": [
       "[1, 2, 3, 4, 5, 6, 7, 8]"
      ]
     },
     "execution_count": 28,
     "metadata": {},
     "output_type": "execute_result"
    }
   ],
   "source": [
    "l"
   ]
  },
  {
   "cell_type": "code",
   "execution_count": 30,
   "id": "b6c6cf3d",
   "metadata": {},
   "outputs": [
    {
     "data": {
      "text/plain": [
       "[1, 4, 5, 6, 7, 8]"
      ]
     },
     "execution_count": 30,
     "metadata": {},
     "output_type": "execute_result"
    }
   ],
   "source": [
    "del l[1]\n",
    "l"
   ]
  },
  {
   "cell_type": "code",
   "execution_count": 31,
   "id": "ca431bb8",
   "metadata": {},
   "outputs": [
    {
     "data": {
      "text/plain": [
       "4"
      ]
     },
     "execution_count": 31,
     "metadata": {},
     "output_type": "execute_result"
    }
   ],
   "source": [
    "l[1]"
   ]
  },
  {
   "cell_type": "code",
   "execution_count": 32,
   "id": "a0b9e158",
   "metadata": {},
   "outputs": [
    {
     "data": {
      "text/plain": [
       "[1, 4, 5, 6, 7, 8]"
      ]
     },
     "execution_count": 32,
     "metadata": {},
     "output_type": "execute_result"
    }
   ],
   "source": [
    "l"
   ]
  },
  {
   "cell_type": "code",
   "execution_count": 33,
   "id": "b12da0ce",
   "metadata": {},
   "outputs": [
    {
     "data": {
      "text/plain": [
       "[1, 5, 6, 7, 8]"
      ]
     },
     "execution_count": 33,
     "metadata": {},
     "output_type": "execute_result"
    }
   ],
   "source": [
    "del l[1]\n",
    "l"
   ]
  },
  {
   "cell_type": "code",
   "execution_count": 34,
   "id": "56991aea",
   "metadata": {},
   "outputs": [
    {
     "data": {
      "text/plain": [
       "[1, True, 6, 7, 8]"
      ]
     },
     "execution_count": 34,
     "metadata": {},
     "output_type": "execute_result"
    }
   ],
   "source": [
    "l[1]=True\n",
    "l"
   ]
  },
  {
   "cell_type": "code",
   "execution_count": null,
   "id": "58cae15b",
   "metadata": {},
   "outputs": [],
   "source": [
    "# there are standerd ways to add elements in the list\n",
    "#append()\n",
    "#insert().. attributes of list class\n"
   ]
  },
  {
   "cell_type": "code",
   "execution_count": 1,
   "id": "914db717",
   "metadata": {},
   "outputs": [
    {
     "ename": "NameError",
     "evalue": "name 'l2' is not defined",
     "output_type": "error",
     "traceback": [
      "\u001b[0;31m---------------------------------------------------------------------------\u001b[0m",
      "\u001b[0;31mNameError\u001b[0m                                 Traceback (most recent call last)",
      "Cell \u001b[0;32mIn[1], line 1\u001b[0m\n\u001b[0;32m----> 1\u001b[0m \u001b[43ml2\u001b[49m\n",
      "\u001b[0;31mNameError\u001b[0m: name 'l2' is not defined"
     ]
    }
   ],
   "source": [
    "l2"
   ]
  },
  {
   "cell_type": "code",
   "execution_count": 2,
   "id": "ede6a305",
   "metadata": {},
   "outputs": [
    {
     "data": {
      "text/plain": [
       "[1, 2, 3, 4, 5, 6, 7, True, (3+4j), 'snehal']"
      ]
     },
     "execution_count": 2,
     "metadata": {},
     "output_type": "execute_result"
    }
   ],
   "source": [
    "l=[1,2,3,4,5,6,7,True,3+4j,'snehal']\n",
    "l\n"
   ]
  },
  {
   "cell_type": "code",
   "execution_count": 1,
   "id": "92258f94",
   "metadata": {},
   "outputs": [
    {
     "name": "stdout",
     "output_type": "stream",
     "text": [
      "1 4 9 16 25 36 49 64 81 100 \n"
     ]
    }
   ],
   "source": [
    "i=1\n",
    "while i<=10:\n",
    "    print(i**2, end=' ')\n",
    "    i+=1\n",
    "print()\n",
    "    "
   ]
  },
  {
   "cell_type": "code",
   "execution_count": null,
   "id": "8520387a",
   "metadata": {},
   "outputs": [],
   "source": [
    "print(\"enter two numbers\")\n",
    "a=int(input())\n",
    "b=int(input())\n",
    "L=a if a>b else b\n",
    "while L<=a+b:\n",
    "    if L%a==0 and l%b==0:\n",
    "        print(\"LCM is\", L)\n",
    "    "
   ]
  },
  {
   "cell_type": "code",
   "execution_count": null,
   "id": "25bbd96b",
   "metadata": {},
   "outputs": [],
   "source": [
    "# Built in methods len(), min(), max(), sum(), sorted()"
   ]
  },
  {
   "cell_type": "code",
   "execution_count": null,
   "id": "9d65a717",
   "metadata": {},
   "outputs": [],
   "source": [
    "# Packing and Unpacking"
   ]
  },
  {
   "cell_type": "code",
   "execution_count": null,
   "id": "6b9524f2",
   "metadata": {},
   "outputs": [],
   "source": []
  },
  {
   "cell_type": "code",
   "execution_count": null,
   "id": "8293ec26",
   "metadata": {},
   "outputs": [],
   "source": []
  },
  {
   "cell_type": "code",
   "execution_count": null,
   "id": "6d4543c2",
   "metadata": {},
   "outputs": [],
   "source": []
  },
  {
   "cell_type": "code",
   "execution_count": null,
   "id": "dc77cb24",
   "metadata": {},
   "outputs": [],
   "source": []
  },
  {
   "cell_type": "code",
   "execution_count": null,
   "id": "6b804847",
   "metadata": {},
   "outputs": [],
   "source": []
  },
  {
   "cell_type": "code",
   "execution_count": null,
   "id": "526030c8",
   "metadata": {},
   "outputs": [],
   "source": []
  },
  {
   "cell_type": "code",
   "execution_count": null,
   "id": "332ff19d",
   "metadata": {},
   "outputs": [],
   "source": [
    "ARNAV CHANDRASHEKHAR JAMBE ARUSH CHANDRASHAKHAR JAMBE"
   ]
  },
  {
   "cell_type": "markdown",
   "id": "202d3d83",
   "metadata": {},
   "source": [
    "ARUSH CHANDRESHKER JAMBE"
   ]
  },
  {
   "cell_type": "code",
   "execution_count": null,
   "id": "9eb5a27c",
   "metadata": {},
   "outputs": [],
   "source": [
    " "
   ]
  },
  {
   "cell_type": "code",
   "execution_count": null,
   "id": "90c7e089",
   "metadata": {},
   "outputs": [],
   "source": []
  },
  {
   "cell_type": "code",
   "execution_count": null,
   "id": "27d6b266",
   "metadata": {},
   "outputs": [],
   "source": []
  },
  {
   "cell_type": "code",
   "execution_count": null,
   "id": "43f2a5fd",
   "metadata": {},
   "outputs": [],
   "source": []
  },
  {
   "cell_type": "code",
   "execution_count": null,
   "id": "b2b1dbf6",
   "metadata": {},
   "outputs": [],
   "source": []
  },
  {
   "cell_type": "code",
   "execution_count": null,
   "id": "c35be855",
   "metadata": {},
   "outputs": [],
   "source": []
  },
  {
   "cell_type": "code",
   "execution_count": null,
   "id": "0a5742d2",
   "metadata": {},
   "outputs": [],
   "source": []
  },
  {
   "cell_type": "code",
   "execution_count": null,
   "id": "bd8b806e",
   "metadata": {},
   "outputs": [],
   "source": []
  },
  {
   "cell_type": "code",
   "execution_count": null,
   "id": "e686c78c",
   "metadata": {},
   "outputs": [],
   "source": []
  },
  {
   "cell_type": "code",
   "execution_count": null,
   "id": "93577b1d",
   "metadata": {},
   "outputs": [],
   "source": []
  },
  {
   "cell_type": "code",
   "execution_count": null,
   "id": "1b6d1327",
   "metadata": {},
   "outputs": [],
   "source": []
  },
  {
   "cell_type": "code",
   "execution_count": null,
   "id": "304daee3",
   "metadata": {},
   "outputs": [],
   "source": []
  },
  {
   "cell_type": "code",
   "execution_count": null,
   "id": "73f410e7",
   "metadata": {},
   "outputs": [],
   "source": []
  },
  {
   "cell_type": "code",
   "execution_count": null,
   "id": "a938b491",
   "metadata": {},
   "outputs": [],
   "source": []
  },
  {
   "cell_type": "code",
   "execution_count": null,
   "id": "bba397ac",
   "metadata": {},
   "outputs": [],
   "source": []
  },
  {
   "cell_type": "code",
   "execution_count": null,
   "id": "a84113ef",
   "metadata": {},
   "outputs": [],
   "source": []
  },
  {
   "cell_type": "code",
   "execution_count": null,
   "id": "b54b610d",
   "metadata": {},
   "outputs": [],
   "source": []
  },
  {
   "cell_type": "code",
   "execution_count": null,
   "id": "1c82e6b3",
   "metadata": {},
   "outputs": [],
   "source": []
  },
  {
   "cell_type": "code",
   "execution_count": null,
   "id": "d5a4351b",
   "metadata": {},
   "outputs": [],
   "source": []
  },
  {
   "cell_type": "code",
   "execution_count": null,
   "id": "2dcdd3a4",
   "metadata": {},
   "outputs": [],
   "source": []
  },
  {
   "cell_type": "code",
   "execution_count": null,
   "id": "d7eb5555",
   "metadata": {},
   "outputs": [],
   "source": [
    "\n"
   ]
  },
  {
   "cell_type": "code",
   "execution_count": null,
   "id": "625e4f19",
   "metadata": {},
   "outputs": [],
   "source": []
  }
 ],
 "metadata": {
  "kernelspec": {
   "display_name": "Python 3 (ipykernel)",
   "language": "python",
   "name": "python3"
  },
  "language_info": {
   "codemirror_mode": {
    "name": "ipython",
    "version": 3
   },
   "file_extension": ".py",
   "mimetype": "text/x-python",
   "name": "python",
   "nbconvert_exporter": "python",
   "pygments_lexer": "ipython3",
   "version": "3.10.12"
  }
 },
 "nbformat": 4,
 "nbformat_minor": 5
}
