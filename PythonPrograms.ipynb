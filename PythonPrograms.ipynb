{
 "cells": [
  {
   "cell_type": "code",
   "execution_count": 1,
   "id": "528072f5",
   "metadata": {},
   "outputs": [],
   "source": [
    "# Python programs to add two numbers\n"
   ]
  },
  {
   "cell_type": "code",
   "execution_count": null,
   "id": "2ad50662",
   "metadata": {},
   "outputs": [],
   "source": []
  },
  {
   "cell_type": "code",
   "execution_count": null,
   "id": "85f28b91",
   "metadata": {},
   "outputs": [],
   "source": []
  },
  {
   "cell_type": "code",
   "execution_count": null,
   "id": "5d1a13f8",
   "metadata": {},
   "outputs": [],
   "source": []
  },
  {
   "cell_type": "code",
   "execution_count": 2,
   "id": "a2d08583",
   "metadata": {},
   "outputs": [],
   "source": [
    "a=3\n",
    "b=4\n",
    "c=a+b"
   ]
  },
  {
   "cell_type": "code",
   "execution_count": 3,
   "id": "377c844a",
   "metadata": {},
   "outputs": [
    {
     "name": "stdout",
     "output_type": "stream",
     "text": [
      "7\n"
     ]
    }
   ],
   "source": [
    "print(c)"
   ]
  },
  {
   "cell_type": "code",
   "execution_count": 4,
   "id": "47001683",
   "metadata": {},
   "outputs": [],
   "source": [
    "# add 2 numbers using function"
   ]
  },
  {
   "cell_type": "code",
   "execution_count": 5,
   "id": "b2598792",
   "metadata": {},
   "outputs": [
    {
     "data": {
      "text/plain": [
       "['a', 'c', 'e', 'g', 'k', 'l']"
      ]
     },
     "execution_count": 5,
     "metadata": {},
     "output_type": "execute_result"
    }
   ],
   "source": [
    "s = ['a', 'c', 'e', 'g', 'k','l']\n",
    "s"
   ]
  },
  {
   "cell_type": "code",
   "execution_count": 6,
   "id": "d92159a5",
   "metadata": {},
   "outputs": [],
   "source": [
    "s.append('m')"
   ]
  },
  {
   "cell_type": "code",
   "execution_count": 7,
   "id": "08557a42",
   "metadata": {},
   "outputs": [
    {
     "data": {
      "text/plain": [
       "['a', 'c', 'e', 'g', 'k', 'l', 'm']"
      ]
     },
     "execution_count": 7,
     "metadata": {},
     "output_type": "execute_result"
    }
   ],
   "source": [
    "s"
   ]
  },
  {
   "cell_type": "code",
   "execution_count": 8,
   "id": "9e270aa7",
   "metadata": {},
   "outputs": [],
   "source": [
    "s.insert(2, 'd')"
   ]
  },
  {
   "cell_type": "code",
   "execution_count": 9,
   "id": "8ee83063",
   "metadata": {},
   "outputs": [
    {
     "data": {
      "text/plain": [
       "['a', 'c', 'd', 'e', 'g', 'k', 'l', 'm']"
      ]
     },
     "execution_count": 9,
     "metadata": {},
     "output_type": "execute_result"
    }
   ],
   "source": [
    "s"
   ]
  },
  {
   "cell_type": "code",
   "execution_count": 10,
   "id": "32b57136",
   "metadata": {},
   "outputs": [],
   "source": [
    "s.insert(0, 1)"
   ]
  },
  {
   "cell_type": "code",
   "execution_count": 11,
   "id": "063eda8f",
   "metadata": {},
   "outputs": [
    {
     "data": {
      "text/plain": [
       "[1, 'a', 'c', 'd', 'e', 'g', 'k', 'l', 'm']"
      ]
     },
     "execution_count": 11,
     "metadata": {},
     "output_type": "execute_result"
    }
   ],
   "source": [
    "s"
   ]
  },
  {
   "cell_type": "code",
   "execution_count": 12,
   "id": "db6e0e83",
   "metadata": {},
   "outputs": [],
   "source": [
    "n= [2,4,6]\n",
    "s.extend(n)"
   ]
  },
  {
   "cell_type": "code",
   "execution_count": 13,
   "id": "44125996",
   "metadata": {},
   "outputs": [
    {
     "data": {
      "text/plain": [
       "[1, 'a', 'c', 'd', 'e', 'g', 'k', 'l', 'm', 2, 4, 6]"
      ]
     },
     "execution_count": 13,
     "metadata": {},
     "output_type": "execute_result"
    }
   ],
   "source": [
    "s"
   ]
  },
  {
   "cell_type": "code",
   "execution_count": 14,
   "id": "726c4a29",
   "metadata": {},
   "outputs": [],
   "source": [
    "s.insert(1,n)"
   ]
  },
  {
   "cell_type": "code",
   "execution_count": 15,
   "id": "db4d4681",
   "metadata": {},
   "outputs": [
    {
     "data": {
      "text/plain": [
       "[1, [2, 4, 6], 'a', 'c', 'd', 'e', 'g', 'k', 'l', 'm', 2, 4, 6]"
      ]
     },
     "execution_count": 15,
     "metadata": {},
     "output_type": "execute_result"
    }
   ],
   "source": [
    "s"
   ]
  },
  {
   "cell_type": "code",
   "execution_count": 16,
   "id": "0b6f04f2",
   "metadata": {},
   "outputs": [],
   "source": [
    "del s[3]"
   ]
  },
  {
   "cell_type": "code",
   "execution_count": 17,
   "id": "5d58a3d6",
   "metadata": {},
   "outputs": [
    {
     "data": {
      "text/plain": [
       "[1, [2, 4, 6], 'a', 'd', 'e', 'g', 'k', 'l', 'm', 2, 4, 6]"
      ]
     },
     "execution_count": 17,
     "metadata": {},
     "output_type": "execute_result"
    }
   ],
   "source": [
    "s"
   ]
  },
  {
   "cell_type": "code",
   "execution_count": 18,
   "id": "f3b4c2d5",
   "metadata": {},
   "outputs": [],
   "source": [
    "# Dictionary.."
   ]
  },
  {
   "cell_type": "code",
   "execution_count": 19,
   "id": "e33c46b3",
   "metadata": {},
   "outputs": [
    {
     "data": {
      "text/plain": [
       "{'a': 1, 'b': 5, 'c': 3, 'd': 7, 'e': 8, 'f': 6}"
      ]
     },
     "execution_count": 19,
     "metadata": {},
     "output_type": "execute_result"
    }
   ],
   "source": [
    "d = {'a':1, 'b':5, 'c':3, 'd':7, 'e':8, 'f':6 }\n",
    "d"
   ]
  },
  {
   "cell_type": "code",
   "execution_count": 20,
   "id": "9309e50a",
   "metadata": {},
   "outputs": [
    {
     "data": {
      "text/plain": [
       "3"
      ]
     },
     "execution_count": 20,
     "metadata": {},
     "output_type": "execute_result"
    }
   ],
   "source": [
    "d['c']"
   ]
  },
  {
   "cell_type": "code",
   "execution_count": 21,
   "id": "2de597ca",
   "metadata": {},
   "outputs": [
    {
     "data": {
      "text/plain": [
       "8"
      ]
     },
     "execution_count": 21,
     "metadata": {},
     "output_type": "execute_result"
    }
   ],
   "source": [
    "d['e']"
   ]
  },
  {
   "cell_type": "code",
   "execution_count": 22,
   "id": "1b997b38",
   "metadata": {},
   "outputs": [],
   "source": [
    "d['s'] = 12"
   ]
  },
  {
   "cell_type": "code",
   "execution_count": 23,
   "id": "f879f093",
   "metadata": {},
   "outputs": [
    {
     "data": {
      "text/plain": [
       "{'a': 1, 'b': 5, 'c': 3, 'd': 7, 'e': 8, 'f': 6, 's': 12}"
      ]
     },
     "execution_count": 23,
     "metadata": {},
     "output_type": "execute_result"
    }
   ],
   "source": [
    "d"
   ]
  },
  {
   "cell_type": "code",
   "execution_count": 24,
   "id": "ae8886da",
   "metadata": {},
   "outputs": [
    {
     "data": {
      "text/plain": [
       "7"
      ]
     },
     "execution_count": 24,
     "metadata": {},
     "output_type": "execute_result"
    }
   ],
   "source": [
    "len(d)"
   ]
  },
  {
   "cell_type": "code",
   "execution_count": 25,
   "id": "267a44d6",
   "metadata": {},
   "outputs": [],
   "source": [
    "del d ['c']"
   ]
  },
  {
   "cell_type": "code",
   "execution_count": 26,
   "id": "1ebcb9b5",
   "metadata": {},
   "outputs": [
    {
     "data": {
      "text/plain": [
       "{'a': 1, 'b': 5, 'd': 7, 'e': 8, 'f': 6, 's': 12}"
      ]
     },
     "execution_count": 26,
     "metadata": {},
     "output_type": "execute_result"
    }
   ],
   "source": [
    "d"
   ]
  },
  {
   "cell_type": "code",
   "execution_count": 27,
   "id": "2105a2d1",
   "metadata": {},
   "outputs": [
    {
     "data": {
      "text/plain": [
       "6"
      ]
     },
     "execution_count": 27,
     "metadata": {},
     "output_type": "execute_result"
    }
   ],
   "source": [
    "len(d)"
   ]
  },
  {
   "cell_type": "code",
   "execution_count": 28,
   "id": "b5be07b5",
   "metadata": {},
   "outputs": [
    {
     "data": {
      "text/plain": [
       "{'a': 1, 'b': 5, 'd': 7, 'e': 8, 'f': 6, 's': 12, 't': 21, 'h': 9, 'p': 14}"
      ]
     },
     "execution_count": 28,
     "metadata": {},
     "output_type": "execute_result"
    }
   ],
   "source": [
    "d.update({\"t\":21, \"h\":9, 'p':14})\n",
    "d"
   ]
  },
  {
   "cell_type": "code",
   "execution_count": 29,
   "id": "e6c0f4d2",
   "metadata": {},
   "outputs": [
    {
     "data": {
      "text/plain": [
       "dict_keys(['a', 'b', 'd', 'e', 'f', 's', 't', 'h', 'p'])"
      ]
     },
     "execution_count": 29,
     "metadata": {},
     "output_type": "execute_result"
    }
   ],
   "source": [
    "d.keys()"
   ]
  },
  {
   "cell_type": "code",
   "execution_count": 30,
   "id": "9635dd38",
   "metadata": {},
   "outputs": [
    {
     "data": {
      "text/plain": [
       "dict_values([1, 5, 7, 8, 6, 12, 21, 9, 14])"
      ]
     },
     "execution_count": 30,
     "metadata": {},
     "output_type": "execute_result"
    }
   ],
   "source": [
    "d.values()"
   ]
  },
  {
   "cell_type": "code",
   "execution_count": 31,
   "id": "540c7b3f",
   "metadata": {},
   "outputs": [
    {
     "name": "stdout",
     "output_type": "stream",
     "text": [
      "a\n",
      "b\n",
      "d\n",
      "e\n",
      "f\n",
      "s\n",
      "t\n",
      "h\n",
      "p\n"
     ]
    }
   ],
   "source": [
    "for i in d:\n",
    "    print(i)"
   ]
  },
  {
   "cell_type": "code",
   "execution_count": 32,
   "id": "fdea6f8a",
   "metadata": {},
   "outputs": [
    {
     "name": "stdout",
     "output_type": "stream",
     "text": [
      "a\n",
      "1\n",
      "b\n",
      "5\n",
      "d\n",
      "7\n",
      "e\n",
      "8\n",
      "f\n",
      "6\n",
      "s\n",
      "12\n",
      "t\n",
      "21\n",
      "h\n",
      "9\n",
      "p\n",
      "14\n"
     ]
    }
   ],
   "source": [
    "for k,v in d.items():\n",
    "    print(k)\n",
    "    print(v)"
   ]
  },
  {
   "cell_type": "code",
   "execution_count": 33,
   "id": "d733c875",
   "metadata": {},
   "outputs": [
    {
     "name": "stdout",
     "output_type": "stream",
     "text": [
      "t\n"
     ]
    }
   ],
   "source": [
    "max = 10\n",
    "max_k = \"a\"\n",
    "\n",
    "for k,v in d.items():\n",
    "    if v > max:\n",
    "        max= v\n",
    "        max_k = k\n",
    "print(max_k)"
   ]
  },
  {
   "cell_type": "code",
   "execution_count": 34,
   "id": "c9ce1f8f",
   "metadata": {},
   "outputs": [
    {
     "data": {
      "text/plain": [
       "['t', 'p', 's', 'h', 'e', 'd', 'f', 'b', 'a']"
      ]
     },
     "execution_count": 34,
     "metadata": {},
     "output_type": "execute_result"
    }
   ],
   "source": [
    "sorted(d, key = lambda x: d[x],reverse = True)"
   ]
  },
  {
   "cell_type": "code",
   "execution_count": 35,
   "id": "9875da39",
   "metadata": {},
   "outputs": [
    {
     "data": {
      "text/plain": [
       "'t'"
      ]
     },
     "execution_count": 35,
     "metadata": {},
     "output_type": "execute_result"
    }
   ],
   "source": [
    "sorted(d, key = lambda x: d[x],reverse = True)[0]"
   ]
  },
  {
   "cell_type": "code",
   "execution_count": 36,
   "id": "72ae4d80",
   "metadata": {},
   "outputs": [
    {
     "data": {
      "text/plain": [
       "['a', 'b', 'd', 'e', 'f', 'h', 'p', 's', 't']"
      ]
     },
     "execution_count": 36,
     "metadata": {},
     "output_type": "execute_result"
    }
   ],
   "source": [
    "sorted(d)"
   ]
  },
  {
   "cell_type": "code",
   "execution_count": 37,
   "id": "8420def3",
   "metadata": {},
   "outputs": [
    {
     "data": {
      "text/plain": [
       "['t', 's', 'p', 'h', 'f', 'e', 'd', 'b', 'a']"
      ]
     },
     "execution_count": 37,
     "metadata": {},
     "output_type": "execute_result"
    }
   ],
   "source": [
    "sorted(d, key = lambda x: x ,reverse = True)"
   ]
  },
  {
   "cell_type": "code",
   "execution_count": 38,
   "id": "66656532",
   "metadata": {},
   "outputs": [
    {
     "data": {
      "text/plain": [
       "['t', 's', 'p', 'h', 'f', 'e', 'd', 'b', 'a']"
      ]
     },
     "execution_count": 38,
     "metadata": {},
     "output_type": "execute_result"
    }
   ],
   "source": [
    "sorted(d, reverse=True)"
   ]
  },
  {
   "cell_type": "code",
   "execution_count": 39,
   "id": "a718bd07",
   "metadata": {},
   "outputs": [
    {
     "data": {
      "text/plain": [
       "{'a': 1, 'b': 5, 'd': 7, 'e': 8, 'f': 6, 's': 12, 't': 21, 'h': 9, 'p': 14}"
      ]
     },
     "execution_count": 39,
     "metadata": {},
     "output_type": "execute_result"
    }
   ],
   "source": [
    "d"
   ]
  },
  {
   "cell_type": "code",
   "execution_count": 40,
   "id": "8ce7b904",
   "metadata": {},
   "outputs": [
    {
     "data": {
      "text/plain": [
       "' i love sports, My country is the best sports teams in the world. i am a football fan.'"
      ]
     },
     "execution_count": 40,
     "metadata": {},
     "output_type": "execute_result"
    }
   ],
   "source": [
    "s = \" i love sports, My country is the best sports teams in the world. i am a football fan.\"\n",
    "s"
   ]
  },
  {
   "cell_type": "code",
   "execution_count": 41,
   "id": "924bb8cf",
   "metadata": {},
   "outputs": [
    {
     "data": {
      "text/plain": [
       "['i',\n",
       " 'love',\n",
       " 'sports,',\n",
       " 'My',\n",
       " 'country',\n",
       " 'is',\n",
       " 'the',\n",
       " 'best',\n",
       " 'sports',\n",
       " 'teams',\n",
       " 'in',\n",
       " 'the',\n",
       " 'world.',\n",
       " 'i',\n",
       " 'am',\n",
       " 'a',\n",
       " 'football',\n",
       " 'fan.']"
      ]
     },
     "execution_count": 41,
     "metadata": {},
     "output_type": "execute_result"
    }
   ],
   "source": [
    "s.split()"
   ]
  },
  {
   "cell_type": "code",
   "execution_count": 42,
   "id": "2c955880",
   "metadata": {
    "scrolled": true
   },
   "outputs": [
    {
     "data": {
      "text/plain": [
       "{'i': 2,\n",
       " 'love': 1,\n",
       " 'sports,': 1,\n",
       " 'My': 1,\n",
       " 'country': 1,\n",
       " 'is': 1,\n",
       " 'the': 2,\n",
       " 'best': 1,\n",
       " 'sports': 1,\n",
       " 'teams': 1,\n",
       " 'in': 1,\n",
       " 'world.': 1,\n",
       " 'am': 1,\n",
       " 'a': 1,\n",
       " 'football': 1,\n",
       " 'fan.': 1}"
      ]
     },
     "execution_count": 42,
     "metadata": {},
     "output_type": "execute_result"
    }
   ],
   "source": [
    "s_map = {}\n",
    "\n",
    "for i in s.split():\n",
    "    if i not in s_map:\n",
    "        s_map[i] = 1\n",
    "    else:\n",
    "        s_map[i] += 1\n",
    "s_map"
   ]
  },
  {
   "cell_type": "code",
   "execution_count": 43,
   "id": "e4ecd3ee",
   "metadata": {},
   "outputs": [],
   "source": [
    "gold_medals = {'I': {'wrestling': 3, 'Long Jump': 3, 'Basketball' : 5},\n",
    "                'C': {'wrestling': 1, 'Long Jump': 5, 'Basketball' : 3},\n",
    "                 'E': {'wrestling': 2, 'Long Jump': 7, 'Basketball' : 0}}                              "
   ]
  },
  {
   "cell_type": "code",
   "execution_count": 44,
   "id": "2933a21f",
   "metadata": {},
   "outputs": [
    {
     "data": {
      "text/plain": [
       "{'wrestling': 1, 'Long Jump': 5, 'Basketball': 3}"
      ]
     },
     "execution_count": 44,
     "metadata": {},
     "output_type": "execute_result"
    }
   ],
   "source": [
    "gold_medals[\"C\"]"
   ]
  },
  {
   "cell_type": "code",
   "execution_count": 45,
   "id": "06980b11",
   "metadata": {},
   "outputs": [
    {
     "data": {
      "text/plain": [
       "{'wrestling': 3, 'Long Jump': 3, 'Basketball': 5}"
      ]
     },
     "execution_count": 45,
     "metadata": {},
     "output_type": "execute_result"
    }
   ],
   "source": [
    "gold_medals['I']"
   ]
  },
  {
   "cell_type": "code",
   "execution_count": 46,
   "id": "c6453a5c",
   "metadata": {},
   "outputs": [
    {
     "data": {
      "text/plain": [
       "3"
      ]
     },
     "execution_count": 46,
     "metadata": {},
     "output_type": "execute_result"
    }
   ],
   "source": [
    "gold_medals['I']['Long Jump']"
   ]
  },
  {
   "cell_type": "code",
   "execution_count": 47,
   "id": "3576bf37",
   "metadata": {},
   "outputs": [],
   "source": [
    "students = [{'Name': 's', 'Age': '12', 'Score': 90},\n",
    "           {'Name': 'n', 'Age': '13', 'Score': 82},\n",
    "           {'Name': 'e', 'Age': '11', 'Score': 70},\n",
    "           {'Name': 'h', 'Age': '10', 'Score': 95}]\n"
   ]
  },
  {
   "cell_type": "code",
   "execution_count": 48,
   "id": "e867552a",
   "metadata": {},
   "outputs": [
    {
     "data": {
      "text/plain": [
       "[{'Name': 's', 'Age': '12', 'Score': 90},\n",
       " {'Name': 'n', 'Age': '13', 'Score': 82},\n",
       " {'Name': 'e', 'Age': '11', 'Score': 70},\n",
       " {'Name': 'h', 'Age': '10', 'Score': 95}]"
      ]
     },
     "execution_count": 48,
     "metadata": {},
     "output_type": "execute_result"
    }
   ],
   "source": [
    "students"
   ]
  },
  {
   "cell_type": "code",
   "execution_count": 49,
   "id": "b1d92be4",
   "metadata": {},
   "outputs": [
    {
     "data": {
      "text/plain": [
       "'11'"
      ]
     },
     "execution_count": 49,
     "metadata": {},
     "output_type": "execute_result"
    }
   ],
   "source": [
    "students[2]['Age']"
   ]
  },
  {
   "cell_type": "code",
   "execution_count": 50,
   "id": "b23b4e93",
   "metadata": {},
   "outputs": [
    {
     "data": {
      "text/plain": [
       "{'Name': 'e', 'Age': '11', 'Score': 70}"
      ]
     },
     "execution_count": 50,
     "metadata": {},
     "output_type": "execute_result"
    }
   ],
   "source": [
    "students[2]"
   ]
  },
  {
   "cell_type": "code",
   "execution_count": 51,
   "id": "2ea203c6",
   "metadata": {},
   "outputs": [
    {
     "data": {
      "text/plain": [
       "[{'Name': 'h', 'Age': '10', 'Score': 95},\n",
       " {'Name': 's', 'Age': '12', 'Score': 90},\n",
       " {'Name': 'n', 'Age': '13', 'Score': 82},\n",
       " {'Name': 'e', 'Age': '11', 'Score': 70}]"
      ]
     },
     "execution_count": 51,
     "metadata": {},
     "output_type": "execute_result"
    }
   ],
   "source": [
    "sorted(students, key = lambda x:x['Score'], reverse=True)"
   ]
  },
  {
   "cell_type": "code",
   "execution_count": 52,
   "id": "83d855a7",
   "metadata": {},
   "outputs": [
    {
     "data": {
      "text/plain": [
       "'h'"
      ]
     },
     "execution_count": 52,
     "metadata": {},
     "output_type": "execute_result"
    }
   ],
   "source": [
    "sorted(students, key = lambda x:x['Score'], reverse=True)[0][\"Name\"]"
   ]
  },
  {
   "cell_type": "code",
   "execution_count": 53,
   "id": "cf56659f",
   "metadata": {},
   "outputs": [
    {
     "data": {
      "text/plain": [
       "{'Name': 'h', 'Age': '10', 'Score': 95}"
      ]
     },
     "execution_count": 53,
     "metadata": {},
     "output_type": "execute_result"
    }
   ],
   "source": [
    "sorted(students, key = lambda x:x['Score'], reverse=True)[0]"
   ]
  },
  {
   "cell_type": "code",
   "execution_count": 54,
   "id": "9cd4fbdb",
   "metadata": {},
   "outputs": [
    {
     "data": {
      "text/plain": [
       "'n'"
      ]
     },
     "execution_count": 54,
     "metadata": {},
     "output_type": "execute_result"
    }
   ],
   "source": [
    "sorted(students, key = lambda x:x['Score'], reverse=True)[2][\"Name\"]"
   ]
  },
  {
   "cell_type": "code",
   "execution_count": 55,
   "id": "8659de74",
   "metadata": {},
   "outputs": [],
   "source": [
    "def add(x, y):\n",
    "    return x+y"
   ]
  },
  {
   "cell_type": "code",
   "execution_count": 56,
   "id": "9860190d",
   "metadata": {},
   "outputs": [
    {
     "data": {
      "text/plain": [
       "9"
      ]
     },
     "execution_count": 56,
     "metadata": {},
     "output_type": "execute_result"
    }
   ],
   "source": [
    "add(4,5)"
   ]
  },
  {
   "cell_type": "code",
   "execution_count": 57,
   "id": "539c08d2",
   "metadata": {},
   "outputs": [],
   "source": [
    "a = [2,4,5,6,7,8]\n",
    "b = [3,4,5,7,3,6]\n",
    "c = [7,9,8,4,5,5]"
   ]
  },
  {
   "cell_type": "code",
   "execution_count": 58,
   "id": "c3695ca8",
   "metadata": {},
   "outputs": [
    {
     "data": {
      "text/plain": [
       "[2, 4, 5, 6, 7, 8, 3, 4, 5, 7, 3, 6]"
      ]
     },
     "execution_count": 58,
     "metadata": {},
     "output_type": "execute_result"
    }
   ],
   "source": [
    "add(a,b)"
   ]
  },
  {
   "cell_type": "code",
   "execution_count": 59,
   "id": "b81036b8",
   "metadata": {},
   "outputs": [],
   "source": [
    "mul = lambda x, y: x*y"
   ]
  },
  {
   "cell_type": "code",
   "execution_count": 60,
   "id": "27e0ca1e",
   "metadata": {},
   "outputs": [
    {
     "data": {
      "text/plain": [
       "54"
      ]
     },
     "execution_count": 60,
     "metadata": {},
     "output_type": "execute_result"
    }
   ],
   "source": [
    "mul(9,6)"
   ]
  },
  {
   "cell_type": "code",
   "execution_count": 61,
   "id": "1c2130e0",
   "metadata": {},
   "outputs": [],
   "source": [
    "add1 = lambda x, y: x+y"
   ]
  },
  {
   "cell_type": "code",
   "execution_count": 62,
   "id": "b4e1b3bd",
   "metadata": {},
   "outputs": [
    {
     "data": {
      "text/plain": [
       "[2, 4, 5, 6, 7, 8, 3, 4, 5, 7, 3, 6]"
      ]
     },
     "execution_count": 62,
     "metadata": {},
     "output_type": "execute_result"
    }
   ],
   "source": [
    "add1(a,b)"
   ]
  },
  {
   "cell_type": "code",
   "execution_count": 63,
   "id": "46ec0673",
   "metadata": {},
   "outputs": [
    {
     "data": {
      "text/plain": [
       "[5, 8, 10, 13, 10, 14]"
      ]
     },
     "execution_count": 63,
     "metadata": {},
     "output_type": "execute_result"
    }
   ],
   "source": [
    "res = []\n",
    "for i in range(0, len(a)):\n",
    "    res.append(a[i]+b[i])\n",
    "res"
   ]
  },
  {
   "cell_type": "code",
   "execution_count": 64,
   "id": "478cf060",
   "metadata": {},
   "outputs": [
    {
     "data": {
      "text/plain": [
       "[5, 8, 10, 13, 10, 14]"
      ]
     },
     "execution_count": 64,
     "metadata": {},
     "output_type": "execute_result"
    }
   ],
   "source": [
    "list(map(add1, a,b))"
   ]
  },
  {
   "cell_type": "code",
   "execution_count": 65,
   "id": "0435b1f9",
   "metadata": {},
   "outputs": [
    {
     "data": {
      "text/plain": [
       "[5, 8, 10, 13, 10, 14]"
      ]
     },
     "execution_count": 65,
     "metadata": {},
     "output_type": "execute_result"
    }
   ],
   "source": [
    "list(map(lambda x, y: x+y, a, b))"
   ]
  },
  {
   "cell_type": "code",
   "execution_count": 66,
   "id": "4a828319",
   "metadata": {},
   "outputs": [
    {
     "data": {
      "text/plain": [
       "[6, 16, 25, 42, 21, 48]"
      ]
     },
     "execution_count": 66,
     "metadata": {},
     "output_type": "execute_result"
    }
   ],
   "source": [
    "list(map(lambda x, y: x*y, a, b))"
   ]
  },
  {
   "cell_type": "code",
   "execution_count": 67,
   "id": "277214b7",
   "metadata": {},
   "outputs": [
    {
     "data": {
      "text/plain": [
       "[12, 17, 18, 17, 15, 19]"
      ]
     },
     "execution_count": 67,
     "metadata": {},
     "output_type": "execute_result"
    }
   ],
   "source": [
    "list(map(lambda x,y,z: x+y+z, a,b,c))"
   ]
  },
  {
   "cell_type": "code",
   "execution_count": 68,
   "id": "637766eb",
   "metadata": {},
   "outputs": [
    {
     "data": {
      "text/plain": [
       "[18.5, 27.0, 30.5, 33.5, 26.5, 36.0]"
      ]
     },
     "execution_count": 68,
     "metadata": {},
     "output_type": "execute_result"
    }
   ],
   "source": [
    "list(map(lambda x,y,z: 2*x+2.5*y+z, a,b,c))"
   ]
  },
  {
   "cell_type": "code",
   "execution_count": 69,
   "id": "8401c1bf",
   "metadata": {},
   "outputs": [
    {
     "data": {
      "text/plain": [
       "[7, 9, 8]"
      ]
     },
     "execution_count": 69,
     "metadata": {},
     "output_type": "execute_result"
    }
   ],
   "source": [
    "list(filter(lambda x: x>5,c))"
   ]
  },
  {
   "cell_type": "code",
   "execution_count": 70,
   "id": "6bcf9324",
   "metadata": {},
   "outputs": [
    {
     "data": {
      "text/plain": [
       "[4, 6]"
      ]
     },
     "execution_count": 70,
     "metadata": {},
     "output_type": "execute_result"
    }
   ],
   "source": [
    "list(filter(lambda x: x%2==0, b))"
   ]
  },
  {
   "cell_type": "code",
   "execution_count": 71,
   "id": "c64738ae",
   "metadata": {},
   "outputs": [
    {
     "data": {
      "text/plain": [
       "[2, 4]"
      ]
     },
     "execution_count": 71,
     "metadata": {},
     "output_type": "execute_result"
    }
   ],
   "source": [
    "list(filter(lambda x: x<5, a))"
   ]
  },
  {
   "cell_type": "code",
   "execution_count": 72,
   "id": "d70548f3",
   "metadata": {},
   "outputs": [
    {
     "data": {
      "text/plain": [
       "[2, 4, 6, 8]"
      ]
     },
     "execution_count": 72,
     "metadata": {},
     "output_type": "execute_result"
    }
   ],
   "source": [
    "\n",
    "list(filter(lambda x: x%2==0, a))"
   ]
  },
  {
   "cell_type": "code",
   "execution_count": 73,
   "id": "327d78e7",
   "metadata": {},
   "outputs": [],
   "source": [
    "names = ['w', 'e', 'r', 't', 'y', 'u','d', 'g', 'h','l', 'aa','bb']"
   ]
  },
  {
   "cell_type": "code",
   "execution_count": 74,
   "id": "33b78059",
   "metadata": {},
   "outputs": [
    {
     "data": {
      "text/plain": [
       "['w', 'e', 'r', 't', 'y', 'u', 'd', 'g', 'h', 'l', 'aa', 'bb']"
      ]
     },
     "execution_count": 74,
     "metadata": {},
     "output_type": "execute_result"
    }
   ],
   "source": [
    "list(filter(lambda x: x[0], names))"
   ]
  },
  {
   "cell_type": "code",
   "execution_count": 75,
   "id": "0e762d8c",
   "metadata": {},
   "outputs": [
    {
     "data": {
      "text/plain": [
       "['aa']"
      ]
     },
     "execution_count": 75,
     "metadata": {},
     "output_type": "execute_result"
    }
   ],
   "source": [
    "list(filter(lambda x: x[0]=='a' ,names))"
   ]
  },
  {
   "cell_type": "code",
   "execution_count": 76,
   "id": "24bcffc5",
   "metadata": {},
   "outputs": [
    {
     "data": {
      "text/plain": [
       "['w', 'e', 'r', 't', 'y', 'u', 'd', 'g', 'h', 'l', 'aa']"
      ]
     },
     "execution_count": 76,
     "metadata": {},
     "output_type": "execute_result"
    }
   ],
   "source": [
    "list(filter(lambda x: x[0]!='b', names))"
   ]
  },
  {
   "cell_type": "code",
   "execution_count": 77,
   "id": "2a4b8682",
   "metadata": {},
   "outputs": [
    {
     "data": {
      "text/plain": [
       "['aa', 'bb', 'd', 'e', 'g', 'h', 'l', 'r', 't', 'u', 'w', 'y']"
      ]
     },
     "execution_count": 77,
     "metadata": {},
     "output_type": "execute_result"
    }
   ],
   "source": [
    "sorted(names, key=lambda x: x[0])"
   ]
  },
  {
   "cell_type": "code",
   "execution_count": 78,
   "id": "681a3135",
   "metadata": {},
   "outputs": [],
   "source": [
    "dict_a= [{\"names\":'john', 'age':11},\n",
    "        {\"names\":'joh', 'age':14},\n",
    "        {\"names\":'jn', 'age':13},\n",
    "        {\"names\":'ohn', 'age':22}]"
   ]
  },
  {
   "cell_type": "code",
   "execution_count": 79,
   "id": "af134a4b",
   "metadata": {},
   "outputs": [
    {
     "data": {
      "text/plain": [
       "['john', 'joh', 'jn', 'ohn']"
      ]
     },
     "execution_count": 79,
     "metadata": {},
     "output_type": "execute_result"
    }
   ],
   "source": [
    "list(map(lambda x: x['names'], dict_a))"
   ]
  },
  {
   "cell_type": "code",
   "execution_count": 80,
   "id": "97799cea",
   "metadata": {},
   "outputs": [
    {
     "data": {
      "text/plain": [
       "[11, 13, 14, 22]"
      ]
     },
     "execution_count": 80,
     "metadata": {},
     "output_type": "execute_result"
    }
   ],
   "source": [
    "sorted(list(map(lambda x: x['age'], dict_a)))"
   ]
  },
  {
   "cell_type": "code",
   "execution_count": 81,
   "id": "17b418e5",
   "metadata": {},
   "outputs": [
    {
     "data": {
      "text/plain": [
       "[{'names': 'john', 'age': 11},\n",
       " {'names': 'jn', 'age': 13},\n",
       " {'names': 'joh', 'age': 14},\n",
       " {'names': 'ohn', 'age': 22}]"
      ]
     },
     "execution_count": 81,
     "metadata": {},
     "output_type": "execute_result"
    }
   ],
   "source": [
    "sorted(dict_a, key=lambda x: x['age'])"
   ]
  },
  {
   "cell_type": "code",
   "execution_count": 82,
   "id": "ef1001b6",
   "metadata": {},
   "outputs": [
    {
     "data": {
      "text/plain": [
       "{'names': 'john', 'age': 11}"
      ]
     },
     "execution_count": 82,
     "metadata": {},
     "output_type": "execute_result"
    }
   ],
   "source": [
    "sorted(dict_a, key=lambda x: x['age'])[0]"
   ]
  },
  {
   "cell_type": "code",
   "execution_count": 83,
   "id": "c94a7856",
   "metadata": {},
   "outputs": [
    {
     "data": {
      "text/plain": [
       "{'names': 'ohn', 'age': 22}"
      ]
     },
     "execution_count": 83,
     "metadata": {},
     "output_type": "execute_result"
    }
   ],
   "source": [
    "sorted(dict_a, key=lambda x: x['age'])[-1]"
   ]
  },
  {
   "cell_type": "code",
   "execution_count": 84,
   "id": "f6a99725",
   "metadata": {},
   "outputs": [
    {
     "data": {
      "text/plain": [
       "[{'names': 'ohn', 'age': 22},\n",
       " {'names': 'joh', 'age': 14},\n",
       " {'names': 'jn', 'age': 13},\n",
       " {'names': 'john', 'age': 11}]"
      ]
     },
     "execution_count": 84,
     "metadata": {},
     "output_type": "execute_result"
    }
   ],
   "source": [
    "sorted(dict_a, key=lambda x: x['age'], reverse=True)"
   ]
  },
  {
   "cell_type": "code",
   "execution_count": 85,
   "id": "be5d3407",
   "metadata": {},
   "outputs": [],
   "source": [
    "files = ['1.cad', '1.bat', '1.aa.doc', '1.aa']"
   ]
  },
  {
   "cell_type": "code",
   "execution_count": 86,
   "id": "d01bf00f",
   "metadata": {},
   "outputs": [
    {
     "data": {
      "text/plain": [
       "['1', 'cad']"
      ]
     },
     "execution_count": 86,
     "metadata": {},
     "output_type": "execute_result"
    }
   ],
   "source": [
    "'1.cad'.split('.')"
   ]
  },
  {
   "cell_type": "code",
   "execution_count": 87,
   "id": "f00947c2",
   "metadata": {},
   "outputs": [
    {
     "data": {
      "text/plain": [
       "['1.aa', '1.bat', '1.cad', '1.aa.doc']"
      ]
     },
     "execution_count": 87,
     "metadata": {},
     "output_type": "execute_result"
    }
   ],
   "source": [
    "sorted(files, key= lambda x: x.split('.')[-1])"
   ]
  },
  {
   "cell_type": "code",
   "execution_count": 88,
   "id": "5b7fc14c",
   "metadata": {},
   "outputs": [
    {
     "data": {
      "text/plain": [
       "['1', 'bat']"
      ]
     },
     "execution_count": 88,
     "metadata": {},
     "output_type": "execute_result"
    }
   ],
   "source": [
    "files[1].split('.')"
   ]
  },
  {
   "cell_type": "code",
   "execution_count": 91,
   "id": "b5626c04",
   "metadata": {},
   "outputs": [],
   "source": [
    "#files.split('.')#AttributeError:'list' object has no attribute 'split'"
   ]
  },
  {
   "cell_type": "code",
   "execution_count": null,
   "id": "7328d8c9",
   "metadata": {},
   "outputs": [],
   "source": []
  },
  {
   "cell_type": "code",
   "execution_count": 92,
   "id": "903098f0",
   "metadata": {},
   "outputs": [],
   "source": [
    "# simple python programs, learn coding PDF"
   ]
  },
  {
   "cell_type": "code",
   "execution_count": 93,
   "id": "f7655730",
   "metadata": {},
   "outputs": [],
   "source": [
    "# for_loop"
   ]
  },
  {
   "cell_type": "code",
   "execution_count": 95,
   "id": "a778c82b",
   "metadata": {},
   "outputs": [
    {
     "name": "stdout",
     "output_type": "stream",
     "text": [
      "enter N:5\n",
      "5\n",
      "10\n",
      "15\n",
      "20\n",
      "25\n",
      "30\n",
      "35\n",
      "40\n",
      "45\n",
      "50\n"
     ]
    }
   ],
   "source": [
    "User_input= int(input(\"enter N:\"))\n",
    "\n",
    "for N in range(1, 11):\n",
    "    print(User_input*N)\n"
   ]
  },
  {
   "cell_type": "code",
   "execution_count": 96,
   "id": "7ef37c8f",
   "metadata": {},
   "outputs": [],
   "source": [
    "# Functions"
   ]
  },
  {
   "cell_type": "code",
   "execution_count": 98,
   "id": "fc3955a2",
   "metadata": {},
   "outputs": [],
   "source": [
    "# print() and len() is in-built functions\n",
    "# print(len(\"something\"))"
   ]
  },
  {
   "cell_type": "markdown",
   "id": "6980093b",
   "metadata": {},
   "source": [
    "# syntax to define a function\n",
    "\n",
    " def function_name(parameter1, parametern):\n",
    "      \"body\"\n",
    "      \"body\"\n",
    "      return value\n"
   ]
  },
  {
   "cell_type": "code",
   "execution_count": 103,
   "id": "cc104560",
   "metadata": {},
   "outputs": [],
   "source": [
    "a=8\n",
    "b=4\n",
    "\n",
    "def calculator(a,b):\n",
    "    print(\"addition:\",a+b)\n",
    "    print(\"sub:\", a-b)\n",
    "    print(\"div:\", a/b)\n",
    "    print(\"mul:\", a*b)\n",
    "    \n"
   ]
  },
  {
   "cell_type": "code",
   "execution_count": 104,
   "id": "2ffa7b2c",
   "metadata": {},
   "outputs": [
    {
     "name": "stdout",
     "output_type": "stream",
     "text": [
      "addition: 30\n",
      "sub: -10\n",
      "div: 0.5\n",
      "mul: 200\n"
     ]
    }
   ],
   "source": [
    "calculator(10,20)"
   ]
  },
  {
   "cell_type": "code",
   "execution_count": 105,
   "id": "000220c0",
   "metadata": {},
   "outputs": [
    {
     "name": "stdout",
     "output_type": "stream",
     "text": [
      "addition: 12\n",
      "sub: 4\n",
      "div: 2.0\n",
      "mul: 32\n"
     ]
    }
   ],
   "source": [
    "calculator(a,b)"
   ]
  },
  {
   "cell_type": "code",
   "execution_count": null,
   "id": "8620fa75",
   "metadata": {},
   "outputs": [],
   "source": [
    "# positional argument\n",
    "# def greet(firstame, lastname):\n",
    "#     print(\"good evening\",firstname , lastname )"
   ]
  },
  {
   "cell_type": "code",
   "execution_count": 119,
   "id": "06c150ff",
   "metadata": {},
   "outputs": [],
   "source": [
    "\n",
    "## positional arguments\n",
    "def greet(firstname, lastname):\n",
    "    print(\"good evening\", firstname,lastname)\n",
    "    #greet(\"kumar\", \"ankit\")"
   ]
  },
  {
   "cell_type": "code",
   "execution_count": 130,
   "id": "88bb1247",
   "metadata": {},
   "outputs": [
    {
     "name": "stdout",
     "output_type": "stream",
     "text": [
      "good evening snehal meher\n"
     ]
    }
   ],
   "source": [
    "greet(\"snehal\",\"meher\")"
   ]
  },
  {
   "cell_type": "code",
   "execution_count": 131,
   "id": "70665cb1",
   "metadata": {},
   "outputs": [],
   "source": [
    "## keyward arguments \n",
    "#greet(\"kumar\", \"snehal\")   \n",
    "# positional arguments\n",
    "def hi(first, last):\n",
    "    print(\"good evening\", first,last)\n",
    "    #greet(lastname=\"kumar\", \"ankit\")"
   ]
  },
  {
   "cell_type": "code",
   "execution_count": 133,
   "id": "76e19b24",
   "metadata": {},
   "outputs": [],
   "source": [
    "#hi(lastname=\"kumar\", \"ankit\")#SyntaxError: positional \n",
    "#argument follows keyword argument"
   ]
  },
  {
   "cell_type": "code",
   "execution_count": 134,
   "id": "7b374f5c",
   "metadata": {},
   "outputs": [],
   "source": [
    "## default arguments\n",
    "def greet(firstname=\"guest\"):\n",
    "    print(\"goodevening\",firstname)"
   ]
  },
  {
   "cell_type": "code",
   "execution_count": 135,
   "id": "9aafafdc",
   "metadata": {},
   "outputs": [
    {
     "name": "stdout",
     "output_type": "stream",
     "text": [
      "goodevening ankush\n"
     ]
    }
   ],
   "source": [
    "greet(\"ankush\")"
   ]
  },
  {
   "cell_type": "code",
   "execution_count": 139,
   "id": "9ba2fa76",
   "metadata": {},
   "outputs": [
    {
     "name": "stdout",
     "output_type": "stream",
     "text": [
      "good evening ankush a\n"
     ]
    }
   ],
   "source": [
    "hi(\"ankush\", \"a\")"
   ]
  },
  {
   "cell_type": "code",
   "execution_count": 140,
   "id": "500d0f97",
   "metadata": {},
   "outputs": [],
   "source": [
    "## variable length argument"
   ]
  },
  {
   "cell_type": "code",
   "execution_count": 141,
   "id": "b4455131",
   "metadata": {},
   "outputs": [],
   "source": [
    "def test(*args):\n",
    "    print(args)\n",
    "    print(len(args))\n",
    "    print(type(args))"
   ]
  },
  {
   "cell_type": "code",
   "execution_count": 142,
   "id": "f50ee707",
   "metadata": {},
   "outputs": [
    {
     "name": "stdout",
     "output_type": "stream",
     "text": [
      "('india', 'shree', 'ban')\n",
      "3\n",
      "<class 'tuple'>\n"
     ]
    }
   ],
   "source": [
    "test(\"india\", \"shree\", \"ban\")"
   ]
  },
  {
   "cell_type": "code",
   "execution_count": 148,
   "id": "7d8416a8",
   "metadata": {},
   "outputs": [],
   "source": [
    "\n",
    "def best(*kwargs):\n",
    "    print(kwargs)\n",
    "    print(len(kwargs))\n",
    "    print(type(kwargs))"
   ]
  },
  {
   "cell_type": "code",
   "execution_count": 152,
   "id": "d69a9fb6",
   "metadata": {},
   "outputs": [
    {
     "name": "stdout",
     "output_type": "stream",
     "text": [
      "('india', 'rohit')\n",
      "2\n",
      "<class 'tuple'>\n"
     ]
    }
   ],
   "source": [
    "best('india','rohit')"
   ]
  },
  {
   "cell_type": "code",
   "execution_count": null,
   "id": "4e605d2c",
   "metadata": {},
   "outputs": [],
   "source": [
    "# identifiers- cresting identifiers in python\n",
    "# integic data types"
   ]
  },
  {
   "cell_type": "code",
   "execution_count": 153,
   "id": "f346d159",
   "metadata": {},
   "outputs": [
    {
     "name": "stdout",
     "output_type": "stream",
     "text": [
      "<class 'int'>\n"
     ]
    }
   ],
   "source": [
    "var=143\n",
    "print(type(var))"
   ]
  },
  {
   "cell_type": "code",
   "execution_count": 154,
   "id": "2a45a607",
   "metadata": {},
   "outputs": [],
   "source": [
    "#decimal form\n",
    "var=123\n",
    "\n"
   ]
  },
  {
   "cell_type": "code",
   "execution_count": 155,
   "id": "eb53f93f",
   "metadata": {},
   "outputs": [
    {
     "name": "stdout",
     "output_type": "stream",
     "text": [
      "<class 'int'>\n"
     ]
    }
   ],
   "source": [
    "#binary form\n",
    "bvar=0B1111\n",
    "print(type(bvar))"
   ]
  },
  {
   "cell_type": "code",
   "execution_count": 156,
   "id": "bc571cf1",
   "metadata": {},
   "outputs": [
    {
     "name": "stdout",
     "output_type": "stream",
     "text": [
      "<class 'int'>\n"
     ]
    }
   ],
   "source": [
    "#Octal form\n",
    "ovar=0o123\n",
    "print(type(ovar))"
   ]
  },
  {
   "cell_type": "code",
   "execution_count": 157,
   "id": "5561e90f",
   "metadata": {},
   "outputs": [
    {
     "name": "stdout",
     "output_type": "stream",
     "text": [
      "<class 'int'>\n"
     ]
    }
   ],
   "source": [
    "#hexadecimal form\n",
    "hvar = 0XFACE\n",
    "print(type(hvar))"
   ]
  },
  {
   "cell_type": "code",
   "execution_count": 158,
   "id": "f7c04669",
   "metadata": {},
   "outputs": [
    {
     "name": "stdout",
     "output_type": "stream",
     "text": [
      "0o24\n"
     ]
    }
   ],
   "source": [
    "print(oct(20))"
   ]
  },
  {
   "cell_type": "code",
   "execution_count": 159,
   "id": "9a113ee2",
   "metadata": {},
   "outputs": [
    {
     "name": "stdout",
     "output_type": "stream",
     "text": [
      "<class 'float'>\n"
     ]
    }
   ],
   "source": [
    "#floating data type\n",
    "fvar= 3.14\n",
    "print(type(fvar))"
   ]
  },
  {
   "cell_type": "code",
   "execution_count": 160,
   "id": "f5280f7b",
   "metadata": {},
   "outputs": [
    {
     "name": "stdout",
     "output_type": "stream",
     "text": [
      "<class 'float'>\n"
     ]
    }
   ],
   "source": [
    "fvar=1.10e20\n",
    "print(type(fvar))"
   ]
  },
  {
   "cell_type": "code",
   "execution_count": 161,
   "id": "4918a12e",
   "metadata": {},
   "outputs": [
    {
     "name": "stdout",
     "output_type": "stream",
     "text": [
      "32.0\n"
     ]
    }
   ],
   "source": [
    "cvar = 0b1111+ 32j\n",
    "print(cvar.imag)"
   ]
  },
  {
   "cell_type": "code",
   "execution_count": 162,
   "id": "33c119b3",
   "metadata": {},
   "outputs": [
    {
     "name": "stdout",
     "output_type": "stream",
     "text": [
      "<class 'bool'>\n"
     ]
    }
   ],
   "source": [
    "# boolean data types\n",
    "bvar = True\n",
    "print(type(bvar))"
   ]
  },
  {
   "cell_type": "code",
   "execution_count": 163,
   "id": "655e36eb",
   "metadata": {},
   "outputs": [
    {
     "name": "stdout",
     "output_type": "stream",
     "text": [
      "<class 'str'>\n"
     ]
    }
   ],
   "source": [
    "#String data types\n",
    "\n",
    "svar = 'he said,\"i an doing great\"'\n",
    "print(type(svar))"
   ]
  },
  {
   "cell_type": "code",
   "execution_count": 165,
   "id": "3c069ebc",
   "metadata": {},
   "outputs": [
    {
     "name": "stdout",
     "output_type": "stream",
     "text": [
      "<class 'str'>\n"
     ]
    }
   ],
   "source": [
    "hi=\"learn code\"\n",
    "msg=f\"sddggkh: {hi}\"\n",
    "print(type(msg))"
   ]
  },
  {
   "cell_type": "code",
   "execution_count": 166,
   "id": "36ad47cf",
   "metadata": {},
   "outputs": [
    {
     "name": "stdout",
     "output_type": "stream",
     "text": [
      "sddggkh: learn code\n"
     ]
    }
   ],
   "source": [
    "print(msg)"
   ]
  },
  {
   "cell_type": "code",
   "execution_count": 167,
   "id": "e5c95533",
   "metadata": {},
   "outputs": [
    {
     "name": "stdout",
     "output_type": "stream",
     "text": [
      "<class 'list'>\n"
     ]
    }
   ],
   "source": [
    "list_of_string=svar.split(' ')\n",
    "print(type(list_of_string))"
   ]
  },
  {
   "cell_type": "code",
   "execution_count": 168,
   "id": "c858c6cb",
   "metadata": {},
   "outputs": [],
   "source": [
    "list_of_string=svar.split(' ')"
   ]
  },
  {
   "cell_type": "code",
   "execution_count": 169,
   "id": "99ad9d61",
   "metadata": {},
   "outputs": [
    {
     "name": "stdout",
     "output_type": "stream",
     "text": [
      "hello sir-nice to see you-welcome\n"
     ]
    }
   ],
   "source": [
    "data = ['hello sir', 'nice to see you', 'welcome']\n",
    "print('-'.join(data))"
   ]
  },
  {
   "cell_type": "code",
   "execution_count": 170,
   "id": "1ab7bc12",
   "metadata": {},
   "outputs": [
    {
     "name": "stdout",
     "output_type": "stream",
     "text": [
      "False\n"
     ]
    }
   ],
   "source": [
    "info = \"i am intersted in learning \"\n",
    "print(info.isspace())"
   ]
  },
  {
   "cell_type": "code",
   "execution_count": 171,
   "id": "cfee50c9",
   "metadata": {},
   "outputs": [
    {
     "name": "stdout",
     "output_type": "stream",
     "text": [
      "<class 'range'>\n"
     ]
    }
   ],
   "source": [
    "rvar = range(10, 20,3)\n",
    "print(type(rvar))"
   ]
  },
  {
   "cell_type": "code",
   "execution_count": 172,
   "id": "9bf2f2cd",
   "metadata": {},
   "outputs": [
    {
     "name": "stdout",
     "output_type": "stream",
     "text": [
      "10\n",
      "13\n",
      "16\n",
      "19\n"
     ]
    }
   ],
   "source": [
    "for data in rvar:\n",
    "    print(data)"
   ]
  },
  {
   "cell_type": "code",
   "execution_count": null,
   "id": "53b5d9d5",
   "metadata": {},
   "outputs": [],
   "source": [
    "## if else"
   ]
  },
  {
   "cell_type": "code",
   "execution_count": 175,
   "id": "222a2446",
   "metadata": {},
   "outputs": [
    {
     "name": "stdout",
     "output_type": "stream",
     "text": [
      "enter age:45\n",
      "find your perfect match \n"
     ]
    }
   ],
   "source": [
    "age= int(input(\"enter age:\"))\n",
    "\n",
    "if  age < 18:\n",
    "    print('you are too young to marray')\n",
    "elif age>60:\n",
    "    print('you are too old to marray')\n",
    "else:\n",
    "    print(\"find your perfect match \")"
   ]
  },
  {
   "cell_type": "code",
   "execution_count": 176,
   "id": "09360985",
   "metadata": {},
   "outputs": [],
   "source": [
    "## input_output"
   ]
  },
  {
   "cell_type": "code",
   "execution_count": null,
   "id": "071b15ff",
   "metadata": {},
   "outputs": [],
   "source": [
    "# taking input from user"
   ]
  },
  {
   "cell_type": "code",
   "execution_count": 177,
   "id": "70f3914d",
   "metadata": {},
   "outputs": [
    {
     "name": "stdout",
     "output_type": "stream",
     "text": [
      "4.5\n"
     ]
    }
   ],
   "source": [
    "#eval-evaluate()\n",
    "print(eval(\"2+5/2\"))"
   ]
  },
  {
   "cell_type": "code",
   "execution_count": 179,
   "id": "5010a329",
   "metadata": {},
   "outputs": [
    {
     "name": "stdout",
     "output_type": "stream",
     "text": [
      "enter your name:hi\n",
      "<class 'str'>\n",
      "good evening learn code\n"
     ]
    }
   ],
   "source": [
    "user_input = eval(input('enter your name:'))\n",
    "print(type(user_input))\n",
    "print(\"good evening\", user_input)"
   ]
  },
  {
   "cell_type": "code",
   "execution_count": 180,
   "id": "528da859",
   "metadata": {},
   "outputs": [
    {
     "name": "stdout",
     "output_type": "stream",
     "text": [
      "hello world\n",
      "\n",
      "\n",
      "how are you\n"
     ]
    }
   ],
   "source": [
    "print(\"hello world\", end=\"\\n\\n\\n\")\n",
    "print(\"how are you\")"
   ]
  },
  {
   "cell_type": "code",
   "execution_count": 181,
   "id": "360fe5c0",
   "metadata": {},
   "outputs": [
    {
     "name": "stdout",
     "output_type": "stream",
     "text": [
      "hhello all of you\n"
     ]
    }
   ],
   "source": [
    "print('hello all of you')"
   ]
  },
  {
   "cell_type": "code",
   "execution_count": 182,
   "id": "8da373d9",
   "metadata": {},
   "outputs": [],
   "source": [
    "## list_test\n"
   ]
  },
  {
   "cell_type": "code",
   "execution_count": null,
   "id": "3ca5914e",
   "metadata": {},
   "outputs": [],
   "source": [
    "#creation of list "
   ]
  },
  {
   "cell_type": "code",
   "execution_count": 183,
   "id": "46d593c0",
   "metadata": {},
   "outputs": [],
   "source": [
    "# empty list\n",
    "empty_list = []"
   ]
  },
  {
   "cell_type": "code",
   "execution_count": 185,
   "id": "77ad6291",
   "metadata": {},
   "outputs": [],
   "source": [
    "# list with some values\n",
    "list2=['dsfgjh', 'ftk','ritki','gdm',True, 12.32, 'hgfd']"
   ]
  },
  {
   "cell_type": "code",
   "execution_count": 186,
   "id": "fd604d2c",
   "metadata": {},
   "outputs": [
    {
     "data": {
      "text/plain": [
       "['dsfgjh', 'ftk', 'ritki', 'gdm', True, 12.32, 'hgfd']"
      ]
     },
     "execution_count": 186,
     "metadata": {},
     "output_type": "execute_result"
    }
   ],
   "source": [
    "list2"
   ]
  },
  {
   "cell_type": "code",
   "execution_count": 187,
   "id": "ee28efad",
   "metadata": {},
   "outputs": [],
   "source": [
    "## with list()\n",
    "list3 = list()"
   ]
  },
  {
   "cell_type": "code",
   "execution_count": 188,
   "id": "f49ea6bc",
   "metadata": {},
   "outputs": [
    {
     "name": "stdout",
     "output_type": "stream",
     "text": [
      "<class 'list'>\n"
     ]
    }
   ],
   "source": [
    "print(type(empty_list))\n"
   ]
  },
  {
   "cell_type": "code",
   "execution_count": 189,
   "id": "45d9316a",
   "metadata": {},
   "outputs": [
    {
     "name": "stdout",
     "output_type": "stream",
     "text": [
      "['ftk', 'ritki', 'gdm']\n"
     ]
    }
   ],
   "source": [
    "print(list2[1:4])"
   ]
  },
  {
   "cell_type": "code",
   "execution_count": 190,
   "id": "d12cc346",
   "metadata": {},
   "outputs": [],
   "source": [
    "# methods of list\n",
    "list2=[12,2,800,45]"
   ]
  },
  {
   "cell_type": "code",
   "execution_count": 195,
   "id": "1e2bbeef",
   "metadata": {},
   "outputs": [
    {
     "name": "stdout",
     "output_type": "stream",
     "text": [
      "[45, 800, 2, 12]\n"
     ]
    }
   ],
   "source": [
    "list2.reverse()\n",
    "print(list2)"
   ]
  },
  {
   "cell_type": "code",
   "execution_count": 196,
   "id": "c8a96708",
   "metadata": {},
   "outputs": [
    {
     "name": "stdout",
     "output_type": "stream",
     "text": [
      "None\n"
     ]
    }
   ],
   "source": [
    "print(list2.reverse())"
   ]
  },
  {
   "cell_type": "code",
   "execution_count": 197,
   "id": "abdeef86",
   "metadata": {},
   "outputs": [],
   "source": [
    "list3 = ['gfj', 'trkr']"
   ]
  },
  {
   "cell_type": "code",
   "execution_count": 198,
   "id": "bd145fa0",
   "metadata": {},
   "outputs": [],
   "source": [
    "name1,name2 = list3"
   ]
  },
  {
   "cell_type": "code",
   "execution_count": 199,
   "id": "e6d1fd6a",
   "metadata": {},
   "outputs": [
    {
     "name": "stdout",
     "output_type": "stream",
     "text": [
      "gfj\n"
     ]
    }
   ],
   "source": [
    "print(name1)"
   ]
  },
  {
   "cell_type": "code",
   "execution_count": 200,
   "id": "1459976d",
   "metadata": {},
   "outputs": [],
   "source": [
    "# list unpacking "
   ]
  },
  {
   "cell_type": "code",
   "execution_count": 203,
   "id": "082c5435",
   "metadata": {},
   "outputs": [
    {
     "name": "stdout",
     "output_type": "stream",
     "text": [
      "1\n"
     ]
    }
   ],
   "source": [
    "# count()\n",
    "print(list2.count(2))"
   ]
  },
  {
   "cell_type": "code",
   "execution_count": 207,
   "id": "20824eb8",
   "metadata": {},
   "outputs": [
    {
     "name": "stdout",
     "output_type": "stream",
     "text": [
      "not found\n"
     ]
    }
   ],
   "source": [
    "# index()\n",
    "if True in list2:\n",
    "    print(list2.index(True))\n",
    "else:\n",
    "    print('not found')"
   ]
  },
  {
   "cell_type": "code",
   "execution_count": 208,
   "id": "1f317f76",
   "metadata": {},
   "outputs": [],
   "source": [
    "# modules"
   ]
  },
  {
   "cell_type": "code",
   "execution_count": 213,
   "id": "59a8d470",
   "metadata": {},
   "outputs": [],
   "source": [
    "#from greet import greet as greet_of_functions\n",
    "#from test import greet as greet_of_test\n",
    "\n",
    "#ModuleNotFoundError: No module named 'greet'"
   ]
  },
  {
   "cell_type": "code",
   "execution_count": 215,
   "id": "c8eaee80",
   "metadata": {},
   "outputs": [],
   "source": [
    "#greet_of_test"
   ]
  },
  {
   "cell_type": "code",
   "execution_count": 216,
   "id": "1814f0ab",
   "metadata": {},
   "outputs": [],
   "source": [
    "#operators in python#"
   ]
  },
  {
   "cell_type": "code",
   "execution_count": 218,
   "id": "6a91bc16",
   "metadata": {},
   "outputs": [
    {
     "name": "stdout",
     "output_type": "stream",
     "text": [
      "addition : 30\n",
      "subtraction : 10\n",
      "multiplication: 200\n",
      "division: 2.0\n",
      "floor division: 2\n",
      "modulous division: 0\n",
      "power operator: 125\n"
     ]
    }
   ],
   "source": [
    "a=20\n",
    "b=10\n",
    "\n",
    "print('addition :', a+b)\n",
    "print('subtraction :', a-b)\n",
    "print('multiplication:',a*b)\n",
    "print('division:',a/b ) # floating point\n",
    "print('floor division:', a//b)# integic value\n",
    "print('modulous division:', a%b)#remender\n",
    "print('power operator:', 5**3)"
   ]
  },
  {
   "cell_type": "code",
   "execution_count": 219,
   "id": "163157f4",
   "metadata": {},
   "outputs": [],
   "source": [
    "## comparison"
   ]
  },
  {
   "cell_type": "code",
   "execution_count": 220,
   "id": "a9cfebc7",
   "metadata": {},
   "outputs": [
    {
     "name": "stdout",
     "output_type": "stream",
     "text": [
      "True\n"
     ]
    }
   ],
   "source": [
    "\n",
    "print(10!=23)"
   ]
  },
  {
   "cell_type": "code",
   "execution_count": 221,
   "id": "0c1cdea5",
   "metadata": {},
   "outputs": [
    {
     "name": "stdout",
     "output_type": "stream",
     "text": [
      "0\n"
     ]
    }
   ],
   "source": [
    "#logical operator\n",
    "#and\n",
    "print(0 and 10)"
   ]
  },
  {
   "cell_type": "code",
   "execution_count": 222,
   "id": "e3a248c5",
   "metadata": {},
   "outputs": [
    {
     "name": "stdout",
     "output_type": "stream",
     "text": [
      "20\n"
     ]
    }
   ],
   "source": [
    "print(10 and 20)"
   ]
  },
  {
   "cell_type": "code",
   "execution_count": 223,
   "id": "85589a3d",
   "metadata": {},
   "outputs": [
    {
     "name": "stdout",
     "output_type": "stream",
     "text": [
      "True\n"
     ]
    }
   ],
   "source": [
    "#0r\n",
    "print(True or False)"
   ]
  },
  {
   "cell_type": "code",
   "execution_count": 224,
   "id": "aef03fc0",
   "metadata": {},
   "outputs": [
    {
     "name": "stdout",
     "output_type": "stream",
     "text": [
      "True\n"
     ]
    }
   ],
   "source": [
    "#not\n",
    "print(not False)"
   ]
  },
  {
   "cell_type": "code",
   "execution_count": 225,
   "id": "a0bf5a8d",
   "metadata": {},
   "outputs": [
    {
     "name": "stdout",
     "output_type": "stream",
     "text": [
      "id of a: 140612820009808\n",
      "id of b: 140612820009488\n"
     ]
    }
   ],
   "source": [
    "print('id of a:', id(a))\n",
    "print('id of b:', id(b))"
   ]
  },
  {
   "cell_type": "code",
   "execution_count": 227,
   "id": "ef39e00b",
   "metadata": {},
   "outputs": [
    {
     "name": "stdout",
     "output_type": "stream",
     "text": [
      "True\n"
     ]
    }
   ],
   "source": [
    "var= \"india is great\"\n",
    "print(\"hello\" not in var)"
   ]
  },
  {
   "cell_type": "code",
   "execution_count": 229,
   "id": "d75d64a5",
   "metadata": {},
   "outputs": [
    {
     "name": "stdout",
     "output_type": "stream",
     "text": [
      "['False', 'None', 'True', 'and', 'as', 'assert', 'async', 'await', 'break', 'class', 'continue', 'def', 'del', 'elif', 'else', 'except', 'finally', 'for', 'from', 'global', 'if', 'import', 'in', 'is', 'lambda', 'nonlocal', 'not', 'or', 'pass', 'raise', 'return', 'try', 'while', 'with', 'yield']\n"
     ]
    }
   ],
   "source": [
    "# program to list all kwards in programs of python\n",
    "import keyword\n",
    "print(keyword.kwlist)    "
   ]
  },
  {
   "cell_type": "code",
   "execution_count": null,
   "id": "1c155631",
   "metadata": {},
   "outputs": [],
   "source": [
    "## set examples\n"
   ]
  },
  {
   "cell_type": "code",
   "execution_count": 230,
   "id": "1a851201",
   "metadata": {},
   "outputs": [],
   "source": [
    "# empty set"
   ]
  },
  {
   "cell_type": "code",
   "execution_count": 231,
   "id": "a716c8f2",
   "metadata": {},
   "outputs": [],
   "source": [
    "svar= set()"
   ]
  },
  {
   "cell_type": "code",
   "execution_count": 234,
   "id": "6575bced",
   "metadata": {},
   "outputs": [
    {
     "data": {
      "text/plain": [
       "{'learn coding'}"
      ]
     },
     "execution_count": 234,
     "metadata": {},
     "output_type": "execute_result"
    }
   ],
   "source": [
    "svar"
   ]
  },
  {
   "cell_type": "code",
   "execution_count": 235,
   "id": "4f0bb79a",
   "metadata": {},
   "outputs": [],
   "source": [
    "# set with some data\n",
    "svar = {'hvm,','gfkj','tir','jdtf',1234, True}"
   ]
  },
  {
   "cell_type": "code",
   "execution_count": 236,
   "id": "e1eb36c0",
   "metadata": {},
   "outputs": [],
   "source": [
    "# to add soe data\n",
    "svar.add('learn coding')"
   ]
  },
  {
   "cell_type": "code",
   "execution_count": 237,
   "id": "faa145f0",
   "metadata": {},
   "outputs": [
    {
     "data": {
      "text/plain": [
       "{1234, True, 'gfkj', 'hvm,', 'jdtf', 'learn coding', 'tir'}"
      ]
     },
     "execution_count": 237,
     "metadata": {},
     "output_type": "execute_result"
    }
   ],
   "source": [
    "svar"
   ]
  },
  {
   "cell_type": "code",
   "execution_count": 238,
   "id": "0d881be4",
   "metadata": {},
   "outputs": [],
   "source": [
    "# to add multiple data"
   ]
  },
  {
   "cell_type": "code",
   "execution_count": 239,
   "id": "c16d8a18",
   "metadata": {},
   "outputs": [],
   "source": [
    "svar.update('india')"
   ]
  },
  {
   "cell_type": "code",
   "execution_count": 240,
   "id": "7ea19b5d",
   "metadata": {},
   "outputs": [
    {
     "data": {
      "text/plain": [
       "{1234, True, 'a', 'd', 'gfkj', 'hvm,', 'i', 'jdtf', 'learn coding', 'n', 'tir'}"
      ]
     },
     "execution_count": 240,
     "metadata": {},
     "output_type": "execute_result"
    }
   ],
   "source": [
    "svar"
   ]
  },
  {
   "cell_type": "code",
   "execution_count": 241,
   "id": "131b4e6a",
   "metadata": {},
   "outputs": [
    {
     "name": "stdout",
     "output_type": "stream",
     "text": [
      "True\n"
     ]
    }
   ],
   "source": [
    "# to remove data\n",
    "print(svar.pop())"
   ]
  },
  {
   "cell_type": "code",
   "execution_count": 242,
   "id": "9e07c91c",
   "metadata": {},
   "outputs": [
    {
     "data": {
      "text/plain": [
       "{1234, 'a', 'd', 'gfkj', 'hvm,', 'i', 'jdtf', 'learn coding', 'n', 'tir'}"
      ]
     },
     "execution_count": 242,
     "metadata": {},
     "output_type": "execute_result"
    }
   ],
   "source": [
    "svar"
   ]
  },
  {
   "cell_type": "code",
   "execution_count": 244,
   "id": "27d6b432",
   "metadata": {},
   "outputs": [
    {
     "name": "stdout",
     "output_type": "stream",
     "text": [
      "a\n"
     ]
    }
   ],
   "source": [
    "print(svar.pop())"
   ]
  },
  {
   "cell_type": "code",
   "execution_count": 245,
   "id": "2b6ffc46",
   "metadata": {},
   "outputs": [
    {
     "data": {
      "text/plain": [
       "{1234, 'd', 'gfkj', 'hvm,', 'i', 'jdtf', 'learn coding', 'n', 'tir'}"
      ]
     },
     "execution_count": 245,
     "metadata": {},
     "output_type": "execute_result"
    }
   ],
   "source": [
    "svar"
   ]
  },
  {
   "cell_type": "code",
   "execution_count": 246,
   "id": "766803a4",
   "metadata": {},
   "outputs": [],
   "source": [
    "svar.remove('i')"
   ]
  },
  {
   "cell_type": "code",
   "execution_count": 247,
   "id": "a7d4823a",
   "metadata": {},
   "outputs": [
    {
     "data": {
      "text/plain": [
       "{1234, 'd', 'gfkj', 'hvm,', 'jdtf', 'learn coding', 'n', 'tir'}"
      ]
     },
     "execution_count": 247,
     "metadata": {},
     "output_type": "execute_result"
    }
   ],
   "source": [
    "svar"
   ]
  },
  {
   "cell_type": "code",
   "execution_count": 249,
   "id": "8c801236",
   "metadata": {},
   "outputs": [],
   "source": [
    "svar.clear()"
   ]
  },
  {
   "cell_type": "code",
   "execution_count": 250,
   "id": "1d1e80eb",
   "metadata": {},
   "outputs": [
    {
     "data": {
      "text/plain": [
       "set()"
      ]
     },
     "execution_count": 250,
     "metadata": {},
     "output_type": "execute_result"
    }
   ],
   "source": [
    "svar"
   ]
  },
  {
   "cell_type": "code",
   "execution_count": 251,
   "id": "e2c2b696",
   "metadata": {},
   "outputs": [
    {
     "name": "stdout",
     "output_type": "stream",
     "text": [
      "set()\n"
     ]
    }
   ],
   "source": [
    "print(svar)"
   ]
  },
  {
   "cell_type": "code",
   "execution_count": 252,
   "id": "944faeba",
   "metadata": {},
   "outputs": [
    {
     "name": "stdout",
     "output_type": "stream",
     "text": [
      "{'hvm,', 'tir', 12, 'd', 'jdtf', 1234, 'tyhvm,', 'gfkj', 'yhgfkj', 'wwstjdtf', 'n', 'learn coding', 'drst'}\n"
     ]
    }
   ],
   "source": [
    "var1 = {1234, 'd', 'gfkj', 'hvm,', 'jdtf', 'learn coding', 'n', 'tir'}\n",
    "var2 = {12, 'drst', 'yhgfkj', 'tyhvm,', 'wwstjdtf', 'n', 'tir'}\n",
    "print(var1.union(var2))"
   ]
  },
  {
   "cell_type": "code",
   "execution_count": 253,
   "id": "791769be",
   "metadata": {},
   "outputs": [
    {
     "name": "stdout",
     "output_type": "stream",
     "text": [
      "{'hvm,', 'tir', 12, 'd', 'jdtf', 1234, 'tyhvm,', 'gfkj', 'yhgfkj', 'wwstjdtf', 'n', 'learn coding', 'drst'}\n"
     ]
    }
   ],
   "source": [
    "print(var1|var2)"
   ]
  },
  {
   "cell_type": "code",
   "execution_count": 254,
   "id": "cc982ca1",
   "metadata": {},
   "outputs": [
    {
     "name": "stdout",
     "output_type": "stream",
     "text": [
      "{'n', 'tir'}\n",
      "{'hvm,', 'd', 1234, 'jdtf', 'gfkj', 'learn coding'}\n"
     ]
    }
   ],
   "source": [
    "print(var1.intersection(var2))\n",
    "print(var1-var2)"
   ]
  },
  {
   "cell_type": "code",
   "execution_count": 256,
   "id": "0aa05c6c",
   "metadata": {},
   "outputs": [
    {
     "name": "stdout",
     "output_type": "stream",
     "text": [
      "{'hvm,', 'd', 1234, 'jdtf', 'gfkj', 'learn coding'}\n",
      "{'hvm,', 'd', 1234, 'jdtf', 'gfkj', 'learn coding'}\n"
     ]
    }
   ],
   "source": [
    "print(var1.difference(var2))\n",
    "print(var1-var2)"
   ]
  },
  {
   "cell_type": "code",
   "execution_count": 257,
   "id": "216ac3e6",
   "metadata": {},
   "outputs": [
    {
     "name": "stdout",
     "output_type": "stream",
     "text": [
      "{12, 1234, 'wwstjdtf', 'learn coding', 'hvm,', 'tyhvm,', 'd', 'jdtf', 'yhgfkj', 'gfkj', 'drst'}\n"
     ]
    }
   ],
   "source": [
    "print(var1.symmetric_difference(var2))"
   ]
  },
  {
   "cell_type": "code",
   "execution_count": 258,
   "id": "a7e4211c",
   "metadata": {},
   "outputs": [],
   "source": [
    "## table##"
   ]
  },
  {
   "cell_type": "code",
   "execution_count": 268,
   "id": "fc2770b0",
   "metadata": {},
   "outputs": [
    {
     "name": "stdout",
     "output_type": "stream",
     "text": [
      "20\n",
      "40\n",
      "60\n",
      "80\n",
      "100\n",
      "120\n",
      "140\n",
      "160\n",
      "180\n",
      "200\n"
     ]
    }
   ],
   "source": [
    "for counter in range(1,11):\n",
    "    print(20*counter)"
   ]
  },
  {
   "cell_type": "code",
   "execution_count": null,
   "id": "df3cce91",
   "metadata": {},
   "outputs": [],
   "source": [
    "#test\n"
   ]
  },
  {
   "cell_type": "code",
   "execution_count": 269,
   "id": "26cc94a9",
   "metadata": {},
   "outputs": [],
   "source": [
    "def greet():\n",
    "    print(\"just anoter greet\")"
   ]
  },
  {
   "cell_type": "code",
   "execution_count": 270,
   "id": "2e3ec746",
   "metadata": {},
   "outputs": [
    {
     "name": "stdout",
     "output_type": "stream",
     "text": [
      "just anoter greet\n"
     ]
    }
   ],
   "source": [
    "greet()"
   ]
  },
  {
   "cell_type": "code",
   "execution_count": null,
   "id": "3a227e01",
   "metadata": {},
   "outputs": [],
   "source": [
    "#transfer\n"
   ]
  },
  {
   "cell_type": "code",
   "execution_count": 271,
   "id": "b2d5d915",
   "metadata": {},
   "outputs": [],
   "source": [
    "if \"a\" in \"learn coding\":\n",
    "    pass"
   ]
  },
  {
   "cell_type": "code",
   "execution_count": 272,
   "id": "872abc2c",
   "metadata": {},
   "outputs": [],
   "source": [
    "pass"
   ]
  },
  {
   "cell_type": "code",
   "execution_count": 275,
   "id": "17ee48d9",
   "metadata": {},
   "outputs": [
    {
     "name": "stdout",
     "output_type": "stream",
     "text": [
      "1\n"
     ]
    }
   ],
   "source": [
    "for num in range(1,11):\n",
    "    if num % 2 == 0:\n",
    "        break\n",
    "    else:\n",
    "        print(num)    "
   ]
  },
  {
   "cell_type": "code",
   "execution_count": 276,
   "id": "caade076",
   "metadata": {},
   "outputs": [
    {
     "name": "stdout",
     "output_type": "stream",
     "text": [
      "10\n"
     ]
    }
   ],
   "source": [
    "var = 10\n",
    "print(var)"
   ]
  },
  {
   "cell_type": "code",
   "execution_count": 277,
   "id": "d318b6a8",
   "metadata": {},
   "outputs": [],
   "source": [
    "del(var)"
   ]
  },
  {
   "cell_type": "code",
   "execution_count": 279,
   "id": "d51e2643",
   "metadata": {},
   "outputs": [],
   "source": [
    "#print(var)\n",
    "#NameError: name 'var' is not defined"
   ]
  },
  {
   "cell_type": "code",
   "execution_count": 281,
   "id": "c5b03451",
   "metadata": {},
   "outputs": [
    {
     "name": "stdout",
     "output_type": "stream",
     "text": [
      "5\n"
     ]
    }
   ],
   "source": [
    "var = 'india'\n",
    "print(len(var))"
   ]
  },
  {
   "cell_type": "code",
   "execution_count": 282,
   "id": "289a06c3",
   "metadata": {},
   "outputs": [
    {
     "name": "stdout",
     "output_type": "stream",
     "text": [
      "<class 'tuple'>\n"
     ]
    }
   ],
   "source": [
    "##tuple.....\n",
    "var = (21,)\n",
    "print(type(var))"
   ]
  },
  {
   "cell_type": "code",
   "execution_count": null,
   "id": "b117533e",
   "metadata": {},
   "outputs": [],
   "source": [
    "# type casting in python..\n"
   ]
  },
  {
   "cell_type": "code",
   "execution_count": 284,
   "id": "c87e6c35",
   "metadata": {},
   "outputs": [],
   "source": [
    "var = '123'\n",
    "ivar = float(var)"
   ]
  },
  {
   "cell_type": "code",
   "execution_count": 285,
   "id": "4d83d496",
   "metadata": {},
   "outputs": [
    {
     "name": "stdout",
     "output_type": "stream",
     "text": [
      "<class 'float'>\n"
     ]
    }
   ],
   "source": [
    "print(type(ivar))"
   ]
  },
  {
   "cell_type": "code",
   "execution_count": null,
   "id": "8201d0dc",
   "metadata": {},
   "outputs": [],
   "source": [
    "## while loop....................\n"
   ]
  },
  {
   "cell_type": "code",
   "execution_count": 286,
   "id": "ee1f298c",
   "metadata": {},
   "outputs": [
    {
     "name": "stdout",
     "output_type": "stream",
     "text": [
      "enter password:learn coding\n",
      "unlocked!\n"
     ]
    }
   ],
   "source": [
    "password = 'learn coding'\n",
    "input_password = input('enter password:')\n",
    "\n",
    "while password != input_password:\n",
    "    input_password = input('enter password')\n",
    " \n",
    "else:\n",
    "    print('unlocked!')"
   ]
  },
  {
   "cell_type": "code",
   "execution_count": null,
   "id": "28532386",
   "metadata": {},
   "outputs": [],
   "source": []
  },
  {
   "cell_type": "code",
   "execution_count": null,
   "id": "1933f099",
   "metadata": {},
   "outputs": [],
   "source": [
    "##25 programs from yc"
   ]
  },
  {
   "cell_type": "code",
   "execution_count": 288,
   "id": "15107979",
   "metadata": {},
   "outputs": [
    {
     "name": "stdout",
     "output_type": "stream",
     "text": [
      "enter num1 value:10\n",
      "enter num2 value:20\n",
      "value of num1 before swapping: 10\n",
      "value of num2 before swapping: 20\n",
      "value of num1 after swapping: 20\n",
      "value of num2 after swapping: 10\n"
     ]
    }
   ],
   "source": [
    "num1=input('enter num1 value:')\n",
    "num2=input('enter num2 value:')\n",
    "\n",
    "print('value of num1 before swapping:', num1)\n",
    "print('value of num2 before swapping:', num2)\n",
    "\n",
    "temp=num1\n",
    "num1=num2\n",
    "num2=temp\n",
    "print('value of num1 after swapping:', num1)\n",
    "print('value of num2 after swapping:', num2)\n"
   ]
  },
  {
   "cell_type": "code",
   "execution_count": null,
   "id": "6316f62e",
   "metadata": {},
   "outputs": [],
   "source": []
  },
  {
   "cell_type": "code",
   "execution_count": 292,
   "id": "c49e23ea",
   "metadata": {},
   "outputs": [
    {
     "name": "stdout",
     "output_type": "stream",
     "text": [
      "number is prime\n"
     ]
    }
   ],
   "source": [
    "#natural number >1\n",
    "# which has only 2 factors\n",
    "\n",
    "# program for prime numbers\n",
    "num=5\n",
    "count=0\n",
    "if num>1:\n",
    "    for i in range(1, num+1):\n",
    "        if(num%i) ==0:\n",
    "             count=count+1\n",
    "    if count ==2:\n",
    "        print(\"number is prime\")\n",
    "    else:\n",
    "        print(\"number is not prime\")"
   ]
  },
  {
   "cell_type": "code",
   "execution_count": null,
   "id": "587f5c2a",
   "metadata": {},
   "outputs": [],
   "source": []
  },
  {
   "cell_type": "code",
   "execution_count": 294,
   "id": "2ef29f30",
   "metadata": {},
   "outputs": [
    {
     "name": "stdout",
     "output_type": "stream",
     "text": [
      "enter num number6\n",
      "number is not prime\n"
     ]
    }
   ],
   "source": [
    "int(input('enter num number'))\n",
    "\n",
    "if num>1:\n",
    "    for i in range(1, num+1):\n",
    "        if(num%i) ==0:\n",
    "             count=count+1\n",
    "    if count ==2:\n",
    "        print(\"number is prime\")\n",
    "    else:\n",
    "        print(\"number is not prime\")"
   ]
  },
  {
   "cell_type": "code",
   "execution_count": null,
   "id": "3cdc1f73",
   "metadata": {},
   "outputs": [],
   "source": []
  },
  {
   "cell_type": "code",
   "execution_count": 303,
   "id": "2e2c6bb5",
   "metadata": {},
   "outputs": [
    {
     "name": "stdout",
     "output_type": "stream",
     "text": [
      "the factorial 10 is 3628800\n"
     ]
    }
   ],
   "source": [
    "factorial=1\n",
    "num=10\n",
    "if num<0:\n",
    "    print('factorial doesnot exist for negative numbers')\n",
    "elif num==0:\n",
    "    print('factorial of 0 is 1')\n",
    "else:\n",
    "    for i in range(1, num+1):\n",
    "        factorial=factorial*i\n",
    "    print('the factorial',num, 'is', factorial)"
   ]
  },
  {
   "cell_type": "code",
   "execution_count": 312,
   "id": "1c848f71",
   "metadata": {},
   "outputs": [
    {
     "name": "stdout",
     "output_type": "stream",
     "text": [
      "fact of 5 is 120\n"
     ]
    }
   ],
   "source": [
    "def factorial(n):\n",
    "    if(n==1 or n==0):\n",
    "        return 1\n",
    "    else:\n",
    "        return n*factorial(n-1)\n",
    "num=5\n",
    "print('fact of', num, 'is', factorial(num))"
   ]
  },
  {
   "cell_type": "code",
   "execution_count": 316,
   "id": "29ae0c5d",
   "metadata": {},
   "outputs": [
    {
     "name": "stdout",
     "output_type": "stream",
     "text": [
      "fact of 5 is 120\n"
     ]
    }
   ],
   "source": [
    "def fact(n):\n",
    "    return 1 if(n==1 or n==0) else n*factorial(n-1)\n",
    "num=5\n",
    "print('fact of', num, 'is', factorial(num))"
   ]
  },
  {
   "cell_type": "code",
   "execution_count": 317,
   "id": "59c86954",
   "metadata": {},
   "outputs": [],
   "source": [
    "##output\n",
    "## 0 1 1 2 3 5 8 13 21 34\n"
   ]
  },
  {
   "cell_type": "code",
   "execution_count": 318,
   "id": "d6ed3203",
   "metadata": {},
   "outputs": [
    {
     "name": "stdout",
     "output_type": "stream",
     "text": [
      "0\n",
      "1\n",
      "1\n",
      "2\n",
      "3\n",
      "5\n",
      "8\n",
      "13\n",
      "21\n",
      "34\n"
     ]
    }
   ],
   "source": [
    "n1=0\n",
    "n2=1\n",
    "\n",
    "print(n1)\n",
    "print(n2)\n",
    "for i in range(2, 10):\n",
    "    sum=n1+n2\n",
    "    print(sum)\n",
    "    n1=n2\n",
    "    n2=sum\n",
    "        "
   ]
  },
  {
   "cell_type": "code",
   "execution_count": 64,
   "id": "15b847ff",
   "metadata": {},
   "outputs": [],
   "source": [
    "arr=[1,2,3,4,5]\n",
    "#arr.sum()#AttributeError: 'list' object has no attribute 'sum'\n"
   ]
  },
  {
   "cell_type": "code",
   "execution_count": 62,
   "id": "a83490e4",
   "metadata": {},
   "outputs": [
    {
     "name": "stdout",
     "output_type": "stream",
     "text": [
      "sum of arr 15\n"
     ]
    }
   ],
   "source": [
    "#3 Input arr[]= {1,2,3}\n",
    "#output=6\n",
    "sum=0\n",
    "arr=[1,2,3,4,5]\n",
    "for i in arr:\n",
    "    sum=sum+i\n",
    "print('sum of arr', sum)\n"
   ]
  },
  {
   "cell_type": "code",
   "execution_count": 2,
   "id": "4bbf3c50",
   "metadata": {},
   "outputs": [
    {
     "name": "stdout",
     "output_type": "stream",
     "text": [
      "15\n"
     ]
    }
   ],
   "source": [
    "arr=[1,2,3,4,5]\n",
    "print(sum(arr))"
   ]
  },
  {
   "cell_type": "code",
   "execution_count": 3,
   "id": "ef7bd773",
   "metadata": {},
   "outputs": [
    {
     "name": "stdout",
     "output_type": "stream",
     "text": [
      "25\n"
     ]
    }
   ],
   "source": [
    "print(sum(arr, 10))"
   ]
  },
  {
   "cell_type": "code",
   "execution_count": 4,
   "id": "facb50cd",
   "metadata": {},
   "outputs": [
    {
     "name": "stdout",
     "output_type": "stream",
     "text": [
      "35\n"
     ]
    }
   ],
   "source": [
    "print(sum(arr, 20))"
   ]
  },
  {
   "cell_type": "code",
   "execution_count": 9,
   "id": "65244a47",
   "metadata": {},
   "outputs": [
    {
     "name": "stdout",
     "output_type": "stream",
     "text": [
      "maximumof array 56\n"
     ]
    }
   ],
   "source": [
    "arr1=[30,20,30,56,21]\n",
    "\n",
    "max=arr[0]\n",
    "n=len(arr1)\n",
    "\n",
    "for i in range(1, n):\n",
    "    if arr1[i]>max:\n",
    "        max=arr1[i]\n",
    "print('maximum of array', max)"
   ]
  },
  {
   "cell_type": "code",
   "execution_count": 10,
   "id": "2387ffb7",
   "metadata": {},
   "outputs": [
    {
     "data": {
      "text/plain": [
       "5"
      ]
     },
     "execution_count": 10,
     "metadata": {},
     "output_type": "execute_result"
    }
   ],
   "source": [
    "len(arr1)"
   ]
  },
  {
   "cell_type": "code",
   "execution_count": 12,
   "id": "10090d6e",
   "metadata": {},
   "outputs": [
    {
     "name": "stdout",
     "output_type": "stream",
     "text": [
      "[1, 4, 6, 7, 8, 10, 12, 14, 15]\n",
      "length of list is: 9\n"
     ]
    }
   ],
   "source": [
    "mylist=[1,4,6,7,8,10,12,14,15]\n",
    "print(mylist)\n",
    "\n",
    "count=0\n",
    "\n",
    "for i in mylist:\n",
    "    count=count+1\n",
    "print('length of list is:', count)"
   ]
  },
  {
   "cell_type": "code",
   "execution_count": 13,
   "id": "bf9e9b04",
   "metadata": {},
   "outputs": [
    {
     "name": "stdout",
     "output_type": "stream",
     "text": [
      "[1, 4, 6, 7, 8, 10, 12, 14, 15]\n",
      "length of list is: 1\n",
      "length of list is: 2\n",
      "length of list is: 3\n",
      "length of list is: 4\n",
      "length of list is: 5\n",
      "length of list is: 6\n",
      "length of list is: 7\n",
      "length of list is: 8\n",
      "length of list is: 9\n"
     ]
    }
   ],
   "source": [
    "mylist=[1,4,6,7,8,10,12,14,15]\n",
    "print(mylist)\n",
    "\n",
    "count=0\n",
    "\n",
    "for i in mylist:\n",
    "    count=count+1\n",
    "    print('length of list is:', count)"
   ]
  },
  {
   "cell_type": "code",
   "execution_count": null,
   "id": "42c098b1",
   "metadata": {},
   "outputs": [],
   "source": [
    "# approach 2  using len()\n"
   ]
  },
  {
   "cell_type": "code",
   "execution_count": 14,
   "id": "a9685aa4",
   "metadata": {},
   "outputs": [
    {
     "name": "stdout",
     "output_type": "stream",
     "text": [
      "[1, 4, 6, 7, 8, 10, 12, 14, 15]\n",
      "length of list is: 9\n"
     ]
    }
   ],
   "source": [
    "mylist=[1,4,6,7,8,10,12,14,15]\n",
    "print(mylist)\n",
    "\n",
    "print('length of list is:', len(mylist))"
   ]
  },
  {
   "cell_type": "code",
   "execution_count": 15,
   "id": "3b3d8309",
   "metadata": {},
   "outputs": [
    {
     "data": {
      "text/plain": [
       "9"
      ]
     },
     "execution_count": 15,
     "metadata": {},
     "output_type": "execute_result"
    }
   ],
   "source": [
    "len(mylist)"
   ]
  },
  {
   "cell_type": "code",
   "execution_count": 16,
   "id": "c5e11a5b",
   "metadata": {},
   "outputs": [],
   "source": [
    "## Sap first and last elements in a list"
   ]
  },
  {
   "cell_type": "code",
   "execution_count": null,
   "id": "ecaf16b0",
   "metadata": {},
   "outputs": [],
   "source": [
    "# input:[12,35,9,56,24]\n",
    "# output:[24,35,9,56,12]"
   ]
  },
  {
   "cell_type": "code",
   "execution_count": 17,
   "id": "fd99e603",
   "metadata": {},
   "outputs": [
    {
     "data": {
      "text/plain": [
       "[1, 4, 6, 7, 8, 10, 12, 14, 15]"
      ]
     },
     "execution_count": 17,
     "metadata": {},
     "output_type": "execute_result"
    }
   ],
   "source": [
    "mylist"
   ]
  },
  {
   "cell_type": "code",
   "execution_count": 21,
   "id": "1e032035",
   "metadata": {},
   "outputs": [
    {
     "name": "stdout",
     "output_type": "stream",
     "text": [
      "[15, 4, 6, 7, 8, 10, 12, 14, 1]\n"
     ]
    }
   ],
   "source": [
    "#approach1:temparary veriable\n",
    "size=len(mylist)\n",
    "temp=mylist[0]\n",
    "mylist[0]=mylist[size-1]\n",
    "mylist[size-1]=temp\n",
    "print(mylist)"
   ]
  },
  {
   "cell_type": "code",
   "execution_count": 23,
   "id": "80eb3c29",
   "metadata": {},
   "outputs": [
    {
     "name": "stdout",
     "output_type": "stream",
     "text": [
      "[1, 4, 6, 7, 8, 10, 12, 14, 15]\n"
     ]
    }
   ],
   "source": [
    "#approach2\n",
    "mylist[0],mylist[-1]=mylist[-1],mylist[0]\n",
    "print(mylist)"
   ]
  },
  {
   "cell_type": "code",
   "execution_count": 25,
   "id": "438d99af",
   "metadata": {},
   "outputs": [
    {
     "name": "stdout",
     "output_type": "stream",
     "text": [
      "[15, 4, 6, 7, 8, 10, 12, 14, 1]\n"
     ]
    }
   ],
   "source": [
    "#  approach4 : operend\n",
    "start,*middle, end=mylist\n",
    "mylist=[end, *middle, start]\n",
    "print(mylist)"
   ]
  },
  {
   "cell_type": "code",
   "execution_count": 26,
   "id": "e5a21629",
   "metadata": {},
   "outputs": [
    {
     "name": "stdout",
     "output_type": "stream",
     "text": [
      "list after swapping: [1, 4, 6, 7, 8, 10, 12, 14, 15]\n"
     ]
    }
   ],
   "source": [
    "#approach 5 using pop()\n",
    "first=mylist.pop(0)#list starts from index 0\n",
    "last=mylist.pop(-1)\n",
    "mylist.insert(0,last)\n",
    "mylist.append(first)\n",
    "print('list after swapping:', mylist)"
   ]
  },
  {
   "cell_type": "code",
   "execution_count": 27,
   "id": "bfd52128",
   "metadata": {},
   "outputs": [],
   "source": [
    "## swap any two elements in a list\n",
    "# input: list=[23,65,19,90],pos1=1, pos2=3\n",
    "# output:[19,65,23,90]"
   ]
  },
  {
   "cell_type": "code",
   "execution_count": 28,
   "id": "af5a6c3c",
   "metadata": {},
   "outputs": [
    {
     "name": "stdout",
     "output_type": "stream",
     "text": [
      "[1, 4, 6, 7, 8, 10, 12, 14, 15]\n",
      "[1, 7, 6, 4, 8, 10, 12, 14, 15]\n"
     ]
    }
   ],
   "source": [
    "#approach1: simple_swap\n",
    "print(mylist)\n",
    "pos1,pos2=1,3\n",
    "mylist[pos1],mylist[pos2]=mylist[pos2],mylist[pos1]\n",
    "print(mylist)"
   ]
  },
  {
   "cell_type": "code",
   "execution_count": 29,
   "id": "2332e451",
   "metadata": {},
   "outputs": [
    {
     "name": "stdout",
     "output_type": "stream",
     "text": [
      "[1, 4, 6, 7, 8, 10, 12, 14, 15]\n"
     ]
    }
   ],
   "source": [
    "# approach 2 using inbuilt list pop()\n",
    "pos1, pos2=1,3\n",
    "\n",
    "f=mylist.pop(pos1)\n",
    "s=mylist.pop(pos2-1)\n",
    "mylist.insert(pos1,s)\n",
    "mylist.insert(pos2,f)\n",
    "print(mylist)"
   ]
  },
  {
   "cell_type": "code",
   "execution_count": 30,
   "id": "d897c428",
   "metadata": {},
   "outputs": [
    {
     "name": "stdout",
     "output_type": "stream",
     "text": [
      "[1, 4, 6, 7, 8, 10, 12, 14, 15]\n"
     ]
    }
   ],
   "source": [
    "#approach;using touple\n",
    "get=(mylist[pos1], mylist[pos2])\n",
    "print(mylist)"
   ]
  },
  {
   "cell_type": "code",
   "execution_count": null,
   "id": "fdfd40cb",
   "metadata": {},
   "outputs": [],
   "source": [
    "# Remove Nth occurance of the given world\n",
    "# inpute= ['geeks','for','geeks']\n",
    "#output=['geeks','for']"
   ]
  },
  {
   "cell_type": "code",
   "execution_count": 36,
   "id": "733269f9",
   "metadata": {},
   "outputs": [],
   "source": [
    "l=['geeks','for','geeks']\n",
    "word='geeks'\n",
    "n=2\n",
    "\n",
    "count=0\n",
    "\n",
    "for i in range(0,len(l)):\n",
    "    if(l[i]==word):\n",
    "        count=count+1\n",
    "    if(count==n):\n",
    "        del l[i]"
   ]
  },
  {
   "cell_type": "code",
   "execution_count": 37,
   "id": "8c840304",
   "metadata": {},
   "outputs": [
    {
     "data": {
      "text/plain": [
       "['geeks', 'for']"
      ]
     },
     "execution_count": 37,
     "metadata": {},
     "output_type": "execute_result"
    }
   ],
   "source": [
    "l"
   ]
  },
  {
   "cell_type": "code",
   "execution_count": null,
   "id": "9407233c",
   "metadata": {},
   "outputs": [],
   "source": [
    "##Search an element in list\n",
    "#list=[2,4,5,6,7]\n",
    "#ele=4-element found\n",
    "#ele=9-element not found"
   ]
  },
  {
   "cell_type": "code",
   "execution_count": 39,
   "id": "76317a46",
   "metadata": {},
   "outputs": [
    {
     "name": "stdout",
     "output_type": "stream",
     "text": [
      "element found\n"
     ]
    }
   ],
   "source": [
    "# Approach1:using loop\n",
    "list=[2,4,5,6,7]\n",
    "e=4\n",
    "flag=0\n",
    "\n",
    "for i in list:\n",
    "    if(i==e):\n",
    "        print('element found')\n",
    "        flag=1\n",
    "        break\n",
    "if(flag==0):\n",
    "    print(\"element not found\")\n"
   ]
  },
  {
   "cell_type": "code",
   "execution_count": 40,
   "id": "6ba45707",
   "metadata": {},
   "outputs": [],
   "source": [
    "# how to Clear a list\n",
    "#input:list=[2,4,5,6,7]\n",
    "#output:list=[]\n",
    "#approch:clear(), approch2:initialize list wit no value, 3:*=0, 4:del()"
   ]
  },
  {
   "cell_type": "code",
   "execution_count": 41,
   "id": "93a34327",
   "metadata": {},
   "outputs": [
    {
     "name": "stdout",
     "output_type": "stream",
     "text": [
      "list before cler: [2, 4, 5, 6, 7]\n",
      "list after clear []\n"
     ]
    }
   ],
   "source": [
    "#1:usig clear()\n",
    "\n",
    "list=[2,4,5,6,7]\n",
    "print(\"list before cler:\", list)\n",
    "list.clear()\n",
    "print('list after clear',list)"
   ]
  },
  {
   "cell_type": "code",
   "execution_count": null,
   "id": "f60d230f",
   "metadata": {},
   "outputs": [],
   "source": [
    "# 2:initialize the list with no values"
   ]
  },
  {
   "cell_type": "code",
   "execution_count": 42,
   "id": "f19e3657",
   "metadata": {},
   "outputs": [
    {
     "name": "stdout",
     "output_type": "stream",
     "text": [
      "list before cler: [2, 4, 5, 6, 7]\n",
      "list after clear []\n"
     ]
    }
   ],
   "source": [
    "list=[2,4,5,6,7]\n",
    "print(\"list before clear:\", list)\n",
    "list=[]\n",
    "print('list after clear',list)"
   ]
  },
  {
   "cell_type": "code",
   "execution_count": null,
   "id": "5f6da8b7",
   "metadata": {},
   "outputs": [],
   "source": [
    "#3: using *=0 this ethodreoves alll the elements in list"
   ]
  },
  {
   "cell_type": "code",
   "execution_count": 43,
   "id": "bc27844c",
   "metadata": {},
   "outputs": [
    {
     "name": "stdout",
     "output_type": "stream",
     "text": [
      "list before cler: [2, 4, 5, 6, 7]\n",
      "list after clear []\n"
     ]
    }
   ],
   "source": [
    "list=[2,4,5,6,7]\n",
    "print(\"list before cler:\", list)\n",
    "list *=0\n",
    "print('list after clear',list)"
   ]
  },
  {
   "cell_type": "code",
   "execution_count": 46,
   "id": "c5e161b0",
   "metadata": {},
   "outputs": [
    {
     "name": "stdout",
     "output_type": "stream",
     "text": [
      "list before cler: [2, 4, 5, 6, 7]\n",
      "list after clear []\n"
     ]
    }
   ],
   "source": [
    "#using del()\n",
    "list=[2,4,5,6,7]\n",
    "print(\"list before cler:\", list)\n",
    "del list[0:5]\n",
    "print('list after clear',list)"
   ]
  },
  {
   "cell_type": "code",
   "execution_count": 47,
   "id": "c3dad837",
   "metadata": {},
   "outputs": [
    {
     "name": "stdout",
     "output_type": "stream",
     "text": [
      "list before cler: [2, 4, 5, 6, 7]\n",
      "list after clear []\n"
     ]
    }
   ],
   "source": [
    "list=[2,4,5,6,7]\n",
    "print(\"list before cler:\", list)\n",
    "del list[:]\n",
    "print('list after clear',list)"
   ]
  },
  {
   "cell_type": "code",
   "execution_count": null,
   "id": "fbf10055",
   "metadata": {},
   "outputs": [],
   "source": [
    "# how to reverse alist"
   ]
  },
  {
   "cell_type": "code",
   "execution_count": 48,
   "id": "766c93ca",
   "metadata": {},
   "outputs": [
    {
     "name": "stdout",
     "output_type": "stream",
     "text": [
      "list before reverse: [2, 4, 5, 6, 7]\n",
      "list after reverse [7, 6, 5, 4, 2]\n"
     ]
    }
   ],
   "source": [
    "list=[2,4,5,6,7]\n",
    "print(\"list before reverse:\", list)\n",
    "list.reverse()\n",
    "print('list after reverse',list)"
   ]
  },
  {
   "cell_type": "code",
   "execution_count": 49,
   "id": "815327ce",
   "metadata": {},
   "outputs": [
    {
     "name": "stdout",
     "output_type": "stream",
     "text": [
      "list before reverse: [2, 4, 5, 6, 7]\n",
      "list after reverse [7, 6, 5, 4, 2]\n"
     ]
    }
   ],
   "source": [
    "list=[2,4,5,6,7]\n",
    "print(\"list before reverse:\", list)\n",
    "list=list[::-1]\n",
    "print('list after reverse',list)"
   ]
  },
  {
   "cell_type": "code",
   "execution_count": 51,
   "id": "ce2ae65a",
   "metadata": {},
   "outputs": [
    {
     "name": "stdout",
     "output_type": "stream",
     "text": [
      "list before reverse: [2, 4, 5, 6, 7]\n",
      "list after reverse [4, 2]\n"
     ]
    }
   ],
   "source": [
    "list=[2,4,5,6,7]\n",
    "print(\"list before reverse:\", list)\n",
    "list=list[1::-1]\n",
    "print('list after reverse',list)"
   ]
  },
  {
   "cell_type": "code",
   "execution_count": null,
   "id": "257764bd",
   "metadata": {},
   "outputs": [],
   "source": [
    "## how to clone or copy a list\n",
    "#input=list\n",
    "#output=list copy\n",
    "#using slicing method, 2.extend(),3.list(), 4.copy(), 5. using list comparison"
   ]
  },
  {
   "cell_type": "code",
   "execution_count": 52,
   "id": "af0cb738",
   "metadata": {},
   "outputs": [
    {
     "name": "stdout",
     "output_type": "stream",
     "text": [
      "[2, 4, 5, 6, 7]\n"
     ]
    }
   ],
   "source": [
    "list=[2,4,5,6,7]\n",
    "listcopy=list[:]\n",
    "print(listcopy)"
   ]
  },
  {
   "cell_type": "code",
   "execution_count": 53,
   "id": "718d4a67",
   "metadata": {},
   "outputs": [
    {
     "name": "stdout",
     "output_type": "stream",
     "text": [
      "[2, 4, 5, 6, 7]\n"
     ]
    }
   ],
   "source": [
    "# extend()\n",
    "list=[2,4,5,6,7]\n",
    "copylist=[]\n",
    "copylist.extend(copylist)\n",
    "print(listcopy)\n"
   ]
  },
  {
   "cell_type": "code",
   "execution_count": 54,
   "id": "715d92c5",
   "metadata": {},
   "outputs": [
    {
     "name": "stdout",
     "output_type": "stream",
     "text": [
      "[2, 4, 5, 6, 7]\n"
     ]
    }
   ],
   "source": [
    "#copy()\n",
    "list=[2,4,5,6,7]\n",
    "copylist=list.copy()\n",
    "print(listcopy)\n"
   ]
  },
  {
   "cell_type": "code",
   "execution_count": 58,
   "id": "0532210b",
   "metadata": {},
   "outputs": [
    {
     "name": "stdout",
     "output_type": "stream",
     "text": [
      "[2, 4, 5, 6, 7]\n"
     ]
    }
   ],
   "source": [
    "# using comparison\n",
    "list=[2,4,5,6,7]\n",
    "copylist=[i for i in list]\n",
    "print(listcopy)\n"
   ]
  },
  {
   "cell_type": "code",
   "execution_count": null,
   "id": "c02d33c8",
   "metadata": {},
   "outputs": [],
   "source": [
    "# count occurances of an element in a list\n"
   ]
  },
  {
   "cell_type": "code",
   "execution_count": 1,
   "id": "2f5e5c44",
   "metadata": {},
   "outputs": [],
   "source": [
    "# approach 1.."
   ]
  },
  {
   "cell_type": "code",
   "execution_count": 7,
   "id": "49bea54c",
   "metadata": {},
   "outputs": [
    {
     "name": "stdout",
     "output_type": "stream",
     "text": [
      "15 occured 2 times\n"
     ]
    }
   ],
   "source": [
    "ml=[15,23,32,5,15,7,4,23,7,4,1]\n",
    "x=15\n",
    "count=0\n",
    "for ele in ml:\n",
    "    if(ele==x):\n",
    "        count=count+1\n",
    "print(\"{} occured {} times\".format(x,count))"
   ]
  },
  {
   "cell_type": "code",
   "execution_count": null,
   "id": "a4802641",
   "metadata": {},
   "outputs": [],
   "source": [
    "# using count()"
   ]
  },
  {
   "cell_type": "code",
   "execution_count": 9,
   "id": "aca6f8b1",
   "metadata": {},
   "outputs": [
    {
     "name": "stdout",
     "output_type": "stream",
     "text": [
      "x occured 2 times\n"
     ]
    }
   ],
   "source": [
    "ml=[15,23,32,5,15,7,4,23,7,4,1]\n",
    "x=15\n",
    "print('x occured', ml.count(x),'times')"
   ]
  },
  {
   "cell_type": "code",
   "execution_count": 12,
   "id": "3574986b",
   "metadata": {},
   "outputs": [
    {
     "name": "stdout",
     "output_type": "stream",
     "text": [
      "15 occured 2 times\n"
     ]
    }
   ],
   "source": [
    "print(\"{} occured {} times\".format(x,ml.count(x)))"
   ]
  },
  {
   "cell_type": "code",
   "execution_count": 13,
   "id": "d377f956",
   "metadata": {},
   "outputs": [],
   "source": [
    "#find sum ofelements in list"
   ]
  },
  {
   "cell_type": "code",
   "execution_count": 14,
   "id": "6a2527b2",
   "metadata": {},
   "outputs": [],
   "source": [
    "#1.using for loop with range\n"
   ]
  },
  {
   "cell_type": "code",
   "execution_count": 15,
   "id": "5bc3c6b9",
   "metadata": {},
   "outputs": [
    {
     "data": {
      "text/plain": [
       "[15, 23, 32, 5, 15, 7, 4, 23, 7, 4, 1]"
      ]
     },
     "execution_count": 15,
     "metadata": {},
     "output_type": "execute_result"
    }
   ],
   "source": [
    "ml\n",
    "\n"
   ]
  },
  {
   "cell_type": "code",
   "execution_count": 3,
   "id": "c6dec2af",
   "metadata": {},
   "outputs": [
    {
     "name": "stdout",
     "output_type": "stream",
     "text": [
      "sum of list is 136\n"
     ]
    }
   ],
   "source": [
    "\n",
    "ml=[15, 23, 32, 5, 15, 7, 4, 23, 7, 4, 1]\n",
    "total=0\n",
    "for i in range(0, len(ml)):\n",
    "    total=total+ml[i]\n",
    "print('sum of list is', total)\n",
    "   "
   ]
  },
  {
   "cell_type": "code",
   "execution_count": 15,
   "id": "1dfa95be",
   "metadata": {},
   "outputs": [
    {
     "name": "stdout",
     "output_type": "stream",
     "text": [
      "sum of list is 136\n"
     ]
    }
   ],
   "source": [
    "ml=[15, 23, 32, 5, 15, 7, 4, 23, 7, 4, 1]\n",
    "total=0\n",
    "for i in ml:\n",
    "    total=total+i\n",
    "print('sum of list is', total)\n",
    "   "
   ]
  },
  {
   "cell_type": "code",
   "execution_count": 4,
   "id": "30cfbb32",
   "metadata": {},
   "outputs": [
    {
     "name": "stdout",
     "output_type": "stream",
     "text": [
      "sum of list : 136\n"
     ]
    }
   ],
   "source": [
    "#2.. sum()\n",
    "print(\"sum of list :\",sum(ml))"
   ]
  },
  {
   "cell_type": "code",
   "execution_count": 5,
   "id": "4fc33aa0",
   "metadata": {},
   "outputs": [],
   "source": [
    "## multiply all the numbers in list"
   ]
  },
  {
   "cell_type": "code",
   "execution_count": 11,
   "id": "482d1dd3",
   "metadata": {},
   "outputs": [
    {
     "name": "stdout",
     "output_type": "stream",
     "text": [
      "multiplication of all numbers 14930496000\n"
     ]
    }
   ],
   "source": [
    "#1..traversal\n",
    "mul=1\n",
    "ml=[15, 23, 32, 5, 15, 7, 4, 23, 7, 4, 1]\n",
    "for i in range(0, len(ml)):\n",
    "    mul=mul*ml[i]\n",
    "print('multiplication of all numbers', mul)\n",
    "    "
   ]
  },
  {
   "cell_type": "code",
   "execution_count": 13,
   "id": "a70b455c",
   "metadata": {},
   "outputs": [
    {
     "name": "stdout",
     "output_type": "stream",
     "text": [
      "multiplicaton of all ele 14930496000\n"
     ]
    }
   ],
   "source": [
    "ml=[15, 23, 32, 5, 15, 7, 4, 23, 7, 4, 1]\n",
    "result=1\n",
    "for x in ml:\n",
    "    result=result*x\n",
    "print('multiplicaton of all ele', result)\n",
    "   "
   ]
  },
  {
   "cell_type": "code",
   "execution_count": 16,
   "id": "c3e1cbe2",
   "metadata": {},
   "outputs": [
    {
     "data": {
      "text/plain": [
       "14930496000"
      ]
     },
     "execution_count": 16,
     "metadata": {},
     "output_type": "execute_result"
    }
   ],
   "source": [
    "#prod()\n",
    "import numpy as np\n",
    "np.prod(ml)"
   ]
  },
  {
   "cell_type": "code",
   "execution_count": 17,
   "id": "971c1517",
   "metadata": {},
   "outputs": [],
   "source": [
    "# find smallest and largest numbers in the list"
   ]
  },
  {
   "cell_type": "code",
   "execution_count": 19,
   "id": "30c75d4d",
   "metadata": {},
   "outputs": [
    {
     "name": "stdout",
     "output_type": "stream",
     "text": [
      "smallest 1 largest 32\n"
     ]
    }
   ],
   "source": [
    "ml.sort()\n",
    "print('smallest',ml[0], 'largest', ml[-1])"
   ]
  },
  {
   "cell_type": "code",
   "execution_count": 20,
   "id": "2674cae7",
   "metadata": {},
   "outputs": [
    {
     "name": "stdout",
     "output_type": "stream",
     "text": [
      "smallest 1 largest 32\n"
     ]
    }
   ],
   "source": [
    "#  using min(), max()\n",
    "print('smallest', min(ml), 'largest', max(ml))"
   ]
  },
  {
   "cell_type": "code",
   "execution_count": 21,
   "id": "dbd87041",
   "metadata": {},
   "outputs": [
    {
     "data": {
      "text/plain": [
       "23"
      ]
     },
     "execution_count": 21,
     "metadata": {},
     "output_type": "execute_result"
    }
   ],
   "source": [
    "## 2nd largest in list, after sorting\n",
    "ml[-2]"
   ]
  },
  {
   "cell_type": "code",
   "execution_count": 23,
   "id": "bf121bc6",
   "metadata": {},
   "outputs": [
    {
     "data": {
      "text/plain": [
       "23"
      ]
     },
     "execution_count": 23,
     "metadata": {},
     "output_type": "execute_result"
    }
   ],
   "source": [
    "ml.sort()\n",
    "ml.remove(max(ml))\n",
    "max(ml)"
   ]
  },
  {
   "cell_type": "code",
   "execution_count": 27,
   "id": "5a1a5e4e",
   "metadata": {},
   "outputs": [
    {
     "name": "stdout",
     "output_type": "stream",
     "text": [
      "enter string:madam\n",
      "madam\n",
      "madam\n",
      "madam\n",
      "palindrome\n"
     ]
    }
   ],
   "source": [
    "## palindrome string\n",
    "# madam=palindrome, welcome=not palindrome\n",
    "\n",
    "s=input('enter string:')\n",
    "print(s[:])\n",
    "print(s[::])\n",
    "print(s[::-1])\n",
    "if (s[::-1]==s):\n",
    "    print(\"palindrome\")\n",
    "else:\n",
    "\n",
    "    print(\" s is not palindrome\")"
   ]
  },
  {
   "cell_type": "code",
   "execution_count": 31,
   "id": "5d710d10",
   "metadata": {},
   "outputs": [
    {
     "name": "stdout",
     "output_type": "stream",
     "text": [
      " s is not palindrome\n"
     ]
    }
   ],
   "source": [
    "s=\"welcome\"\n",
    "revstr=s[::-1]\n",
    "if (revstr==s):\n",
    "    print(\"palindrome\")\n",
    "else:\n",
    "    print(\" s is not palindrome\")"
   ]
  },
  {
   "cell_type": "code",
   "execution_count": 32,
   "id": "29b48cf0",
   "metadata": {},
   "outputs": [],
   "source": [
    "#reverse words in a string\n",
    "#input: str=\"hello sir welcome\"\n",
    "#output: welcome sir hello\n"
   ]
  },
  {
   "cell_type": "code",
   "execution_count": 34,
   "id": "4af2263d",
   "metadata": {},
   "outputs": [
    {
     "name": "stdout",
     "output_type": "stream",
     "text": [
      "['hello', 'sir', 'welcome']\n",
      "['welcome', 'sir', 'hello']\n"
     ]
    }
   ],
   "source": [
    "str=\"hello sir welcome\"\n",
    "\n",
    "words=str.split(\" \")\n",
    "print(words)\n",
    "words=words[-1::-1]\n",
    "print(words)"
   ]
  },
  {
   "cell_type": "code",
   "execution_count": 35,
   "id": "eba9faea",
   "metadata": {},
   "outputs": [
    {
     "name": "stdout",
     "output_type": "stream",
     "text": [
      "['hello', 'sir', 'welcome']\n",
      "['welcome', 'sir', 'hello']\n"
     ]
    }
   ],
   "source": [
    "str=\"hello sir welcome\"\n",
    "\n",
    "words=str.split(\" \")\n",
    "print(words)\n",
    "words=words[::-1]\n",
    "print(words)"
   ]
  },
  {
   "cell_type": "code",
   "execution_count": 36,
   "id": "67af0ea5",
   "metadata": {},
   "outputs": [],
   "source": [
    "# Substring presence in given string\n",
    "# sub_str=welcome"
   ]
  },
  {
   "cell_type": "code",
   "execution_count": 38,
   "id": "bb0c7389",
   "metadata": {},
   "outputs": [
    {
     "name": "stdout",
     "output_type": "stream",
     "text": [
      "10\n"
     ]
    }
   ],
   "source": [
    "sub_str=\"welcome\"\n",
    "print(str.find(sub_str))"
   ]
  },
  {
   "cell_type": "code",
   "execution_count": 46,
   "id": "f804c550",
   "metadata": {},
   "outputs": [
    {
     "name": "stdout",
     "output_type": "stream",
     "text": [
      "10\n",
      "found\n"
     ]
    }
   ],
   "source": [
    "sub_str=\"welcome\"\n",
    "print(str.find(sub_str))\n",
    "if (str.find(sub_str)==10):\n",
    "    print('found')\n",
    "else:\n",
    "    print('not found')"
   ]
  },
  {
   "cell_type": "code",
   "execution_count": 45,
   "id": "d533d2aa",
   "metadata": {},
   "outputs": [
    {
     "data": {
      "text/plain": [
       "10"
      ]
     },
     "execution_count": 45,
     "metadata": {},
     "output_type": "execute_result"
    }
   ],
   "source": [
    "str.find(sub_str)"
   ]
  },
  {
   "cell_type": "code",
   "execution_count": null,
   "id": "4103adcf",
   "metadata": {},
   "outputs": [],
   "source": [
    "## find the lenth of the string\n",
    "#using for loop\n",
    "#using while loop and slicing\n",
    "#using len() inbuilt function\n",
    "#using join and count()"
   ]
  },
  {
   "cell_type": "code",
   "execution_count": 47,
   "id": "0b59212b",
   "metadata": {},
   "outputs": [
    {
     "name": "stdout",
     "output_type": "stream",
     "text": [
      "17\n"
     ]
    }
   ],
   "source": [
    "# using for loop\n",
    "count=0\n",
    "for i in str:\n",
    "    count=count+1\n",
    "print(count)"
   ]
  },
  {
   "cell_type": "code",
   "execution_count": 50,
   "id": "f80e3aa4",
   "metadata": {},
   "outputs": [
    {
     "name": "stdout",
     "output_type": "stream",
     "text": [
      "hxexlxlxox xsxixrx xwxexlxcxoxmxe\n"
     ]
    }
   ],
   "source": [
    "# using join and count\n",
    "random='x'\n",
    "print((random).join(str))\n"
   ]
  },
  {
   "cell_type": "code",
   "execution_count": 51,
   "id": "19ee2973",
   "metadata": {},
   "outputs": [
    {
     "name": "stdout",
     "output_type": "stream",
     "text": [
      "16\n"
     ]
    }
   ],
   "source": [
    "print((random).join(str).count(random))"
   ]
  },
  {
   "cell_type": "code",
   "execution_count": 56,
   "id": "d99f8a2b",
   "metadata": {},
   "outputs": [],
   "source": [
    "# Check string contains special chakras"
   ]
  },
  {
   "cell_type": "code",
   "execution_count": 59,
   "id": "b4a9c45d",
   "metadata": {},
   "outputs": [
    {
     "name": "stdout",
     "output_type": "stream",
     "text": [
      " No special character\n"
     ]
    }
   ],
   "source": [
    "import re\n",
    "regex=re.compile('@#$%^&*(){}[|\\<>]')\n",
    "if(regex.search(str)==None):\n",
    "    print(\" No special character\")\n",
    "else:\n",
    "    print(\"string contain special characters\")"
   ]
  },
  {
   "cell_type": "code",
   "execution_count": null,
   "id": "ea187865",
   "metadata": {},
   "outputs": [],
   "source": []
  },
  {
   "cell_type": "code",
   "execution_count": null,
   "id": "ea976ecd",
   "metadata": {},
   "outputs": [],
   "source": []
  },
  {
   "cell_type": "code",
   "execution_count": null,
   "id": "6f3d4dfe",
   "metadata": {},
   "outputs": [],
   "source": []
  },
  {
   "cell_type": "code",
   "execution_count": null,
   "id": "0d056e1a",
   "metadata": {},
   "outputs": [],
   "source": []
  },
  {
   "cell_type": "code",
   "execution_count": null,
   "id": "eee479ef",
   "metadata": {},
   "outputs": [],
   "source": []
  },
  {
   "cell_type": "code",
   "execution_count": null,
   "id": "7cb4c34f",
   "metadata": {},
   "outputs": [],
   "source": []
  },
  {
   "cell_type": "code",
   "execution_count": null,
   "id": "b57a5ced",
   "metadata": {},
   "outputs": [],
   "source": []
  },
  {
   "cell_type": "code",
   "execution_count": null,
   "id": "65e6e825",
   "metadata": {},
   "outputs": [],
   "source": []
  },
  {
   "cell_type": "code",
   "execution_count": null,
   "id": "f5fa9e5a",
   "metadata": {},
   "outputs": [],
   "source": []
  },
  {
   "cell_type": "code",
   "execution_count": null,
   "id": "e69ec749",
   "metadata": {},
   "outputs": [],
   "source": []
  },
  {
   "cell_type": "code",
   "execution_count": null,
   "id": "31816e4c",
   "metadata": {},
   "outputs": [],
   "source": []
  },
  {
   "cell_type": "code",
   "execution_count": null,
   "id": "f96d4c92",
   "metadata": {},
   "outputs": [],
   "source": []
  },
  {
   "cell_type": "code",
   "execution_count": null,
   "id": "3b1a013c",
   "metadata": {},
   "outputs": [],
   "source": []
  },
  {
   "cell_type": "code",
   "execution_count": null,
   "id": "1ea3a85a",
   "metadata": {},
   "outputs": [],
   "source": [
    "total=0\n",
    "\n",
    "for i in range(0,len(ml)):\n",
    "    total=total+ml[i]\n",
    "    \n",
    "    "
   ]
  },
  {
   "cell_type": "code",
   "execution_count": null,
   "id": "b72695ae",
   "metadata": {},
   "outputs": [],
   "source": []
  },
  {
   "cell_type": "code",
   "execution_count": null,
   "id": "976420a5",
   "metadata": {},
   "outputs": [],
   "source": []
  },
  {
   "cell_type": "code",
   "execution_count": null,
   "id": "f2831a75",
   "metadata": {},
   "outputs": [],
   "source": []
  },
  {
   "cell_type": "code",
   "execution_count": null,
   "id": "f744fc58",
   "metadata": {},
   "outputs": [],
   "source": []
  },
  {
   "cell_type": "code",
   "execution_count": null,
   "id": "8c7f677b",
   "metadata": {},
   "outputs": [],
   "source": []
  },
  {
   "cell_type": "code",
   "execution_count": 32,
   "id": "ea07ab33",
   "metadata": {},
   "outputs": [
    {
     "data": {
      "text/plain": [
       "61"
      ]
     },
     "execution_count": 32,
     "metadata": {},
     "output_type": "execute_result"
    }
   ],
   "source": [
    "def add(a,b):\n",
    "    return a+b\n",
    "\n",
    "val=add(27, 34)\n",
    "val\n"
   ]
  },
  {
   "cell_type": "code",
   "execution_count": null,
   "id": "691763ec",
   "metadata": {},
   "outputs": [],
   "source": []
  },
  {
   "cell_type": "code",
   "execution_count": null,
   "id": "82bc3ba4",
   "metadata": {},
   "outputs": [],
   "source": [
    "#turtle program\n"
   ]
  },
  {
   "cell_type": "code",
   "execution_count": 31,
   "id": "148cabd6",
   "metadata": {},
   "outputs": [
    {
     "ename": "ModuleNotFoundError",
     "evalue": "No module named 'tkinter'",
     "output_type": "error",
     "traceback": [
      "\u001b[0;31m---------------------------------------------------------------------------\u001b[0m",
      "\u001b[0;31mModuleNotFoundError\u001b[0m                       Traceback (most recent call last)",
      "Cell \u001b[0;32mIn[31], line 1\u001b[0m\n\u001b[0;32m----> 1\u001b[0m \u001b[38;5;28;01mimport\u001b[39;00m \u001b[38;5;21;01mturtle\u001b[39;00m \u001b[38;5;28;01mas\u001b[39;00m \u001b[38;5;21;01mt\u001b[39;00m\n\u001b[1;32m      2\u001b[0m \u001b[38;5;28;01mimport\u001b[39;00m \u001b[38;5;21;01mtime\u001b[39;00m\n\u001b[1;32m      4\u001b[0m t\u001b[38;5;241m.\u001b[39mcolor(\u001b[38;5;124m\"\u001b[39m\u001b[38;5;124mblue\u001b[39m\u001b[38;5;124m\"\u001b[39m)\n",
      "File \u001b[0;32m/usr/lib/python3.10/turtle.py:107\u001b[0m\n\u001b[1;32m    103\u001b[0m _ver \u001b[38;5;241m=\u001b[39m \u001b[38;5;124m\"\u001b[39m\u001b[38;5;124mturtle 1.1b- - for Python 3.1   -  4. 5. 2009\u001b[39m\u001b[38;5;124m\"\u001b[39m\n\u001b[1;32m    105\u001b[0m \u001b[38;5;66;03m# print(_ver)\u001b[39;00m\n\u001b[0;32m--> 107\u001b[0m \u001b[38;5;28;01mimport\u001b[39;00m \u001b[38;5;21;01mtkinter\u001b[39;00m \u001b[38;5;28;01mas\u001b[39;00m \u001b[38;5;21;01mTK\u001b[39;00m\n\u001b[1;32m    108\u001b[0m \u001b[38;5;28;01mimport\u001b[39;00m \u001b[38;5;21;01mtypes\u001b[39;00m\n\u001b[1;32m    109\u001b[0m \u001b[38;5;28;01mimport\u001b[39;00m \u001b[38;5;21;01mmath\u001b[39;00m\n",
      "\u001b[0;31mModuleNotFoundError\u001b[0m: No module named 'tkinter'"
     ]
    }
   ],
   "source": [
    "import turtle as t\n",
    "import time\n",
    "\n",
    "t.color(\"blue\")\n",
    "t.begin_fill()\n",
    "\n",
    "counter=0\n",
    "\n",
    "while counter<4:\n",
    "    t.forward(100)\n",
    "    t.left(90)\n",
    "    \n",
    "t.end_fill()\n",
    "time.sleep(5)\n",
    "    "
   ]
  },
  {
   "cell_type": "code",
   "execution_count": null,
   "id": "eedf6804",
   "metadata": {},
   "outputs": [],
   "source": [
    "## Range function"
   ]
  },
  {
   "cell_type": "code",
   "execution_count": 1,
   "id": "c7f3ddf0",
   "metadata": {},
   "outputs": [
    {
     "name": "stdout",
     "output_type": "stream",
     "text": [
      "0\n",
      "1\n",
      "2\n",
      "3\n",
      "4\n"
     ]
    }
   ],
   "source": [
    "for i in range(5):\n",
    "    print(i)"
   ]
  },
  {
   "cell_type": "code",
   "execution_count": 7,
   "id": "690643a3",
   "metadata": {},
   "outputs": [
    {
     "name": "stdout",
     "output_type": "stream",
     "text": [
      "5\n",
      "6\n",
      "7\n",
      "8\n",
      "9\n"
     ]
    }
   ],
   "source": [
    "for i in range(5, 10, 1 ): # Start, stop, diffrence\n",
    "    print(i)"
   ]
  },
  {
   "cell_type": "code",
   "execution_count": 8,
   "id": "a945d873",
   "metadata": {},
   "outputs": [
    {
     "name": "stdout",
     "output_type": "stream",
     "text": [
      "1\n"
     ]
    }
   ],
   "source": [
    "for i in range(1, 2,3):\n",
    "    print(i)"
   ]
  },
  {
   "cell_type": "code",
   "execution_count": 10,
   "id": "55610cc7",
   "metadata": {},
   "outputs": [
    {
     "name": "stdout",
     "output_type": "stream",
     "text": [
      "5\n",
      "3\n"
     ]
    }
   ],
   "source": [
    "for i in range(5, 1, -2):\n",
    "    print(i)"
   ]
  },
  {
   "cell_type": "code",
   "execution_count": 11,
   "id": "67b3649c",
   "metadata": {},
   "outputs": [
    {
     "name": "stdout",
     "output_type": "stream",
     "text": [
      "0\n",
      "1\n",
      "2\n",
      "3\n",
      "4\n"
     ]
    }
   ],
   "source": [
    "for i in range(0, 5):\n",
    "    print(i)"
   ]
  },
  {
   "cell_type": "code",
   "execution_count": 12,
   "id": "132996f1",
   "metadata": {},
   "outputs": [
    {
     "name": "stdout",
     "output_type": "stream",
     "text": [
      "0\n",
      "1\n",
      "2\n",
      "3\n"
     ]
    }
   ],
   "source": [
    "for i in range(0,4, 1):\n",
    "    print(i)"
   ]
  },
  {
   "cell_type": "code",
   "execution_count": 13,
   "id": "fe512523",
   "metadata": {},
   "outputs": [],
   "source": [
    "for i in range(0, 4, -1):\n",
    "    print(i)"
   ]
  },
  {
   "cell_type": "code",
   "execution_count": 14,
   "id": "645146fb",
   "metadata": {},
   "outputs": [
    {
     "name": "stdout",
     "output_type": "stream",
     "text": [
      "4\n",
      "3\n",
      "2\n",
      "1\n"
     ]
    }
   ],
   "source": [
    "for i in range(4, 0, -1):\n",
    "    print(i)"
   ]
  },
  {
   "cell_type": "code",
   "execution_count": 15,
   "id": "db02e4ab",
   "metadata": {},
   "outputs": [
    {
     "name": "stdout",
     "output_type": "stream",
     "text": [
      "4\n",
      "2\n"
     ]
    }
   ],
   "source": [
    "for i in range(4, 0, -2):\n",
    "    print(i)"
   ]
  },
  {
   "cell_type": "code",
   "execution_count": 17,
   "id": "673d452b",
   "metadata": {},
   "outputs": [],
   "source": [
    "for i in range(4, -1):\n",
    "    print(i)"
   ]
  },
  {
   "cell_type": "code",
   "execution_count": 19,
   "id": "9f89ae71",
   "metadata": {},
   "outputs": [],
   "source": [
    "for i in range(0, 10, -4 ):\n",
    "    print(i)"
   ]
  },
  {
   "cell_type": "code",
   "execution_count": 20,
   "id": "06e87e93",
   "metadata": {},
   "outputs": [
    {
     "name": "stdout",
     "output_type": "stream",
     "text": [
      "0\n",
      "4\n",
      "8\n"
     ]
    }
   ],
   "source": [
    "for i in range(0, 10, 4):\n",
    "    print(i)"
   ]
  },
  {
   "cell_type": "code",
   "execution_count": 21,
   "id": "be5c4e2c",
   "metadata": {},
   "outputs": [
    {
     "name": "stdout",
     "output_type": "stream",
     "text": [
      "Enter the first number:5\n",
      " Enter the second number7\n",
      " lcm is  35\n"
     ]
    }
   ],
   "source": [
    "a = int(input(\"Enter the first number:\"))\n",
    "b = int(input(\" Enter the second number\"))\n",
    "\n",
    "if a > b:\n",
    "    min = a\n",
    "else:\n",
    "    min = b\n",
    "\n",
    "while 1:\n",
    "    if (min%a == 0 and min%b == 0):\n",
    "        print(\" lcm is \", min)\n",
    "        break\n",
    "    min = min +1"
   ]
  },
  {
   "cell_type": "code",
   "execution_count": null,
   "id": "915c9310",
   "metadata": {},
   "outputs": [],
   "source": [
    "Skip to content\n",
    "geeksforgeeks\n",
    "Courses\n",
    "Tutorials\n",
    "Jobs\n",
    "Practice\n",
    "Contests\n",
    "\n",
    "\n",
    "Sign In\n",
    "Sign In\n",
    "Home\n",
    "Saved Videos\n",
    "Courses\n",
    "For Working Professionals\n",
    "For Students\n",
    "For School Students\n",
    "Data Structures & Algorithms\n",
    "Data Structures\n",
    "Linked List\n",
    "Tree\n",
    "Algorithms\n",
    "Analysis of Algorithms\n",
    "Searching Algorithms\n",
    "Sorting Algorithms\n",
    "Company Wise SDE Sheets\n",
    "DSA Cheat Sheets\n",
    "Top Interview Questions\n",
    "Puzzles\n",
    "System Design\n",
    "System Design Tutorial\n",
    "Software Design Patterns\n",
    "Interview Corner\n",
    "Languages\n",
    "Web Development\n",
    "CSS Frameworks\n",
    "JavaScript Frameworks\n",
    "JavaScript Libraries\n",
    "Web Dev Cheat Sheets\n",
    "ML & Data Science\n",
    "Machine Learning\n",
    "Data Science Packages\n",
    "Data Visualization\n",
    "Data Visualization with Python\n",
    "Data Visualization with R\n",
    "Data Visualization Tools\n",
    "Data Analysis\n",
    "Deep Learning\n",
    "Interview Questions\n",
    "ML Frameworks\n",
    "CS Subjects\n",
    "DevOps\n",
    "School Learning\n",
    "Mathematics\n",
    "CBSE Syllabus\n",
    "Maths Notes (Class 8-12)\n",
    "Maths Formulas (Class 8 -11)\n",
    "NCERT Solutions\n",
    "RD Sharma Solutions\n",
    "Science Notes\n",
    "Physics Notes (Class 8-12)\n",
    "Chemistry Notes (Class 8-12)\n",
    "Biology Notes\n",
    "Social Science Syllabus\n",
    "Social Science Notes\n",
    "SS Notes (Class 7-12)\n",
    "CBSE History Notes (Class 7-10)\n",
    "CBSE Geography Notes (Class 7-10)\n",
    "CBSE Civics Notes (Class 7-10)\n",
    "CBSE Previous Year Papers\n",
    "Commerce\n",
    "CBSE Class 12 Previous Years Papers\n",
    "GATE\n",
    "Other CS Exams\n",
    "ISRO\n",
    "UGC NET\n",
    "UPSC Study Material\n",
    "History Notes\n",
    "Student\n",
    "SSC CGL Study Material\n",
    "Banking Exams Study Material\n",
    "SBI Clerk\n",
    "SBI PO\n",
    "IBPS PO\n",
    "IBPS Clerk\n",
    "For Job Seekers\n",
    "For Recruiters\n",
    "Curated DSA Lists\n",
    "Tutorials\n",
    "Jobs\n",
    "Practice\n",
    "Contests\n",
    "GBlog\n",
    "Puzzles\n",
    "What's New ?\n",
    " Change Language\n",
    "\n",
    "School Guide\n",
    "CBSE\n",
    "Class 12 Syllabus\n",
    "Maths Notes Class 12\n",
    "Physics Notes Class 12\n",
    "Chemistry Notes Class 12\n",
    "Business Studies Notes Class 12\n",
    "Accountancy Notes Class 12\n",
    "Macroeconomics Notes Class 12\n",
    "NCERT Solutions Class 12 Maths\n",
    "RD Sharma Solutions Class 12\n",
    "\n",
    "▲\n",
    "Related Articles\n",
    "Write an Admission Experience\n",
    "Share Your Campus Experience\n",
    "Libraries in Python\n",
    "What is Biometric Verification?\n",
    "SQL USE Database Statement\n",
    "Web Services – Definition, Working, Types, Applications\n",
    "Cursors in DBMS – Definition, Types, Attributes, Uses\n",
    "Basic Database Concepts\n",
    "Cardinality in DBMS\n",
    "Different Types of Wireless Communication Media\n",
    "SET ROWCOUNT Function in SQL Server\n",
    "What is Bandwidth? Definition, Working, Importance, Uses\n",
    "Reading Rows from a CSV File in Python\n",
    "What is an IP Address?\n",
    "Map Abstract Data Type\n",
    "How to Create a Database Connection?\n",
    "What is Data Transfer Rate?\n",
    "Collision Resolution Techniques\n",
    "Idea of Efficiency in Computational Thinking\n",
    "SQL Drop Table Statement\n",
    "Degree of Relations in DBMS\n",
    "Write an Admission Experience\n",
    "Get published on GeeksforGeeks!\n",
    "Join Write It Up.\n",
    "Libraries in Python\n",
    "What is Biometric Verification?\n",
    "SQL USE Database Statement\n",
    "Web Services – Definition, Working, Types, Applications\n",
    "Cursors in DBMS – Definition, Types, Attributes, Uses\n",
    "Basic Database Concepts\n",
    "Cardinality in DBMS\n",
    "Different Types of Wireless Communication Media\n",
    "SET ROWCOUNT Function in SQL Server\n",
    "What is Bandwidth? Definition, Working, Importance, Uses\n",
    "Reading Rows from a CSV File in Python\n",
    "What is an IP Address?\n",
    "Map Abstract Data Type\n",
    "How to Create a Database Connection?\n",
    "What is Data Transfer Rate?\n",
    "Collision Resolution Techniques\n",
    "Idea of Efficiency in Computational Thinking\n",
    "SQL Drop Table Statement\n",
    "Degree of Relations in DBMS\n",
    "Sorting Algorithms in Python\n",
    "B\n",
    "\n",
    "bskapardi2002\n",
    "Read\n",
    "Discuss\n",
    "Courses\n",
    "Practice\n",
    "\n",
    "Sorting is defined as an arrangement of data in a certain order. Sorting techniques are used to arrange data(mostly numerical) in an ascending or descending order. It is a method used for the representation of data in a more comprehensible format. It is an important area of Computer Science. Sorting a large amount of data can take a substantial amount of computing resources if the methods we use to sort the data are inefficient. The efficiency of the algorithm is proportional to the number of items it is traversing. For a small amount of data, a complex sorting method may be more trouble than it is worth. On the other hand, for larger amounts of data, we want to increase the efficiency and speed as far as possible. We will now discuss the several sorting techniques and compare them with respect to their time complexity.\n",
    "\n",
    "\n",
    "\n",
    "Some of the real-life examples of sorting are:\n",
    "\n",
    "Telephone Directory:  It is a book that contains telephone numbers and addresses of people in alphabetical order.\n",
    "Dictionary: It is a huge collection of words along with their meanings in alphabetical order.\n",
    "Contact List: It is a list of contact numbers of people in alphabetical order on a mobile phone.\n",
    "Before discussing the different algorithms used to sort the data given to us, we should think about the operations which can be used for the analysis of a sorting process. First, we need to compare the values to see which one is smaller and which one is larger so that they can be sorted into an order, it will be necessary to have an organized way to compare values to see that if they are in order. \n",
    "\n",
    "\n",
    "The different types of order are:\n",
    "\n",
    "Increasing Order: A set of values are said to be increasing order when every successive element is greater than its previous element. For example: 1, 2, 3, 4, 5. Here, the given sequence is in increasing order.\n",
    "Decreasing Order: A set of values are said to be in decreasing order when the successive element is always less than the previous one. For Example: 5, 4, 3, 2, 1. Here the given sequence is in decreasing order.\n",
    "Non-Increasing Order: A set of values are said to be in non-increasing order if every ith element present in the sequence is greater than or equal to its (i-1)th element. This order occurs whenever there are numbers that are being repeated. For Example: 1, 2, 2, 3, 4, 5. Here 2 repeated two times.\n",
    "Non-Decreasing Order: A set of values are said to be in non-decreasing order if every ith element present in the sequence is less than or equal to its (i-1)th element. This order occurs whenever there are numbers that are being repeated. For Example: 5, 4, 3, 2, 2, 1. Here 2 repeated two times.\n",
    "Sorting Techniques\n",
    "The different implementations of sorting techniques in Python are:\n",
    "\n",
    "Bubble Sort\n",
    "Selection Sort\n",
    "Insertion Sort\n",
    "Bubble Sort\n",
    "Bubble Sort is a simple sorting algorithm. This sorting algorithm repeatedly compares two adjacent elements and swaps them if they are in the wrong order. It is also known as the sinking sort. It has a time complexity of O(n2) in the average and worst cases scenarios and O(n) in the best-case scenario. Bubble sort can be visualized as a queue where people arrange themselves by swapping with each other so that they all can stand in ascending order of their heights. Or in other words, we compare two adjacent elements and see if their order is wrong, if the order is wrong we swap them. (i.e arr[i] > arr[j] for 1 <= i < j <= s; where s is the size of the array, if array is to be in ascending order, and vice-versa).\n",
    "\n",
    "Example \n",
    "\n",
    "Here we sort the following sequence using bubble sort\n",
    "\n",
    "Sequence: 2, 23, 10, 1\n",
    "\n",
    "First Iteration\n",
    "\n",
    "(2, 23, 10, 1) –> (2, 23, 10, 1), Here the first 2 elements are compared and remain the same because they are already in ascending order.\n",
    "\n",
    "(2, 23, 10, 1) –> (2, 10, 23, 1), Here 2nd and 3rd elements are compared and swapped(10 is less than 23) according to ascending order.\n",
    "\n",
    "(2, 10, 23, 1) –> (2, 10, 1, 23), Here 3rd and 4th elements are compared and swapped(1 is less than 23) according to ascending order\n",
    "\n",
    "At the end of the first iteration, the largest element is at the rightmost position which is sorted correctly.\n",
    "\n",
    "Second Iteration\n",
    "\n",
    "(2, 10, 1, 23) –> (2, 10, 1, 23), Here again, the first 2 elements are compared and remain the same because they are already in ascending order.\n",
    "\n",
    "(2, 10, 1, 23) –> (2, 1, 10, 23), Here 2nd and 3rd elements are compared and swapped(1 is less than 10) in ascending order.\n",
    "\n",
    "At the end of the second iteration, the second largest element is at the adjacent position to the largest element.\n",
    "\n",
    "Third Iteration\n",
    "\n",
    "(2, 1, 10, 23) –> (1, 2, 10, 23), Here the first 2 elements are compared and swap according to ascending order.\n",
    "\n",
    "The remaining elements are already sorted in the first and second Iterations. After the three iterations, the given array is sorted in ascending order. So the final result is 1, 2, 10, 23.\n",
    "\n",
    "Implementation of Bubble Sort:\n",
    "\n",
    "\n",
    "# Python3 program for Bubble Sort Algorithm Implementation\n",
    "def bubbleSort(arr):\n",
    "     \n",
    "    n = len(arr)\n",
    " \n",
    "    # For loop to traverse through all\n",
    "    # element in an array\n",
    "    for i in range(n):\n",
    "        for j in range(0, n - i - 1):\n",
    "             \n",
    "            # Range of the array is from 0 to n-i-1\n",
    "            # Swap the elements if the element found\n",
    "            #is greater than the adjacent element\n",
    "            if arr[j] > arr[j + 1]:\n",
    "                arr[j], arr[j + 1] = arr[j + 1], arr[j]\n",
    "                 \n",
    "# Driver code\n",
    " \n",
    "# Example to test the above code\n",
    "arr = [ 2, 1, 10, 23 ]\n",
    " \n",
    "bubbleSort(arr)\n",
    " \n",
    "print(\"Sorted array is:\")\n",
    "for i in range(len(arr)):\n",
    "    print(\"%d\" % arr[i])\n",
    "Output\n",
    "Sorted array is:\n",
    "1\n",
    "2\n",
    "10\n",
    "23\n",
    "Time Complexity: O(n2)\n",
    "Auxiliary Space: O(1)\n",
    "\n",
    "Selection Sort\n",
    "This sorting technique repeatedly finds the minimum element and sort it in order. Bubble Sort does not occupy any extra memory space. During the execution of this algorithm, two subarrays are maintained, the subarray which is already sorted, and the remaining subarray which is unsorted. During the execution of Selection Sort for every iteration, the minimum element of the unsorted subarray is arranged in the sorted subarray. Selection Sort is a more efficient algorithm than bubble sort. Sort has a Time-Complexity of O(n2) in the average, worst, and in the best cases.\n",
    "\n",
    "Example \n",
    "\n",
    "Here we sort the following sequence using the selection sort\n",
    "\n",
    "Sequence: 7, 2, 1, 6\n",
    "\n",
    "(7, 2, 1, 6) –> (1, 7, 2, 6), In the first traverse it finds the minimum element(i.e., 1) and it is placed at 1st position.\n",
    "\n",
    "(1, 7, 2, 6) –> (1, 2, 7, 6), In the second traverse it finds the 2nd minimum element(i.e., 2) and it is placed at 2nd position.\n",
    "\n",
    "(1, 2, 7, 6) –> (1, 2, 6, 7), In the third traverse it finds the next minimum element(i.e., 6) and it is placed at 3rd position.\n",
    "\n",
    "After the above iterations, the final array is in sorted order, i.e., 1, 2, 6, 7.\n",
    "\n",
    "Implementation of Selection Sort\n",
    "\n",
    "\n",
    "# Selection Sort algorithm in Python\n",
    "def selectionSort(array, size):\n",
    "     \n",
    "    for s in range(size):\n",
    "        min_idx = s\n",
    "         \n",
    "        for i in range(s + 1, size):\n",
    "             \n",
    "            # For sorting in descending order\n",
    "            # for minimum element in each loop\n",
    "            if array[i] < array[min_idx]:\n",
    "                min_idx = i\n",
    " \n",
    "        # Arranging min at the correct position\n",
    "        (array[s], array[min_idx]) = (array[min_idx], array[s])\n",
    " \n",
    "# Driver code\n",
    "data = [ 7, 2, 1, 6 ]\n",
    "size = len(data)\n",
    "selectionSort(data, size)\n",
    " \n",
    "print('Sorted Array in Ascending Order is :')\n",
    "print(data)\n",
    "Output\n",
    "Sorted Array in Ascending Order is :\n",
    "[1, 2, 6, 7]\n",
    "Time Complexity: O(n2)\n",
    "Auxiliary Space: O(1)\n",
    "\n",
    "Insertion Sort\n",
    "This sorting algorithm maintains a sub-array that is always sorted. Values from the unsorted part of the array are placed at the correct position in the sorted part. It is more efficient in practice than other algorithms such as selection sort or bubble sort. Insertion Sort has a Time-Complexity of O(n2) in the average and worst case, and O(n) in the best case.\n",
    "\n",
    "Example \n",
    "\n",
    "Here we sort the following sequence using the insertion sort\n",
    "\n",
    "Sequence: 7, 2, 1, 6\n",
    "\n",
    "(7, 2, 1, 6) –> (2, 7, 1, 6), In the first iteration, the first 2 elements are compared, here 2 is less than 7 so insert 2 before 7.\n",
    "\n",
    "(2, 7, 1, 6) –> (2, 1, 7, 6), In the second iteration the 2nd and 3rd elements are compared, here 1 is less than 7 so insert 1 before 7.\n",
    "\n",
    "(2, 1, 7, 6) –> (1, 2, 7, 6), After the second iteration (1, 7) elements are not in ascending order so first these two elements are arranged. So, insert 1 before 2. \n",
    "\n",
    "(1, 2, 7, 6) –> (1, 2, 6, 7), During this iteration the last 2 elements are compared and swapped after all the previous elements are swapped. \n",
    "\n",
    "Implementation of Insertion Sort\n",
    "\n",
    "\n",
    "ccccccccccccc\n",
    "How to Use Algorithms to Solve Problems?\n",
    "2.\n",
    "Python | Set 4 (Dictionary, Keywords in Python)\n",
    "3.\n",
    "Python – The new generation Language\n",
    "4.\n",
    "Increment and Decrement Operators in Python\n",
    "5.\n",
    "Interesting facts about strings in Python | Set 1\n",
    "6.\n",
    "Interesting facts about strings in Python | Set 2 (Slicing)\n",
    "7.\n",
    "Python List Comprehension and Slicing\n",
    "8.\n",
    "Loops and Control Statements (continue, break and pass) in Python\n",
    "9.\n",
    "Object Oriented Programming in Python | Set 2 (Data Hiding and Object Printing)\n",
    "10.\n",
    "Ternary Operator in Python\n",
    "Related Tutorials\n",
    "1.\n",
    "Coding For Kids - Online Free Tutorial to Learn Coding\n",
    "2.\n",
    "Economics\n",
    "3.\n",
    "Computer Science and Programming For Kids\n",
    "4.\n",
    "Maths\n",
    "5.\n",
    "Indian Economic Development\n",
    "Previous\n",
    "Process Capability Index (Cpk) Formula\n",
    "Next\n",
    "Create Fountain Animation with Flash\n",
    "Article Contributed By :\n",
    "B\n",
    "\n",
    "bskapardi2002\n",
    "bskapardi2002\n",
    " Follow\n",
    "Vote for difficulty\n",
    "Current difficulty : Easy\n",
    "Easy\n",
    "Normal\n",
    "Medium\n",
    "Hard\n",
    "Expert\n",
    "Improved By :\n",
    "avtarkumar719\n",
    "germanshephered48\n",
    "nikhatkhan11\n",
    "abhijeet19403\n",
    "abhishek_0603\n",
    "Article Tags :\n",
    "Picked\n",
    "Class 12\n",
    "School Learning\n",
    "School Programming\n",
    "Improve Article\n",
    "Report Issue\n",
    "\n",
    "Join our Community\n",
    "Courses\n",
    "course-img\n",
    "5k+ interested Geeks\n",
    "CBSE Class 12 Computer Science\n",
    "Explore\n",
    "course-img\n",
    "147k+ interested Geeks\n",
    "Master Java Programming - Complete Beginner to Advanced\n",
    "Explore\n",
    "course-img\n",
    "150k+ interested Geeks\n",
    "Python Programming Foundation - Self Paced\n",
    "Explore\n",
    "\n",
    "geeksforgeeks-footer-logo\n",
    "A-143, 9th Floor, Sovereign Corporate Tower, Sector-136, Noida, Uttar Pradesh - 201305\n",
    "feedback@geeksforgeeks.org\n",
    "GFG App on Play Store\n",
    "GFG App on App Store\n",
    "Company\n",
    "About Us\n",
    "Legal\n",
    "Careers\n",
    "In Media\n",
    "Contact Us\n",
    "Advertise with us\n",
    "Explore\n",
    "Job-A-Thon For Freshers\n",
    "Job-A-Thon For Experienced\n",
    "GfG Weekly Contest\n",
    "Offline Classes (Delhi/NCR)\n",
    "DSA in JAVA/C++\n",
    "Master System Design\n",
    "Master CP\n",
    "Languages\n",
    "Python\n",
    "Java\n",
    "C++\n",
    "PHP\n",
    "GoLang\n",
    "SQL\n",
    "R Language\n",
    "Android Tutorial\n",
    "Data Structures\n",
    "Array\n",
    "String\n",
    "Linked List\n",
    "Stack\n",
    "Queue\n",
    "Tree\n",
    "Graph\n",
    "Algorithms\n",
    "Sorting\n",
    "Searching\n",
    "Greedy\n",
    "Dynamic Programming\n",
    "Pattern Searching\n",
    "Recursion\n",
    "Backtracking\n",
    "Web Development\n",
    "HTML\n",
    "CSS\n",
    "JavaScript\n",
    "Bootstrap\n",
    "ReactJS\n",
    "AngularJS\n",
    "NodeJS\n",
    "Computer Science\n",
    "GATE CS Notes\n",
    "Operating Systems\n",
    "Computer Network\n",
    "Database Management System\n",
    "Software Engineering\n",
    "Digital Logic Design\n",
    "Engineering Maths\n",
    "Python\n",
    "Python Programming Examples\n",
    "Django Tutorial\n",
    "Python Projects\n",
    "Python Tkinter\n",
    "OpenCV Python Tutorial\n",
    "Python Interview Question\n",
    "Data Science & ML\n",
    "Data Science With Python\n",
    "Data Science For Beginner\n",
    "Machine Learning Tutorial\n",
    "Maths For Machine Learning\n",
    "Pandas Tutorial\n",
    "NumPy Tutorial\n",
    "NLP Tutorial\n",
    "Deep Learning Tutorial\n",
    "DevOps\n",
    "Git\n",
    "AWS\n",
    "Docker\n",
    "Kubernetes\n",
    "Azure\n",
    "GCP\n",
    "Competitive Programming\n",
    "Top DSA for CP\n",
    "Top 50 Tree Problems\n",
    "Top 50 Graph Problems\n",
    "Top 50 Array Problems\n",
    "Top 50 String Problems\n",
    "Top 50 DP Problems\n",
    "Top 15 Websites for CP\n",
    "System Design\n",
    "What is System Design\n",
    "Monolithic and Distributed SD\n",
    "Scalability in SD\n",
    "Databases in SD\n",
    "High Level Design or HLD\n",
    "Low Level Design or LLD\n",
    "Top SD Interview Questions\n",
    "Interview Corner\n",
    "Company Wise Preparation\n",
    "Preparation for SDE\n",
    "Experienced Interviews\n",
    "Internship Interviews\n",
    "Competitive Programming\n",
    "Aptitude Preparation\n",
    "GfG School\n",
    "CBSE Notes for Class 8\n",
    "CBSE Notes for Class 9\n",
    "CBSE Notes for Class 10\n",
    "CBSE Notes for Class 11\n",
    "CBSE Notes for Class 12\n",
    "English Grammar\n",
    "Commerce\n",
    "Accountancy\n",
    "Business Studies\n",
    "Economics\n",
    "Management\n",
    "Income Tax\n",
    "Finance\n",
    "UPSC\n",
    "Polity Notes\n",
    "Geography Notes\n",
    "History Notes\n",
    "Science and Technology Notes\n",
    "Economics Notes\n",
    "Important Topics in Ethics\n",
    "UPSC Previous Year Papers\n",
    "SSC/ BANKING\n",
    "SSC CGL Syllabus\n",
    "SBI PO Syllabus\n",
    "SBI Clerk Syllabus\n",
    "IBPS PO Syllabus\n",
    "IBPS Clerk Syllabus\n",
    "Aptitude Questions\n",
    "SSC CGL Practice Papers\n",
    "Write & Earn\n",
    "Write an Article\n",
    "Improve an Article\n",
    "Pick Topics to Write\n",
    "Write Interview Experience\n",
    "Internships\n",
    "Video Internship\n",
    "@geeksforgeeks , Some rights reserved\n",
    "We use cookies to ensure you have the best browsing experience on our website. By using our site, you acknowledge that you have read and understood our Cookie Policy & Privacy Policy\n",
    "Got It !\n",
    "Lightbox"
   ]
  },
  {
   "cell_type": "code",
   "execution_count": null,
   "id": "523e217a",
   "metadata": {},
   "outputs": [],
   "source": [
    "def bubbleSort(arr):\n",
    "     \n",
    "    n = len(arr)\n",
    " \n",
    "    # For loop to traverse through all\n",
    "    # element in an array\n",
    "    for i in range(n):\n",
    "        for j in range(0, n - i - 1):\n",
    "             \n",
    "            # Range of the array is from 0 to n-i-1\n",
    "            # Swap the elements if the element found\n",
    "            #is greater than the adjacent element\n",
    "            if arr[j] > arr[j + 1]:\n",
    "                arr[j], arr[j + 1] = arr[j + 1], arr[j]\n",
    "                 \n",
    "# Driver code\n",
    " \n",
    "# Example to test the above code\n",
    "arr = [ 2, 1, 10, 23 ]\n",
    " \n",
    "bubbleSort(arr)\n",
    " \n",
    "print(\"Sorted array is:\")\n",
    "for i in range(len(arr)):\n",
    "    print(\"%d\" % arr[i])\n",
    "Output\n",
    "Sorted array is:\n",
    "1\n",
    "2\n",
    "10\n",
    "23\n",
    "Time Complexity: O(n2)\n",
    "Auxiliary Space: O(1)"
   ]
  },
  {
   "cell_type": "code",
   "execution_count": null,
   "id": "1675c958",
   "metadata": {},
   "outputs": [],
   "source": [
    "# Selection Sort algorithm in Python\n",
    "def selectionSort(array, size):\n",
    "     \n",
    "    for s in range(size):\n",
    "        min_idx = s\n",
    "         \n",
    "        for i in range(s + 1, size):\n",
    "             \n",
    "            # For sorting in descending order\n",
    "            # for minimum element in each loop\n",
    "            if array[i] < array[min_idx]:\n",
    "                min_idx = i\n",
    " \n",
    "        # Arranging min at the correct position\n",
    "        (array[s], array[min_idx]) = (array[min_idx], array[s])\n",
    " \n",
    "# Driver code\n",
    "data = [ 7, 2, 1, 6 ]\n",
    "size = len(data)\n",
    "selectionSort(data, size)\n",
    " \n",
    "print('Sorted Array in Ascending Order is :')\n",
    "print(data)\n",
    "Output\n",
    "Sorted Array in Ascending Order is :\n",
    "[1, 2, 6, 7]\n",
    "Time Complexity: O(n2)\n",
    "Auxiliary Space: O(1)\n"
   ]
  },
  {
   "cell_type": "code",
   "execution_count": null,
   "id": "c70e5f6e",
   "metadata": {},
   "outputs": [],
   "source": []
  }
 ],
 "metadata": {
  "kernelspec": {
   "display_name": "Python 3 (ipykernel)",
   "language": "python",
   "name": "python3"
  },
  "language_info": {
   "codemirror_mode": {
    "name": "ipython",
    "version": 3
   },
   "file_extension": ".py",
   "mimetype": "text/x-python",
   "name": "python",
   "nbconvert_exporter": "python",
   "pygments_lexer": "ipython3",
   "version": "3.10.12"
  }
 },
 "nbformat": 4,
 "nbformat_minor": 5
}
